{
 "cells": [
  {
   "cell_type": "code",
   "execution_count": 2,
   "metadata": {},
   "outputs": [],
   "source": [
    "import pickle \n",
    "\n",
    "import matplotlib.pyplot as plt\n",
    "import seaborn as sns \n",
    "import pandas as pd\n",
    "import numpy as np\n",
    "\n",
    "from sklearn.linear_model import LogisticRegression\n",
    "\n",
    "from sklearn.preprocessing import StandardScaler\n",
    "\n",
    "from sklearn.neighbors import KNeighborsClassifier\n",
    "\n",
    "from sklearn.model_selection import RandomizedSearchCV, train_test_split, KFold \n",
    "from sklearn import svm\n",
    "\n",
    "from sklearn.metrics import roc_curve, classification_report, confusion_matrix\n",
    "from sklearn.metrics import precision_score, accuracy_score, recall_score, precision_recall_curve, f1_score, roc_auc_score\n",
    "%matplotlib inline\n",
    "\n",
    "from sklearn.naive_bayes import GaussianNB\n",
    "from sklearn.ensemble import RandomForestClassifier\n",
    "\n",
    "from sklearn.utils.class_weight import compute_class_weight\n"
   ]
  },
  {
   "cell_type": "code",
   "execution_count": 3,
   "metadata": {},
   "outputs": [
    {
     "data": {
      "text/plain": [
       "(10854, 5)"
      ]
     },
     "execution_count": 3,
     "metadata": {},
     "output_type": "execute_result"
    }
   ],
   "source": [
    "d_ts=pd.read_csv(r\"C:\\Users\\Admin\\Desktop\\python\\project 6\\test_share.csv\".replace('\\\\', '/'))\n",
    "                \n",
    "d_ts.shape  "
   ]
  },
  {
   "cell_type": "code",
   "execution_count": 4,
   "metadata": {},
   "outputs": [
    {
     "data": {
      "text/plain": [
       "(99490, 6)"
      ]
     },
     "execution_count": 4,
     "metadata": {},
     "output_type": "execute_result"
    }
   ],
   "source": [
    "d_tr=pd.read_csv(r\"C:\\Users\\Admin\\Desktop\\python\\project 6\\train.csv\".replace('\\\\', '/'))\n",
    "d_tr.shape"
   ]
  },
  {
   "cell_type": "code",
   "execution_count": 5,
   "metadata": {},
   "outputs": [
    {
     "data": {
      "text/plain": [
       "(62299, 5)"
      ]
     },
     "execution_count": 5,
     "metadata": {},
     "output_type": "execute_result"
    }
   ],
   "source": [
    "d_dem=pd.read_csv(r\"C:\\Users\\Admin\\Desktop\\python\\project 6\\demographic_details.csv\".replace('\\\\', '/'))  \n",
    "d_dem.shape"
   ]
  },
  {
   "cell_type": "code",
   "execution_count": 6,
   "metadata": {},
   "outputs": [
    {
     "data": {
      "text/plain": [
       "(62299, 5)"
      ]
     },
     "execution_count": 6,
     "metadata": {},
     "output_type": "execute_result"
    }
   ],
   "source": [
    "d_med=pd.read_csv(r\"C:\\Users\\Admin\\Desktop\\python\\project 6\\medical_history.csv\".replace('\\\\', '/'))\n",
    "d_med.shape\n"
   ]
  },
  {
   "cell_type": "code",
   "execution_count": 7,
   "metadata": {},
   "outputs": [
    {
     "data": {
      "text/html": [
       "<div>\n",
       "<style scoped>\n",
       "    .dataframe tbody tr th:only-of-type {\n",
       "        vertical-align: middle;\n",
       "    }\n",
       "\n",
       "    .dataframe tbody tr th {\n",
       "        vertical-align: top;\n",
       "    }\n",
       "\n",
       "    .dataframe thead th {\n",
       "        text-align: right;\n",
       "    }\n",
       "</style>\n",
       "<table border=\"1\" class=\"dataframe\">\n",
       "  <thead>\n",
       "    <tr style=\"text-align: right;\">\n",
       "      <th></th>\n",
       "      <th>PatientId</th>\n",
       "      <th>Hipertension</th>\n",
       "      <th>Diabetes</th>\n",
       "      <th>Alcoholism</th>\n",
       "      <th>Handcap</th>\n",
       "      <th>Gender</th>\n",
       "      <th>Age</th>\n",
       "      <th>Neighbourhood</th>\n",
       "      <th>Scholarship</th>\n",
       "    </tr>\n",
       "  </thead>\n",
       "  <tbody>\n",
       "    <tr>\n",
       "      <th>0</th>\n",
       "      <td>2.987250e+13</td>\n",
       "      <td>1</td>\n",
       "      <td>0</td>\n",
       "      <td>0</td>\n",
       "      <td>0</td>\n",
       "      <td>F</td>\n",
       "      <td>62</td>\n",
       "      <td>JARDIM DA PENHA</td>\n",
       "      <td>0</td>\n",
       "    </tr>\n",
       "    <tr>\n",
       "      <th>1</th>\n",
       "      <td>5.589978e+14</td>\n",
       "      <td>0</td>\n",
       "      <td>0</td>\n",
       "      <td>0</td>\n",
       "      <td>0</td>\n",
       "      <td>M</td>\n",
       "      <td>56</td>\n",
       "      <td>JARDIM DA PENHA</td>\n",
       "      <td>0</td>\n",
       "    </tr>\n",
       "    <tr>\n",
       "      <th>2</th>\n",
       "      <td>4.262962e+12</td>\n",
       "      <td>0</td>\n",
       "      <td>0</td>\n",
       "      <td>0</td>\n",
       "      <td>0</td>\n",
       "      <td>F</td>\n",
       "      <td>62</td>\n",
       "      <td>MATA DA PRAIA</td>\n",
       "      <td>0</td>\n",
       "    </tr>\n",
       "    <tr>\n",
       "      <th>3</th>\n",
       "      <td>8.679512e+11</td>\n",
       "      <td>0</td>\n",
       "      <td>0</td>\n",
       "      <td>0</td>\n",
       "      <td>0</td>\n",
       "      <td>F</td>\n",
       "      <td>8</td>\n",
       "      <td>PONTAL DE CAMBURI</td>\n",
       "      <td>0</td>\n",
       "    </tr>\n",
       "    <tr>\n",
       "      <th>4</th>\n",
       "      <td>8.841186e+12</td>\n",
       "      <td>1</td>\n",
       "      <td>1</td>\n",
       "      <td>0</td>\n",
       "      <td>0</td>\n",
       "      <td>F</td>\n",
       "      <td>56</td>\n",
       "      <td>JARDIM DA PENHA</td>\n",
       "      <td>0</td>\n",
       "    </tr>\n",
       "    <tr>\n",
       "      <th>...</th>\n",
       "      <td>...</td>\n",
       "      <td>...</td>\n",
       "      <td>...</td>\n",
       "      <td>...</td>\n",
       "      <td>...</td>\n",
       "      <td>...</td>\n",
       "      <td>...</td>\n",
       "      <td>...</td>\n",
       "      <td>...</td>\n",
       "    </tr>\n",
       "    <tr>\n",
       "      <th>62294</th>\n",
       "      <td>9.876246e+13</td>\n",
       "      <td>0</td>\n",
       "      <td>0</td>\n",
       "      <td>0</td>\n",
       "      <td>0</td>\n",
       "      <td>F</td>\n",
       "      <td>41</td>\n",
       "      <td>MARIA ORTIZ</td>\n",
       "      <td>0</td>\n",
       "    </tr>\n",
       "    <tr>\n",
       "      <th>62295</th>\n",
       "      <td>8.674778e+13</td>\n",
       "      <td>0</td>\n",
       "      <td>0</td>\n",
       "      <td>0</td>\n",
       "      <td>0</td>\n",
       "      <td>M</td>\n",
       "      <td>2</td>\n",
       "      <td>ANTÔNIO HONÓRIO</td>\n",
       "      <td>0</td>\n",
       "    </tr>\n",
       "    <tr>\n",
       "      <th>62296</th>\n",
       "      <td>7.263315e+13</td>\n",
       "      <td>0</td>\n",
       "      <td>0</td>\n",
       "      <td>0</td>\n",
       "      <td>0</td>\n",
       "      <td>F</td>\n",
       "      <td>50</td>\n",
       "      <td>MARIA ORTIZ</td>\n",
       "      <td>0</td>\n",
       "    </tr>\n",
       "    <tr>\n",
       "      <th>62297</th>\n",
       "      <td>9.969977e+14</td>\n",
       "      <td>0</td>\n",
       "      <td>0</td>\n",
       "      <td>0</td>\n",
       "      <td>0</td>\n",
       "      <td>F</td>\n",
       "      <td>42</td>\n",
       "      <td>MARIA ORTIZ</td>\n",
       "      <td>0</td>\n",
       "    </tr>\n",
       "    <tr>\n",
       "      <th>62298</th>\n",
       "      <td>1.557663e+13</td>\n",
       "      <td>0</td>\n",
       "      <td>0</td>\n",
       "      <td>0</td>\n",
       "      <td>0</td>\n",
       "      <td>F</td>\n",
       "      <td>21</td>\n",
       "      <td>MARIA ORTIZ</td>\n",
       "      <td>0</td>\n",
       "    </tr>\n",
       "  </tbody>\n",
       "</table>\n",
       "<p>62299 rows × 9 columns</p>\n",
       "</div>"
      ],
      "text/plain": [
       "          PatientId  Hipertension  Diabetes  Alcoholism  Handcap Gender  Age  \\\n",
       "0      2.987250e+13             1         0           0        0      F   62   \n",
       "1      5.589978e+14             0         0           0        0      M   56   \n",
       "2      4.262962e+12             0         0           0        0      F   62   \n",
       "3      8.679512e+11             0         0           0        0      F    8   \n",
       "4      8.841186e+12             1         1           0        0      F   56   \n",
       "...             ...           ...       ...         ...      ...    ...  ...   \n",
       "62294  9.876246e+13             0         0           0        0      F   41   \n",
       "62295  8.674778e+13             0         0           0        0      M    2   \n",
       "62296  7.263315e+13             0         0           0        0      F   50   \n",
       "62297  9.969977e+14             0         0           0        0      F   42   \n",
       "62298  1.557663e+13             0         0           0        0      F   21   \n",
       "\n",
       "           Neighbourhood  Scholarship  \n",
       "0        JARDIM DA PENHA            0  \n",
       "1        JARDIM DA PENHA            0  \n",
       "2          MATA DA PRAIA            0  \n",
       "3      PONTAL DE CAMBURI            0  \n",
       "4        JARDIM DA PENHA            0  \n",
       "...                  ...          ...  \n",
       "62294        MARIA ORTIZ            0  \n",
       "62295    ANTÔNIO HONÓRIO            0  \n",
       "62296        MARIA ORTIZ            0  \n",
       "62297        MARIA ORTIZ            0  \n",
       "62298        MARIA ORTIZ            0  \n",
       "\n",
       "[62299 rows x 9 columns]"
      ]
     },
     "execution_count": 7,
     "metadata": {},
     "output_type": "execute_result"
    }
   ],
   "source": [
    "d_join=pd.merge(d_med,d_dem,on=['PatientId'],how='outer')\n",
    "d_join"
   ]
  },
  {
   "cell_type": "code",
   "execution_count": 8,
   "metadata": {},
   "outputs": [
    {
     "data": {
      "text/plain": [
       "(Index(['PatientId', 'AppointmentID', 'ScheduledDay', 'AppointmentDay',\n",
       "        'SMS_received'],\n",
       "       dtype='object'),\n",
       " Index(['PatientId', 'Hipertension', 'Diabetes', 'Alcoholism', 'Handcap'], dtype='object'),\n",
       " Index(['PatientId', 'Gender', 'Age', 'Neighbourhood', 'Scholarship'], dtype='object'),\n",
       " Index(['PatientId', 'AppointmentID', 'ScheduledDay', 'AppointmentDay',\n",
       "        'SMS_received', 'No-show'],\n",
       "       dtype='object'))"
      ]
     },
     "execution_count": 8,
     "metadata": {},
     "output_type": "execute_result"
    }
   ],
   "source": [
    "d_ts.columns,d_med.columns,d_dem.columns,d_tr.columns"
   ]
  },
  {
   "cell_type": "code",
   "execution_count": 9,
   "metadata": {},
   "outputs": [],
   "source": [
    "d_ts1=pd.merge(d_ts,d_join,on=['PatientId'],how='left')"
   ]
  },
  {
   "cell_type": "code",
   "execution_count": 10,
   "metadata": {},
   "outputs": [],
   "source": [
    "d_tr1=pd.merge(d_tr,d_join,on=['PatientId'],how='left')"
   ]
  },
  {
   "cell_type": "code",
   "execution_count": 11,
   "metadata": {},
   "outputs": [],
   "source": [
    "d_ts1['No-show']=np.nan\n",
    "d_tr1['data']='train'\n",
    "d_ts1['data']='test'\n",
    "d_ts1=d_ts1[d_tr1.columns]\n",
    "dm_all=pd.concat([d_tr1,d_ts1],axis=0)"
   ]
  },
  {
   "cell_type": "code",
   "execution_count": 12,
   "metadata": {},
   "outputs": [
    {
     "data": {
      "text/plain": [
       "(110344, 15)"
      ]
     },
     "execution_count": 12,
     "metadata": {},
     "output_type": "execute_result"
    }
   ],
   "source": [
    "dm_all.shape"
   ]
  },
  {
   "cell_type": "code",
   "execution_count": 13,
   "metadata": {},
   "outputs": [],
   "source": [
    "dm_all.rename(columns = {'Hipertension': 'Hypertension',\n",
    "                         'Handcap': 'Handicap'}, inplace = True)"
   ]
  },
  {
   "cell_type": "code",
   "execution_count": 14,
   "metadata": {},
   "outputs": [],
   "source": [
    "dm_all.drop('AppointmentID',axis=1,inplace=True)\n",
    "dm_all.drop('PatientId',axis=1,inplace=True)"
   ]
  },
  {
   "cell_type": "code",
   "execution_count": 15,
   "metadata": {},
   "outputs": [],
   "source": [
    "dm_all['No-show']=np.where(dm_all['No-show']==\"Yes\",1,0)"
   ]
  },
  {
   "cell_type": "code",
   "execution_count": 16,
   "metadata": {},
   "outputs": [
    {
     "data": {
      "text/plain": [
       "0    90214\n",
       "1    20130\n",
       "Name: No-show, dtype: int64"
      ]
     },
     "execution_count": 16,
     "metadata": {},
     "output_type": "execute_result"
    }
   ],
   "source": [
    "dm_all[\"No-show\"].value_counts()"
   ]
  },
  {
   "cell_type": "code",
   "execution_count": 17,
   "metadata": {},
   "outputs": [
    {
     "name": "stdout",
     "output_type": "stream",
     "text": [
      "<class 'pandas.core.frame.DataFrame'>\n",
      "Int64Index: 110344 entries, 0 to 10853\n",
      "Data columns (total 13 columns):\n",
      " #   Column          Non-Null Count   Dtype \n",
      "---  ------          --------------   ----- \n",
      " 0   ScheduledDay    110344 non-null  object\n",
      " 1   AppointmentDay  110344 non-null  object\n",
      " 2   SMS_received    110344 non-null  int64 \n",
      " 3   No-show         110344 non-null  int32 \n",
      " 4   Hypertension    110344 non-null  int64 \n",
      " 5   Diabetes        110344 non-null  int64 \n",
      " 6   Alcoholism      110344 non-null  int64 \n",
      " 7   Handicap        110344 non-null  int64 \n",
      " 8   Gender          110344 non-null  object\n",
      " 9   Age             110344 non-null  int64 \n",
      " 10  Neighbourhood   110344 non-null  object\n",
      " 11  Scholarship     110344 non-null  int64 \n",
      " 12  data            110344 non-null  object\n",
      "dtypes: int32(1), int64(7), object(5)\n",
      "memory usage: 11.4+ MB\n"
     ]
    }
   ],
   "source": [
    "dm_all.info()"
   ]
  },
  {
   "cell_type": "code",
   "execution_count": 18,
   "metadata": {},
   "outputs": [
    {
     "data": {
      "text/plain": [
       "0    90214\n",
       "1    20130\n",
       "Name: No-show, dtype: int64"
      ]
     },
     "execution_count": 18,
     "metadata": {},
     "output_type": "execute_result"
    }
   ],
   "source": [
    "dm_all['No-show'].value_counts()"
   ]
  },
  {
   "cell_type": "code",
   "execution_count": 19,
   "metadata": {},
   "outputs": [],
   "source": [
    "# Convert ScheduledDay and AppointmentDay to datetime64[ns]\n",
    "dm_all['ScheduledDay'] = pd.to_datetime(dm_all['ScheduledDay']).dt.date.astype('datetime64[ns]')\n",
    "dm_all['AppointmentDay'] = pd.to_datetime(dm_all['AppointmentDay']).dt.date.astype('datetime64[ns]')"
   ]
  },
  {
   "cell_type": "code",
   "execution_count": 20,
   "metadata": {},
   "outputs": [
    {
     "data": {
      "text/html": [
       "<div>\n",
       "<style scoped>\n",
       "    .dataframe tbody tr th:only-of-type {\n",
       "        vertical-align: middle;\n",
       "    }\n",
       "\n",
       "    .dataframe tbody tr th {\n",
       "        vertical-align: top;\n",
       "    }\n",
       "\n",
       "    .dataframe thead th {\n",
       "        text-align: right;\n",
       "    }\n",
       "</style>\n",
       "<table border=\"1\" class=\"dataframe\">\n",
       "  <thead>\n",
       "    <tr style=\"text-align: right;\">\n",
       "      <th></th>\n",
       "      <th>ScheduledDay</th>\n",
       "      <th>AppointmentDay</th>\n",
       "      <th>SMS_received</th>\n",
       "      <th>No-show</th>\n",
       "      <th>Hypertension</th>\n",
       "      <th>Diabetes</th>\n",
       "      <th>Alcoholism</th>\n",
       "      <th>Handicap</th>\n",
       "      <th>Gender</th>\n",
       "      <th>Age</th>\n",
       "      <th>Neighbourhood</th>\n",
       "      <th>Scholarship</th>\n",
       "      <th>data</th>\n",
       "      <th>ScheduledDate</th>\n",
       "      <th>AppoinmentDate</th>\n",
       "    </tr>\n",
       "  </thead>\n",
       "  <tbody>\n",
       "    <tr>\n",
       "      <th>0</th>\n",
       "      <td>2016-04-29</td>\n",
       "      <td>2016-04-29</td>\n",
       "      <td>0</td>\n",
       "      <td>0</td>\n",
       "      <td>1</td>\n",
       "      <td>0</td>\n",
       "      <td>0</td>\n",
       "      <td>0</td>\n",
       "      <td>F</td>\n",
       "      <td>62</td>\n",
       "      <td>JARDIM DA PENHA</td>\n",
       "      <td>0</td>\n",
       "      <td>train</td>\n",
       "      <td>2016-04-29</td>\n",
       "      <td>2016-04-29</td>\n",
       "    </tr>\n",
       "    <tr>\n",
       "      <th>1</th>\n",
       "      <td>2016-04-29</td>\n",
       "      <td>2016-04-29</td>\n",
       "      <td>0</td>\n",
       "      <td>0</td>\n",
       "      <td>0</td>\n",
       "      <td>0</td>\n",
       "      <td>0</td>\n",
       "      <td>0</td>\n",
       "      <td>M</td>\n",
       "      <td>56</td>\n",
       "      <td>JARDIM DA PENHA</td>\n",
       "      <td>0</td>\n",
       "      <td>train</td>\n",
       "      <td>2016-04-29</td>\n",
       "      <td>2016-04-29</td>\n",
       "    </tr>\n",
       "    <tr>\n",
       "      <th>2</th>\n",
       "      <td>2016-04-29</td>\n",
       "      <td>2016-04-29</td>\n",
       "      <td>0</td>\n",
       "      <td>0</td>\n",
       "      <td>0</td>\n",
       "      <td>0</td>\n",
       "      <td>0</td>\n",
       "      <td>0</td>\n",
       "      <td>F</td>\n",
       "      <td>8</td>\n",
       "      <td>PONTAL DE CAMBURI</td>\n",
       "      <td>0</td>\n",
       "      <td>train</td>\n",
       "      <td>2016-04-29</td>\n",
       "      <td>2016-04-29</td>\n",
       "    </tr>\n",
       "    <tr>\n",
       "      <th>3</th>\n",
       "      <td>2016-04-29</td>\n",
       "      <td>2016-04-29</td>\n",
       "      <td>0</td>\n",
       "      <td>0</td>\n",
       "      <td>1</td>\n",
       "      <td>1</td>\n",
       "      <td>0</td>\n",
       "      <td>0</td>\n",
       "      <td>F</td>\n",
       "      <td>56</td>\n",
       "      <td>JARDIM DA PENHA</td>\n",
       "      <td>0</td>\n",
       "      <td>train</td>\n",
       "      <td>2016-04-29</td>\n",
       "      <td>2016-04-29</td>\n",
       "    </tr>\n",
       "    <tr>\n",
       "      <th>4</th>\n",
       "      <td>2016-04-27</td>\n",
       "      <td>2016-04-29</td>\n",
       "      <td>0</td>\n",
       "      <td>0</td>\n",
       "      <td>1</td>\n",
       "      <td>0</td>\n",
       "      <td>0</td>\n",
       "      <td>0</td>\n",
       "      <td>F</td>\n",
       "      <td>76</td>\n",
       "      <td>REPÚBLICA</td>\n",
       "      <td>0</td>\n",
       "      <td>train</td>\n",
       "      <td>2016-04-27</td>\n",
       "      <td>2016-04-29</td>\n",
       "    </tr>\n",
       "  </tbody>\n",
       "</table>\n",
       "</div>"
      ],
      "text/plain": [
       "  ScheduledDay AppointmentDay  SMS_received  No-show  Hypertension  Diabetes  \\\n",
       "0   2016-04-29     2016-04-29             0        0             1         0   \n",
       "1   2016-04-29     2016-04-29             0        0             0         0   \n",
       "2   2016-04-29     2016-04-29             0        0             0         0   \n",
       "3   2016-04-29     2016-04-29             0        0             1         1   \n",
       "4   2016-04-27     2016-04-29             0        0             1         0   \n",
       "\n",
       "   Alcoholism  Handicap Gender  Age      Neighbourhood  Scholarship   data  \\\n",
       "0           0         0      F   62    JARDIM DA PENHA            0  train   \n",
       "1           0         0      M   56    JARDIM DA PENHA            0  train   \n",
       "2           0         0      F    8  PONTAL DE CAMBURI            0  train   \n",
       "3           0         0      F   56    JARDIM DA PENHA            0  train   \n",
       "4           0         0      F   76          REPÚBLICA            0  train   \n",
       "\n",
       "  ScheduledDate AppoinmentDate  \n",
       "0    2016-04-29     2016-04-29  \n",
       "1    2016-04-29     2016-04-29  \n",
       "2    2016-04-29     2016-04-29  \n",
       "3    2016-04-29     2016-04-29  \n",
       "4    2016-04-27     2016-04-29  "
      ]
     },
     "execution_count": 20,
     "metadata": {},
     "output_type": "execute_result"
    }
   ],
   "source": [
    "dm_all['ScheduledDate'] = dm_all['ScheduledDay'].dt.date \n",
    "dm_all['AppoinmentDate']=dm_all['AppointmentDay'].dt.date\n",
    "dm_all.head()"
   ]
  },
  {
   "cell_type": "code",
   "execution_count": 21,
   "metadata": {},
   "outputs": [
    {
     "data": {
      "text/plain": [
       "5"
      ]
     },
     "execution_count": 21,
     "metadata": {},
     "output_type": "execute_result"
    }
   ],
   "source": [
    "len(dm_all[dm_all[\"AppointmentDay\"] < dm_all[\"ScheduledDay\"]])"
   ]
  },
  {
   "cell_type": "code",
   "execution_count": 22,
   "metadata": {},
   "outputs": [
    {
     "name": "stdout",
     "output_type": "stream",
     "text": [
      "<class 'pandas.core.frame.DataFrame'>\n",
      "Int64Index: 110344 entries, 0 to 10853\n",
      "Data columns (total 15 columns):\n",
      " #   Column          Non-Null Count   Dtype         \n",
      "---  ------          --------------   -----         \n",
      " 0   ScheduledDay    110344 non-null  datetime64[ns]\n",
      " 1   AppointmentDay  110344 non-null  datetime64[ns]\n",
      " 2   SMS_received    110344 non-null  int64         \n",
      " 3   No-show         110344 non-null  int32         \n",
      " 4   Hypertension    110344 non-null  int64         \n",
      " 5   Diabetes        110344 non-null  int64         \n",
      " 6   Alcoholism      110344 non-null  int64         \n",
      " 7   Handicap        110344 non-null  int64         \n",
      " 8   Gender          110344 non-null  object        \n",
      " 9   Age             110344 non-null  int64         \n",
      " 10  Neighbourhood   110344 non-null  object        \n",
      " 11  Scholarship     110344 non-null  int64         \n",
      " 12  data            110344 non-null  object        \n",
      " 13  ScheduledDate   110344 non-null  object        \n",
      " 14  AppoinmentDate  110344 non-null  object        \n",
      "dtypes: datetime64[ns](2), int32(1), int64(7), object(5)\n",
      "memory usage: 13.0+ MB\n"
     ]
    }
   ],
   "source": [
    "dm_all.info()"
   ]
  },
  {
   "cell_type": "code",
   "execution_count": 23,
   "metadata": {},
   "outputs": [],
   "source": [
    "dm_all['day_diff']=pd.to_numeric(dm_all['AppointmentDay']-dm_all['ScheduledDay'])"
   ]
  },
  {
   "cell_type": "code",
   "execution_count": 24,
   "metadata": {},
   "outputs": [
    {
     "data": {
      "text/html": [
       "<div>\n",
       "<style scoped>\n",
       "    .dataframe tbody tr th:only-of-type {\n",
       "        vertical-align: middle;\n",
       "    }\n",
       "\n",
       "    .dataframe tbody tr th {\n",
       "        vertical-align: top;\n",
       "    }\n",
       "\n",
       "    .dataframe thead th {\n",
       "        text-align: right;\n",
       "    }\n",
       "</style>\n",
       "<table border=\"1\" class=\"dataframe\">\n",
       "  <thead>\n",
       "    <tr style=\"text-align: right;\">\n",
       "      <th></th>\n",
       "      <th>ScheduledDay</th>\n",
       "      <th>AppointmentDay</th>\n",
       "      <th>SMS_received</th>\n",
       "      <th>No-show</th>\n",
       "      <th>Hypertension</th>\n",
       "      <th>Diabetes</th>\n",
       "      <th>Alcoholism</th>\n",
       "      <th>Handicap</th>\n",
       "      <th>Gender</th>\n",
       "      <th>Age</th>\n",
       "      <th>Neighbourhood</th>\n",
       "      <th>Scholarship</th>\n",
       "      <th>data</th>\n",
       "      <th>ScheduledDate</th>\n",
       "      <th>AppoinmentDate</th>\n",
       "      <th>day_diff</th>\n",
       "    </tr>\n",
       "  </thead>\n",
       "  <tbody>\n",
       "    <tr>\n",
       "      <th>0</th>\n",
       "      <td>2016-04-29</td>\n",
       "      <td>2016-04-29</td>\n",
       "      <td>0</td>\n",
       "      <td>0</td>\n",
       "      <td>1</td>\n",
       "      <td>0</td>\n",
       "      <td>0</td>\n",
       "      <td>0</td>\n",
       "      <td>F</td>\n",
       "      <td>62</td>\n",
       "      <td>JARDIM DA PENHA</td>\n",
       "      <td>0</td>\n",
       "      <td>train</td>\n",
       "      <td>2016-04-29</td>\n",
       "      <td>2016-04-29</td>\n",
       "      <td>0</td>\n",
       "    </tr>\n",
       "    <tr>\n",
       "      <th>1</th>\n",
       "      <td>2016-04-29</td>\n",
       "      <td>2016-04-29</td>\n",
       "      <td>0</td>\n",
       "      <td>0</td>\n",
       "      <td>0</td>\n",
       "      <td>0</td>\n",
       "      <td>0</td>\n",
       "      <td>0</td>\n",
       "      <td>M</td>\n",
       "      <td>56</td>\n",
       "      <td>JARDIM DA PENHA</td>\n",
       "      <td>0</td>\n",
       "      <td>train</td>\n",
       "      <td>2016-04-29</td>\n",
       "      <td>2016-04-29</td>\n",
       "      <td>0</td>\n",
       "    </tr>\n",
       "    <tr>\n",
       "      <th>2</th>\n",
       "      <td>2016-04-29</td>\n",
       "      <td>2016-04-29</td>\n",
       "      <td>0</td>\n",
       "      <td>0</td>\n",
       "      <td>0</td>\n",
       "      <td>0</td>\n",
       "      <td>0</td>\n",
       "      <td>0</td>\n",
       "      <td>F</td>\n",
       "      <td>8</td>\n",
       "      <td>PONTAL DE CAMBURI</td>\n",
       "      <td>0</td>\n",
       "      <td>train</td>\n",
       "      <td>2016-04-29</td>\n",
       "      <td>2016-04-29</td>\n",
       "      <td>0</td>\n",
       "    </tr>\n",
       "    <tr>\n",
       "      <th>3</th>\n",
       "      <td>2016-04-29</td>\n",
       "      <td>2016-04-29</td>\n",
       "      <td>0</td>\n",
       "      <td>0</td>\n",
       "      <td>1</td>\n",
       "      <td>1</td>\n",
       "      <td>0</td>\n",
       "      <td>0</td>\n",
       "      <td>F</td>\n",
       "      <td>56</td>\n",
       "      <td>JARDIM DA PENHA</td>\n",
       "      <td>0</td>\n",
       "      <td>train</td>\n",
       "      <td>2016-04-29</td>\n",
       "      <td>2016-04-29</td>\n",
       "      <td>0</td>\n",
       "    </tr>\n",
       "    <tr>\n",
       "      <th>4</th>\n",
       "      <td>2016-04-27</td>\n",
       "      <td>2016-04-29</td>\n",
       "      <td>0</td>\n",
       "      <td>0</td>\n",
       "      <td>1</td>\n",
       "      <td>0</td>\n",
       "      <td>0</td>\n",
       "      <td>0</td>\n",
       "      <td>F</td>\n",
       "      <td>76</td>\n",
       "      <td>REPÚBLICA</td>\n",
       "      <td>0</td>\n",
       "      <td>train</td>\n",
       "      <td>2016-04-27</td>\n",
       "      <td>2016-04-29</td>\n",
       "      <td>172800000000000</td>\n",
       "    </tr>\n",
       "  </tbody>\n",
       "</table>\n",
       "</div>"
      ],
      "text/plain": [
       "  ScheduledDay AppointmentDay  SMS_received  No-show  Hypertension  Diabetes  \\\n",
       "0   2016-04-29     2016-04-29             0        0             1         0   \n",
       "1   2016-04-29     2016-04-29             0        0             0         0   \n",
       "2   2016-04-29     2016-04-29             0        0             0         0   \n",
       "3   2016-04-29     2016-04-29             0        0             1         1   \n",
       "4   2016-04-27     2016-04-29             0        0             1         0   \n",
       "\n",
       "   Alcoholism  Handicap Gender  Age      Neighbourhood  Scholarship   data  \\\n",
       "0           0         0      F   62    JARDIM DA PENHA            0  train   \n",
       "1           0         0      M   56    JARDIM DA PENHA            0  train   \n",
       "2           0         0      F    8  PONTAL DE CAMBURI            0  train   \n",
       "3           0         0      F   56    JARDIM DA PENHA            0  train   \n",
       "4           0         0      F   76          REPÚBLICA            0  train   \n",
       "\n",
       "  ScheduledDate AppoinmentDate         day_diff  \n",
       "0    2016-04-29     2016-04-29                0  \n",
       "1    2016-04-29     2016-04-29                0  \n",
       "2    2016-04-29     2016-04-29                0  \n",
       "3    2016-04-29     2016-04-29                0  \n",
       "4    2016-04-27     2016-04-29  172800000000000  "
      ]
     },
     "execution_count": 24,
     "metadata": {},
     "output_type": "execute_result"
    }
   ],
   "source": [
    "dm_all.head()"
   ]
  },
  {
   "cell_type": "code",
   "execution_count": 25,
   "metadata": {},
   "outputs": [],
   "source": [
    "dm_all.drop(['ScheduledDay','AppointmentDay'],axis=1,inplace=True)"
   ]
  },
  {
   "cell_type": "code",
   "execution_count": 26,
   "metadata": {},
   "outputs": [],
   "source": [
    "dm_all['Gender']=np.where(dm_all['Gender']=='F',1,0)"
   ]
  },
  {
   "cell_type": "code",
   "execution_count": 27,
   "metadata": {},
   "outputs": [
    {
     "data": {
      "text/plain": [
       "JARDIM CAMBURI                 7706\n",
       "MARIA ORTIZ                    5771\n",
       "RESISTÊNCIA                    4382\n",
       "JARDIM DA PENHA                3875\n",
       "ITARARÉ                        3499\n",
       "                               ... \n",
       "ILHA DO BOI                      32\n",
       "ILHA DO FRADE                    15\n",
       "AEROPORTO                         8\n",
       "ILHAS OCEÂNICAS DE TRINDADE       2\n",
       "PARQUE INDUSTRIAL                 1\n",
       "Name: Neighbourhood, Length: 81, dtype: int64"
      ]
     },
     "execution_count": 27,
     "metadata": {},
     "output_type": "execute_result"
    }
   ],
   "source": [
    "dm_all['Neighbourhood'].value_counts()"
   ]
  },
  {
   "cell_type": "code",
   "execution_count": 28,
   "metadata": {},
   "outputs": [
    {
     "data": {
      "text/plain": [
       "(110344, 14)"
      ]
     },
     "execution_count": 28,
     "metadata": {},
     "output_type": "execute_result"
    }
   ],
   "source": [
    "dm_all.shape"
   ]
  },
  {
   "cell_type": "code",
   "execution_count": 29,
   "metadata": {},
   "outputs": [],
   "source": [
    "k=dm_all['Neighbourhood'].value_counts()\n",
    "cats=k[k>2000].index\n",
    "for cat in cats:\n",
    "    name='Neigh_'+cat\n",
    "    dm_all[name]=(dm_all['Neighbourhood']==cat).astype(int)\n",
    "del dm_all['Neighbourhood']"
   ]
  },
  {
   "cell_type": "code",
   "execution_count": 30,
   "metadata": {},
   "outputs": [],
   "source": [
    "pd.set_option('display.max_columns', None)"
   ]
  },
  {
   "cell_type": "code",
   "execution_count": 31,
   "metadata": {
    "scrolled": false
   },
   "outputs": [
    {
     "data": {
      "text/html": [
       "<div>\n",
       "<style scoped>\n",
       "    .dataframe tbody tr th:only-of-type {\n",
       "        vertical-align: middle;\n",
       "    }\n",
       "\n",
       "    .dataframe tbody tr th {\n",
       "        vertical-align: top;\n",
       "    }\n",
       "\n",
       "    .dataframe thead th {\n",
       "        text-align: right;\n",
       "    }\n",
       "</style>\n",
       "<table border=\"1\" class=\"dataframe\">\n",
       "  <thead>\n",
       "    <tr style=\"text-align: right;\">\n",
       "      <th></th>\n",
       "      <th>SMS_received</th>\n",
       "      <th>No-show</th>\n",
       "      <th>Hypertension</th>\n",
       "      <th>Diabetes</th>\n",
       "      <th>Alcoholism</th>\n",
       "      <th>Handicap</th>\n",
       "      <th>Gender</th>\n",
       "      <th>Age</th>\n",
       "      <th>Scholarship</th>\n",
       "      <th>data</th>\n",
       "      <th>ScheduledDate</th>\n",
       "      <th>AppoinmentDate</th>\n",
       "      <th>day_diff</th>\n",
       "      <th>Neigh_JARDIM CAMBURI</th>\n",
       "      <th>Neigh_MARIA ORTIZ</th>\n",
       "      <th>Neigh_RESISTÊNCIA</th>\n",
       "      <th>Neigh_JARDIM DA PENHA</th>\n",
       "      <th>Neigh_ITARARÉ</th>\n",
       "      <th>Neigh_CENTRO</th>\n",
       "      <th>Neigh_TABUAZEIRO</th>\n",
       "      <th>Neigh_SANTA MARTHA</th>\n",
       "      <th>Neigh_JESUS DE NAZARETH</th>\n",
       "      <th>Neigh_SANTO ANTÔNIO</th>\n",
       "      <th>Neigh_BONFIM</th>\n",
       "      <th>Neigh_SANTO ANDRÉ</th>\n",
       "      <th>Neigh_CARATOÍRA</th>\n",
       "      <th>Neigh_JABOUR</th>\n",
       "      <th>Neigh_SÃO PEDRO</th>\n",
       "      <th>Neigh_ILHA DO PRÍNCIPE</th>\n",
       "      <th>Neigh_NOVA PALESTINA</th>\n",
       "      <th>Neigh_DA PENHA</th>\n",
       "      <th>Neigh_ANDORINHAS</th>\n",
       "      <th>Neigh_ROMÃO</th>\n",
       "      <th>Neigh_GURIGICA</th>\n",
       "    </tr>\n",
       "  </thead>\n",
       "  <tbody>\n",
       "    <tr>\n",
       "      <th>0</th>\n",
       "      <td>0</td>\n",
       "      <td>0</td>\n",
       "      <td>1</td>\n",
       "      <td>0</td>\n",
       "      <td>0</td>\n",
       "      <td>0</td>\n",
       "      <td>1</td>\n",
       "      <td>62</td>\n",
       "      <td>0</td>\n",
       "      <td>train</td>\n",
       "      <td>2016-04-29</td>\n",
       "      <td>2016-04-29</td>\n",
       "      <td>0</td>\n",
       "      <td>0</td>\n",
       "      <td>0</td>\n",
       "      <td>0</td>\n",
       "      <td>1</td>\n",
       "      <td>0</td>\n",
       "      <td>0</td>\n",
       "      <td>0</td>\n",
       "      <td>0</td>\n",
       "      <td>0</td>\n",
       "      <td>0</td>\n",
       "      <td>0</td>\n",
       "      <td>0</td>\n",
       "      <td>0</td>\n",
       "      <td>0</td>\n",
       "      <td>0</td>\n",
       "      <td>0</td>\n",
       "      <td>0</td>\n",
       "      <td>0</td>\n",
       "      <td>0</td>\n",
       "      <td>0</td>\n",
       "      <td>0</td>\n",
       "    </tr>\n",
       "    <tr>\n",
       "      <th>1</th>\n",
       "      <td>0</td>\n",
       "      <td>0</td>\n",
       "      <td>0</td>\n",
       "      <td>0</td>\n",
       "      <td>0</td>\n",
       "      <td>0</td>\n",
       "      <td>0</td>\n",
       "      <td>56</td>\n",
       "      <td>0</td>\n",
       "      <td>train</td>\n",
       "      <td>2016-04-29</td>\n",
       "      <td>2016-04-29</td>\n",
       "      <td>0</td>\n",
       "      <td>0</td>\n",
       "      <td>0</td>\n",
       "      <td>0</td>\n",
       "      <td>1</td>\n",
       "      <td>0</td>\n",
       "      <td>0</td>\n",
       "      <td>0</td>\n",
       "      <td>0</td>\n",
       "      <td>0</td>\n",
       "      <td>0</td>\n",
       "      <td>0</td>\n",
       "      <td>0</td>\n",
       "      <td>0</td>\n",
       "      <td>0</td>\n",
       "      <td>0</td>\n",
       "      <td>0</td>\n",
       "      <td>0</td>\n",
       "      <td>0</td>\n",
       "      <td>0</td>\n",
       "      <td>0</td>\n",
       "      <td>0</td>\n",
       "    </tr>\n",
       "    <tr>\n",
       "      <th>2</th>\n",
       "      <td>0</td>\n",
       "      <td>0</td>\n",
       "      <td>0</td>\n",
       "      <td>0</td>\n",
       "      <td>0</td>\n",
       "      <td>0</td>\n",
       "      <td>1</td>\n",
       "      <td>8</td>\n",
       "      <td>0</td>\n",
       "      <td>train</td>\n",
       "      <td>2016-04-29</td>\n",
       "      <td>2016-04-29</td>\n",
       "      <td>0</td>\n",
       "      <td>0</td>\n",
       "      <td>0</td>\n",
       "      <td>0</td>\n",
       "      <td>0</td>\n",
       "      <td>0</td>\n",
       "      <td>0</td>\n",
       "      <td>0</td>\n",
       "      <td>0</td>\n",
       "      <td>0</td>\n",
       "      <td>0</td>\n",
       "      <td>0</td>\n",
       "      <td>0</td>\n",
       "      <td>0</td>\n",
       "      <td>0</td>\n",
       "      <td>0</td>\n",
       "      <td>0</td>\n",
       "      <td>0</td>\n",
       "      <td>0</td>\n",
       "      <td>0</td>\n",
       "      <td>0</td>\n",
       "      <td>0</td>\n",
       "    </tr>\n",
       "    <tr>\n",
       "      <th>3</th>\n",
       "      <td>0</td>\n",
       "      <td>0</td>\n",
       "      <td>1</td>\n",
       "      <td>1</td>\n",
       "      <td>0</td>\n",
       "      <td>0</td>\n",
       "      <td>1</td>\n",
       "      <td>56</td>\n",
       "      <td>0</td>\n",
       "      <td>train</td>\n",
       "      <td>2016-04-29</td>\n",
       "      <td>2016-04-29</td>\n",
       "      <td>0</td>\n",
       "      <td>0</td>\n",
       "      <td>0</td>\n",
       "      <td>0</td>\n",
       "      <td>1</td>\n",
       "      <td>0</td>\n",
       "      <td>0</td>\n",
       "      <td>0</td>\n",
       "      <td>0</td>\n",
       "      <td>0</td>\n",
       "      <td>0</td>\n",
       "      <td>0</td>\n",
       "      <td>0</td>\n",
       "      <td>0</td>\n",
       "      <td>0</td>\n",
       "      <td>0</td>\n",
       "      <td>0</td>\n",
       "      <td>0</td>\n",
       "      <td>0</td>\n",
       "      <td>0</td>\n",
       "      <td>0</td>\n",
       "      <td>0</td>\n",
       "    </tr>\n",
       "    <tr>\n",
       "      <th>4</th>\n",
       "      <td>0</td>\n",
       "      <td>0</td>\n",
       "      <td>1</td>\n",
       "      <td>0</td>\n",
       "      <td>0</td>\n",
       "      <td>0</td>\n",
       "      <td>1</td>\n",
       "      <td>76</td>\n",
       "      <td>0</td>\n",
       "      <td>train</td>\n",
       "      <td>2016-04-27</td>\n",
       "      <td>2016-04-29</td>\n",
       "      <td>172800000000000</td>\n",
       "      <td>0</td>\n",
       "      <td>0</td>\n",
       "      <td>0</td>\n",
       "      <td>0</td>\n",
       "      <td>0</td>\n",
       "      <td>0</td>\n",
       "      <td>0</td>\n",
       "      <td>0</td>\n",
       "      <td>0</td>\n",
       "      <td>0</td>\n",
       "      <td>0</td>\n",
       "      <td>0</td>\n",
       "      <td>0</td>\n",
       "      <td>0</td>\n",
       "      <td>0</td>\n",
       "      <td>0</td>\n",
       "      <td>0</td>\n",
       "      <td>0</td>\n",
       "      <td>0</td>\n",
       "      <td>0</td>\n",
       "      <td>0</td>\n",
       "    </tr>\n",
       "  </tbody>\n",
       "</table>\n",
       "</div>"
      ],
      "text/plain": [
       "   SMS_received  No-show  Hypertension  Diabetes  Alcoholism  Handicap  \\\n",
       "0             0        0             1         0           0         0   \n",
       "1             0        0             0         0           0         0   \n",
       "2             0        0             0         0           0         0   \n",
       "3             0        0             1         1           0         0   \n",
       "4             0        0             1         0           0         0   \n",
       "\n",
       "   Gender  Age  Scholarship   data ScheduledDate AppoinmentDate  \\\n",
       "0       1   62            0  train    2016-04-29     2016-04-29   \n",
       "1       0   56            0  train    2016-04-29     2016-04-29   \n",
       "2       1    8            0  train    2016-04-29     2016-04-29   \n",
       "3       1   56            0  train    2016-04-29     2016-04-29   \n",
       "4       1   76            0  train    2016-04-27     2016-04-29   \n",
       "\n",
       "          day_diff  Neigh_JARDIM CAMBURI  Neigh_MARIA ORTIZ  \\\n",
       "0                0                     0                  0   \n",
       "1                0                     0                  0   \n",
       "2                0                     0                  0   \n",
       "3                0                     0                  0   \n",
       "4  172800000000000                     0                  0   \n",
       "\n",
       "   Neigh_RESISTÊNCIA  Neigh_JARDIM DA PENHA  Neigh_ITARARÉ  Neigh_CENTRO  \\\n",
       "0                  0                      1              0             0   \n",
       "1                  0                      1              0             0   \n",
       "2                  0                      0              0             0   \n",
       "3                  0                      1              0             0   \n",
       "4                  0                      0              0             0   \n",
       "\n",
       "   Neigh_TABUAZEIRO  Neigh_SANTA MARTHA  Neigh_JESUS DE NAZARETH  \\\n",
       "0                 0                   0                        0   \n",
       "1                 0                   0                        0   \n",
       "2                 0                   0                        0   \n",
       "3                 0                   0                        0   \n",
       "4                 0                   0                        0   \n",
       "\n",
       "   Neigh_SANTO ANTÔNIO  Neigh_BONFIM  Neigh_SANTO ANDRÉ  Neigh_CARATOÍRA  \\\n",
       "0                    0             0                  0                0   \n",
       "1                    0             0                  0                0   \n",
       "2                    0             0                  0                0   \n",
       "3                    0             0                  0                0   \n",
       "4                    0             0                  0                0   \n",
       "\n",
       "   Neigh_JABOUR  Neigh_SÃO PEDRO  Neigh_ILHA DO PRÍNCIPE  \\\n",
       "0             0                0                       0   \n",
       "1             0                0                       0   \n",
       "2             0                0                       0   \n",
       "3             0                0                       0   \n",
       "4             0                0                       0   \n",
       "\n",
       "   Neigh_NOVA PALESTINA  Neigh_DA PENHA  Neigh_ANDORINHAS  Neigh_ROMÃO  \\\n",
       "0                     0               0                 0            0   \n",
       "1                     0               0                 0            0   \n",
       "2                     0               0                 0            0   \n",
       "3                     0               0                 0            0   \n",
       "4                     0               0                 0            0   \n",
       "\n",
       "   Neigh_GURIGICA  \n",
       "0               0  \n",
       "1               0  \n",
       "2               0  \n",
       "3               0  \n",
       "4               0  "
      ]
     },
     "execution_count": 31,
     "metadata": {},
     "output_type": "execute_result"
    }
   ],
   "source": [
    "dm_all.head()"
   ]
  },
  {
   "cell_type": "code",
   "execution_count": 32,
   "metadata": {},
   "outputs": [],
   "source": [
    "dm_all.drop(['ScheduledDate','AppoinmentDate'],axis=1,inplace=True)"
   ]
  },
  {
   "cell_type": "code",
   "execution_count": 33,
   "metadata": {},
   "outputs": [
    {
     "data": {
      "text/plain": [
       "(110344, 32)"
      ]
     },
     "execution_count": 33,
     "metadata": {},
     "output_type": "execute_result"
    }
   ],
   "source": [
    "dm_all.shape"
   ]
  },
  {
   "cell_type": "code",
   "execution_count": 34,
   "metadata": {},
   "outputs": [],
   "source": [
    "import seaborn as sns\n",
    "%matplotlib inline"
   ]
  },
  {
   "cell_type": "code",
   "execution_count": 35,
   "metadata": {},
   "outputs": [
    {
     "data": {
      "text/plain": [
       "<matplotlib.axes._subplots.AxesSubplot at 0x199ece7cb48>"
      ]
     },
     "execution_count": 35,
     "metadata": {},
     "output_type": "execute_result"
    },
    {
     "data": {
      "image/png": "[encoded data removed]",
      "text/plain": [
       "<Figure size 432x288 with 2 Axes>"
      ]
     },
     "metadata": {
      "needs_background": "light"
     },
     "output_type": "display_data"
    }
   ],
   "source": [
    "sns.heatmap(dm_all.corr())"
   ]
  },
  {
   "cell_type": "code",
   "execution_count": 36,
   "metadata": {},
   "outputs": [],
   "source": [
    "dm_train=dm_all[dm_all['data']=='train']\n",
    "del dm_train['data'] "
   ]
  },
  {
   "cell_type": "code",
   "execution_count": 37,
   "metadata": {},
   "outputs": [
    {
     "name": "stderr",
     "output_type": "stream",
     "text": [
      "C:\\Users\\Admin\\anaconda3\\lib\\site-packages\\pandas\\core\\frame.py:3997: SettingWithCopyWarning: \n",
      "A value is trying to be set on a copy of a slice from a DataFrame\n",
      "\n",
      "See the caveats in the documentation: https://pandas.pydata.org/pandas-docs/stable/user_guide/indexing.html#returning-a-view-versus-a-copy\n",
      "  errors=errors,\n"
     ]
    }
   ],
   "source": [
    "bd_test=dm_all[dm_all['data']=='test']\n",
    "bd_test.drop(['No-show','data'],axis=1,inplace=True) "
   ]
  },
  {
   "cell_type": "code",
   "execution_count": 38,
   "metadata": {},
   "outputs": [
    {
     "data": {
      "text/plain": [
       "dtype('int32')"
      ]
     },
     "execution_count": 38,
     "metadata": {},
     "output_type": "execute_result"
    }
   ],
   "source": [
    "x_train=dm_train.drop('No-show',axis=1)\n",
    "y_train=dm_train['No-show']\n",
    "y_train.dtype"
   ]
  },
  {
   "cell_type": "code",
   "execution_count": null,
   "metadata": {},
   "outputs": [],
   "source": [
    "from statsmodels.stats.outliers_influence import variance_inflation_factor\n",
    "\n",
    "vif = pd.DataFrame()\n",
    "\n",
    "vif[\"VIF Factor\"] = [variance_inflation_factor(dm_train.values, i) for i in range(dm_train.shape[1])]\n",
    "\n",
    "vif[\"features\"] = dm_train.columns"
   ]
  },
  {
   "cell_type": "code",
   "execution_count": null,
   "metadata": {},
   "outputs": [],
   "source": [
    "vif"
   ]
  },
  {
   "cell_type": "code",
   "execution_count": 39,
   "metadata": {},
   "outputs": [],
   "source": [
    "params={'penalty':['l1','l2'],'class_weight':['balanced',None],\n",
    "        'C':np.linspace(0.01,100,100)}"
   ]
  },
  {
   "cell_type": "code",
   "execution_count": 40,
   "metadata": {},
   "outputs": [],
   "source": [
    "model=LogisticRegression()"
   ]
  },
  {
   "cell_type": "code",
   "execution_count": 41,
   "metadata": {},
   "outputs": [],
   "source": [
    "rs=RandomizedSearchCV(model,param_distributions=params,n_iter=10,\n",
    "                      scoring='roc_auc',cv=10,n_jobs=-1,verbose=20)"
   ]
  },
  {
   "cell_type": "code",
   "execution_count": 42,
   "metadata": {},
   "outputs": [
    {
     "name": "stdout",
     "output_type": "stream",
     "text": [
      "Fitting 10 folds for each of 10 candidates, totalling 100 fits\n"
     ]
    },
    {
     "name": "stderr",
     "output_type": "stream",
     "text": [
      "[Parallel(n_jobs=-1)]: Using backend LokyBackend with 4 concurrent workers.\n",
      "[Parallel(n_jobs=-1)]: Done   1 tasks      | elapsed:   10.5s\n",
      "[Parallel(n_jobs=-1)]: Done   2 tasks      | elapsed:   10.5s\n",
      "[Parallel(n_jobs=-1)]: Done   3 tasks      | elapsed:   10.7s\n",
      "[Parallel(n_jobs=-1)]: Done   4 tasks      | elapsed:   10.8s\n",
      "[Parallel(n_jobs=-1)]: Done   5 tasks      | elapsed:   12.4s\n",
      "[Parallel(n_jobs=-1)]: Done   6 tasks      | elapsed:   12.5s\n",
      "[Parallel(n_jobs=-1)]: Done   7 tasks      | elapsed:   12.5s\n",
      "[Parallel(n_jobs=-1)]: Done   8 tasks      | elapsed:   12.7s\n",
      "[Parallel(n_jobs=-1)]: Done   9 tasks      | elapsed:   12.8s\n",
      "[Parallel(n_jobs=-1)]: Done  10 tasks      | elapsed:   12.9s\n",
      "[Parallel(n_jobs=-1)]: Done  11 tasks      | elapsed:   13.0s\n",
      "[Parallel(n_jobs=-1)]: Done  12 tasks      | elapsed:   13.0s\n",
      "[Parallel(n_jobs=-1)]: Done  13 tasks      | elapsed:   13.1s\n",
      "[Parallel(n_jobs=-1)]: Done  14 tasks      | elapsed:   13.1s\n",
      "[Parallel(n_jobs=-1)]: Done  15 tasks      | elapsed:   13.3s\n",
      "[Parallel(n_jobs=-1)]: Done  16 tasks      | elapsed:   13.3s\n",
      "[Parallel(n_jobs=-1)]: Done  17 tasks      | elapsed:   13.4s\n",
      "[Parallel(n_jobs=-1)]: Done  18 tasks      | elapsed:   13.4s\n",
      "[Parallel(n_jobs=-1)]: Done  19 tasks      | elapsed:   13.6s\n",
      "[Parallel(n_jobs=-1)]: Done  20 tasks      | elapsed:   13.7s\n",
      "[Parallel(n_jobs=-1)]: Done  21 tasks      | elapsed:   13.8s\n",
      "[Parallel(n_jobs=-1)]: Done  22 tasks      | elapsed:   13.9s\n",
      "[Parallel(n_jobs=-1)]: Done  23 tasks      | elapsed:   14.1s\n",
      "[Parallel(n_jobs=-1)]: Done  24 tasks      | elapsed:   14.1s\n",
      "[Parallel(n_jobs=-1)]: Done  25 tasks      | elapsed:   14.2s\n",
      "[Parallel(n_jobs=-1)]: Done  26 tasks      | elapsed:   14.3s\n",
      "[Parallel(n_jobs=-1)]: Done  27 tasks      | elapsed:   14.5s\n",
      "[Parallel(n_jobs=-1)]: Done  28 tasks      | elapsed:   14.5s\n",
      "[Parallel(n_jobs=-1)]: Done  29 tasks      | elapsed:   14.6s\n",
      "[Parallel(n_jobs=-1)]: Done  30 tasks      | elapsed:   14.6s\n",
      "[Parallel(n_jobs=-1)]: Done  31 tasks      | elapsed:   14.7s\n",
      "[Parallel(n_jobs=-1)]: Done  32 tasks      | elapsed:   14.8s\n",
      "[Parallel(n_jobs=-1)]: Done  33 tasks      | elapsed:   14.8s\n",
      "[Parallel(n_jobs=-1)]: Done  34 tasks      | elapsed:   14.9s\n",
      "[Parallel(n_jobs=-1)]: Done  35 tasks      | elapsed:   14.9s\n",
      "[Parallel(n_jobs=-1)]: Done  36 tasks      | elapsed:   15.0s\n",
      "[Parallel(n_jobs=-1)]: Done  37 tasks      | elapsed:   15.0s\n",
      "[Parallel(n_jobs=-1)]: Done  38 tasks      | elapsed:   15.0s\n",
      "[Parallel(n_jobs=-1)]: Done  39 tasks      | elapsed:   15.0s\n",
      "[Parallel(n_jobs=-1)]: Done  40 tasks      | elapsed:   15.1s\n",
      "[Parallel(n_jobs=-1)]: Done  41 tasks      | elapsed:   16.7s\n",
      "[Parallel(n_jobs=-1)]: Done  42 tasks      | elapsed:   16.7s\n",
      "[Parallel(n_jobs=-1)]: Done  43 tasks      | elapsed:   16.7s\n",
      "[Parallel(n_jobs=-1)]: Done  44 tasks      | elapsed:   16.9s\n",
      "[Parallel(n_jobs=-1)]: Done  45 tasks      | elapsed:   18.2s\n",
      "[Parallel(n_jobs=-1)]: Done  46 tasks      | elapsed:   18.3s\n",
      "[Parallel(n_jobs=-1)]: Done  47 tasks      | elapsed:   18.4s\n",
      "[Parallel(n_jobs=-1)]: Done  48 tasks      | elapsed:   18.6s\n",
      "[Parallel(n_jobs=-1)]: Done  49 tasks      | elapsed:   19.7s\n",
      "[Parallel(n_jobs=-1)]: Done  50 tasks      | elapsed:   19.8s\n",
      "[Parallel(n_jobs=-1)]: Done  51 tasks      | elapsed:   19.8s\n",
      "[Parallel(n_jobs=-1)]: Done  52 tasks      | elapsed:   20.1s\n",
      "[Parallel(n_jobs=-1)]: Done  53 tasks      | elapsed:   21.0s\n",
      "[Parallel(n_jobs=-1)]: Done  54 tasks      | elapsed:   21.1s\n",
      "[Parallel(n_jobs=-1)]: Done  55 tasks      | elapsed:   21.2s\n",
      "[Parallel(n_jobs=-1)]: Done  56 tasks      | elapsed:   21.4s\n",
      "[Parallel(n_jobs=-1)]: Done  57 tasks      | elapsed:   22.3s\n",
      "[Parallel(n_jobs=-1)]: Done  58 tasks      | elapsed:   22.4s\n",
      "[Parallel(n_jobs=-1)]: Done  59 tasks      | elapsed:   22.5s\n",
      "[Parallel(n_jobs=-1)]: Done  60 tasks      | elapsed:   22.5s\n",
      "[Parallel(n_jobs=-1)]: Done  61 tasks      | elapsed:   22.5s\n",
      "[Parallel(n_jobs=-1)]: Done  62 tasks      | elapsed:   22.6s\n",
      "[Parallel(n_jobs=-1)]: Done  63 tasks      | elapsed:   22.7s\n",
      "[Parallel(n_jobs=-1)]: Done  64 tasks      | elapsed:   22.7s\n",
      "[Parallel(n_jobs=-1)]: Done  65 tasks      | elapsed:   22.8s\n",
      "[Parallel(n_jobs=-1)]: Done  66 tasks      | elapsed:   22.8s\n",
      "[Parallel(n_jobs=-1)]: Done  67 tasks      | elapsed:   22.8s\n",
      "[Parallel(n_jobs=-1)]: Done  68 tasks      | elapsed:   22.8s\n",
      "[Parallel(n_jobs=-1)]: Done  69 tasks      | elapsed:   22.9s\n",
      "[Parallel(n_jobs=-1)]: Done  70 tasks      | elapsed:   23.0s\n",
      "[Parallel(n_jobs=-1)]: Done  71 tasks      | elapsed:   23.0s\n",
      "[Parallel(n_jobs=-1)]: Done  72 tasks      | elapsed:   23.1s\n",
      "[Parallel(n_jobs=-1)]: Done  73 tasks      | elapsed:   23.1s\n",
      "[Parallel(n_jobs=-1)]: Done  74 tasks      | elapsed:   23.2s\n",
      "[Parallel(n_jobs=-1)]: Done  75 tasks      | elapsed:   23.2s\n",
      "[Parallel(n_jobs=-1)]: Done  76 tasks      | elapsed:   23.3s\n",
      "[Parallel(n_jobs=-1)]: Done  77 tasks      | elapsed:   23.3s\n",
      "[Parallel(n_jobs=-1)]: Done  78 tasks      | elapsed:   23.4s\n",
      "[Parallel(n_jobs=-1)]: Done  79 tasks      | elapsed:   23.4s\n",
      "[Parallel(n_jobs=-1)]: Done  80 tasks      | elapsed:   23.5s\n",
      "[Parallel(n_jobs=-1)]: Done  81 tasks      | elapsed:   23.5s\n",
      "[Parallel(n_jobs=-1)]: Done  82 tasks      | elapsed:   23.6s\n",
      "[Parallel(n_jobs=-1)]: Done  83 tasks      | elapsed:   23.6s\n",
      "[Parallel(n_jobs=-1)]: Done  84 tasks      | elapsed:   23.7s\n",
      "[Parallel(n_jobs=-1)]: Done  85 tasks      | elapsed:   23.7s\n",
      "[Parallel(n_jobs=-1)]: Done  86 tasks      | elapsed:   23.8s\n",
      "[Parallel(n_jobs=-1)]: Done  87 tasks      | elapsed:   23.9s\n",
      "[Parallel(n_jobs=-1)]: Done  88 tasks      | elapsed:   23.9s\n",
      "[Parallel(n_jobs=-1)]: Done  89 tasks      | elapsed:   24.0s\n",
      "[Parallel(n_jobs=-1)]: Done  90 tasks      | elapsed:   24.1s\n",
      "[Parallel(n_jobs=-1)]: Done  91 tasks      | elapsed:   24.1s\n",
      "[Parallel(n_jobs=-1)]: Done  92 tasks      | elapsed:   24.2s\n",
      "[Parallel(n_jobs=-1)]: Done  93 tasks      | elapsed:   24.2s\n",
      "[Parallel(n_jobs=-1)]: Done 100 out of 100 | elapsed:   24.5s finished\n"
     ]
    },
    {
     "data": {
      "text/plain": [
       "RandomizedSearchCV(cv=10, estimator=LogisticRegression(), n_jobs=-1,\n",
       "                   param_distributions={'C': array([1.000e-02, 1.020e+00, 2.030e+00, 3.040e+00, 4.050e+00, 5.060e+00,\n",
       "       6.070e+00, 7.080e+00, 8.090e+00, 9.100e+00, 1.011e+01, 1.112e+01,\n",
       "       1.213e+01, 1.314e+01, 1.415e+01, 1.516e+01, 1.617e+01, 1.718e+01,\n",
       "       1.819e+01, 1.920e+01, 2.021e+01, 2.122e+01, 2.223e+01, 2.324e+01,\n",
       "       2.425e+01, 2....\n",
       "       7.273e+01, 7.374e+01, 7.475e+01, 7.576e+01, 7.677e+01, 7.778e+01,\n",
       "       7.879e+01, 7.980e+01, 8.081e+01, 8.182e+01, 8.283e+01, 8.384e+01,\n",
       "       8.485e+01, 8.586e+01, 8.687e+01, 8.788e+01, 8.889e+01, 8.990e+01,\n",
       "       9.091e+01, 9.192e+01, 9.293e+01, 9.394e+01, 9.495e+01, 9.596e+01,\n",
       "       9.697e+01, 9.798e+01, 9.899e+01, 1.000e+02]),\n",
       "                                        'class_weight': ['balanced', None],\n",
       "                                        'penalty': ['l1', 'l2']},\n",
       "                   scoring='roc_auc', verbose=20)"
      ]
     },
     "execution_count": 42,
     "metadata": {},
     "output_type": "execute_result"
    }
   ],
   "source": [
    "rs.fit(x_train,y_train)"
   ]
  },
  {
   "cell_type": "code",
   "execution_count": 43,
   "metadata": {},
   "outputs": [],
   "source": [
    "trainPredProba = rs.predict_proba(x_train)[:, 1]"
   ]
  },
  {
   "cell_type": "code",
   "execution_count": 44,
   "metadata": {},
   "outputs": [
    {
     "data": {
      "text/plain": [
       "99490"
      ]
     },
     "execution_count": 44,
     "metadata": {},
     "output_type": "execute_result"
    }
   ],
   "source": [
    "len(trainPredProba)"
   ]
  },
  {
   "cell_type": "code",
   "execution_count": 46,
   "metadata": {},
   "outputs": [
    {
     "data": {
      "text/plain": [
       "0.6987215965428345"
      ]
     },
     "execution_count": 46,
     "metadata": {},
     "output_type": "execute_result"
    }
   ],
   "source": [
    "roc_auc_score(y_train, trainPredProba)"
   ]
  },
  {
   "cell_type": "code",
   "execution_count": 48,
   "metadata": {},
   "outputs": [
    {
     "data": {
      "text/plain": [
       "array([0.5       , 0.5190517 , 0.5       , ..., 0.66086079, 0.68600291,\n",
       "       0.68600291])"
      ]
     },
     "execution_count": 48,
     "metadata": {},
     "output_type": "execute_result"
    }
   ],
   "source": [
    "test_score=rs.predict_proba(bd_test)[:,1]\n",
    "test_score\n"
   ]
  },
  {
   "cell_type": "code",
   "execution_count": 50,
   "metadata": {},
   "outputs": [
    {
     "data": {
      "text/plain": [
       "array([0.5       , 0.5190517 , 0.5       , ..., 0.66086079, 0.68600291,\n",
       "       0.68600291])"
      ]
     },
     "execution_count": 50,
     "metadata": {},
     "output_type": "execute_result"
    }
   ],
   "source": [
    "test_score=rs.predict_proba(bd_test)[:,1]\n",
    "test_score\n"
   ]
  },
  {
   "cell_type": "code",
   "execution_count": 52,
   "metadata": {},
   "outputs": [
    {
     "data": {
      "text/plain": [
       "10854"
      ]
     },
     "execution_count": 52,
     "metadata": {},
     "output_type": "execute_result"
    }
   ],
   "source": [
    "len(test_score)"
   ]
  },
  {
   "cell_type": "code",
   "execution_count": 53,
   "metadata": {},
   "outputs": [],
   "source": [
    "pd.DataFrame(test_score).to_csv(\"shital_no_show.csv\",index=False)"
   ]
  }
 ],
 "metadata": {
  "kernelspec": {
   "display_name": "Python 3",
   "language": "python",
   "name": "python3"
  },
  "language_info": {
   "codemirror_mode": {
    "name": "ipython",
    "version": 3
   },
   "file_extension": ".py",
   "mimetype": "text/x-python",
   "name": "python",
   "nbconvert_exporter": "python",
   "pygments_lexer": "ipython3",
   "version": "3.7.6"
  }
 },
 "nbformat": 4,
 "nbformat_minor": 4
}
