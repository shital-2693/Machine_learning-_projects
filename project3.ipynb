{
 "cells": [
  {
   "cell_type": "code",
   "execution_count": 1,
   "metadata": {},
   "outputs": [],
   "source": [
    "import pandas as pd\n",
    "import numpy as np\n",
    "from sklearn import tree\n",
    "import numpy as np\n",
    "from sklearn.metrics import roc_auc_score\n",
    "import matplotlib.pyplot as plt\n",
    "%matplotlib inline"
   ]
  },
  {
   "cell_type": "code",
   "execution_count": 2,
   "metadata": {},
   "outputs": [],
   "source": [
    "cc_train=pd.read_csv(r\"C:/Users/Admin/Downloads/counterfeit_train.csv\")"
   ]
  },
  {
   "cell_type": "code",
   "execution_count": 3,
   "metadata": {},
   "outputs": [],
   "source": [
    "cc_test=pd.read_csv(r\"C:/Users/Admin/Downloads/counterfeit_test.csv\")"
   ]
  },
  {
   "cell_type": "code",
   "execution_count": 4,
   "metadata": {},
   "outputs": [
    {
     "data": {
      "text/html": [
       "<div>\n",
       "<style scoped>\n",
       "    .dataframe tbody tr th:only-of-type {\n",
       "        vertical-align: middle;\n",
       "    }\n",
       "\n",
       "    .dataframe tbody tr th {\n",
       "        vertical-align: top;\n",
       "    }\n",
       "\n",
       "    .dataframe thead th {\n",
       "        text-align: right;\n",
       "    }\n",
       "</style>\n",
       "<table border=\"1\" class=\"dataframe\">\n",
       "  <thead>\n",
       "    <tr style=\"text-align: right;\">\n",
       "      <th></th>\n",
       "      <th>Medicine_ID</th>\n",
       "      <th>Counterfeit_Weight</th>\n",
       "      <th>DistArea_ID</th>\n",
       "      <th>Active_Since</th>\n",
       "      <th>Medicine_MRP</th>\n",
       "      <th>Medicine_Type</th>\n",
       "      <th>SidEffect_Level</th>\n",
       "      <th>Availability_rating</th>\n",
       "      <th>Area_Type</th>\n",
       "      <th>Area_City_Type</th>\n",
       "      <th>Area_dist_level</th>\n",
       "      <th>Counterfeit_Sales</th>\n",
       "    </tr>\n",
       "  </thead>\n",
       "  <tbody>\n",
       "    <tr>\n",
       "      <th>0</th>\n",
       "      <td>RRA15</td>\n",
       "      <td>13.100</td>\n",
       "      <td>Area046</td>\n",
       "      <td>1995</td>\n",
       "      <td>160.2366</td>\n",
       "      <td>Antimalarial</td>\n",
       "      <td>critical</td>\n",
       "      <td>0.070422</td>\n",
       "      <td>DownTown</td>\n",
       "      <td>Tier 1</td>\n",
       "      <td>Small</td>\n",
       "      <td>1775.5026</td>\n",
       "    </tr>\n",
       "    <tr>\n",
       "      <th>1</th>\n",
       "      <td>YVV26</td>\n",
       "      <td>NaN</td>\n",
       "      <td>Area027</td>\n",
       "      <td>1983</td>\n",
       "      <td>110.4384</td>\n",
       "      <td>Mstablizers</td>\n",
       "      <td>mild</td>\n",
       "      <td>0.013000</td>\n",
       "      <td>CityLimits</td>\n",
       "      <td>Tier 3</td>\n",
       "      <td>Medium</td>\n",
       "      <td>3069.1520</td>\n",
       "    </tr>\n",
       "    <tr>\n",
       "      <th>2</th>\n",
       "      <td>LJC15</td>\n",
       "      <td>9.025</td>\n",
       "      <td>Area046</td>\n",
       "      <td>1995</td>\n",
       "      <td>259.4092</td>\n",
       "      <td>Cardiac</td>\n",
       "      <td>mild</td>\n",
       "      <td>0.060783</td>\n",
       "      <td>DownTown</td>\n",
       "      <td>Tier 1</td>\n",
       "      <td>Small</td>\n",
       "      <td>2603.0920</td>\n",
       "    </tr>\n",
       "    <tr>\n",
       "      <th>3</th>\n",
       "      <td>GWC40</td>\n",
       "      <td>11.800</td>\n",
       "      <td>Area046</td>\n",
       "      <td>1995</td>\n",
       "      <td>99.9830</td>\n",
       "      <td>OralContraceptives</td>\n",
       "      <td>mild</td>\n",
       "      <td>0.065555</td>\n",
       "      <td>DownTown</td>\n",
       "      <td>Tier 1</td>\n",
       "      <td>Small</td>\n",
       "      <td>1101.7130</td>\n",
       "    </tr>\n",
       "    <tr>\n",
       "      <th>4</th>\n",
       "      <td>QMN13</td>\n",
       "      <td>NaN</td>\n",
       "      <td>Area019</td>\n",
       "      <td>1983</td>\n",
       "      <td>56.4402</td>\n",
       "      <td>Hreplacements</td>\n",
       "      <td>critical</td>\n",
       "      <td>0.248859</td>\n",
       "      <td>MidTownResidential</td>\n",
       "      <td>Tier 1</td>\n",
       "      <td>Small</td>\n",
       "      <td>158.9402</td>\n",
       "    </tr>\n",
       "  </tbody>\n",
       "</table>\n",
       "</div>"
      ],
      "text/plain": [
       "  Medicine_ID  Counterfeit_Weight DistArea_ID  Active_Since  Medicine_MRP  \\\n",
       "0       RRA15              13.100     Area046          1995      160.2366   \n",
       "1       YVV26                 NaN     Area027          1983      110.4384   \n",
       "2       LJC15               9.025     Area046          1995      259.4092   \n",
       "3       GWC40              11.800     Area046          1995       99.9830   \n",
       "4       QMN13                 NaN     Area019          1983       56.4402   \n",
       "\n",
       "        Medicine_Type SidEffect_Level  Availability_rating  \\\n",
       "0        Antimalarial        critical             0.070422   \n",
       "1         Mstablizers            mild             0.013000   \n",
       "2             Cardiac            mild             0.060783   \n",
       "3  OralContraceptives            mild             0.065555   \n",
       "4       Hreplacements        critical             0.248859   \n",
       "\n",
       "            Area_Type Area_City_Type Area_dist_level  Counterfeit_Sales  \n",
       "0            DownTown         Tier 1           Small          1775.5026  \n",
       "1          CityLimits         Tier 3          Medium          3069.1520  \n",
       "2            DownTown         Tier 1           Small          2603.0920  \n",
       "3            DownTown         Tier 1           Small          1101.7130  \n",
       "4  MidTownResidential         Tier 1           Small           158.9402  "
      ]
     },
     "execution_count": 4,
     "metadata": {},
     "output_type": "execute_result"
    }
   ],
   "source": [
    "cc_train.head()"
   ]
  },
  {
   "cell_type": "code",
   "execution_count": 5,
   "metadata": {},
   "outputs": [
    {
     "data": {
      "text/html": [
       "<div>\n",
       "<style scoped>\n",
       "    .dataframe tbody tr th:only-of-type {\n",
       "        vertical-align: middle;\n",
       "    }\n",
       "\n",
       "    .dataframe tbody tr th {\n",
       "        vertical-align: top;\n",
       "    }\n",
       "\n",
       "    .dataframe thead th {\n",
       "        text-align: right;\n",
       "    }\n",
       "</style>\n",
       "<table border=\"1\" class=\"dataframe\">\n",
       "  <thead>\n",
       "    <tr style=\"text-align: right;\">\n",
       "      <th></th>\n",
       "      <th>Medicine_ID</th>\n",
       "      <th>Counterfeit_Weight</th>\n",
       "      <th>DistArea_ID</th>\n",
       "      <th>Active_Since</th>\n",
       "      <th>Medicine_MRP</th>\n",
       "      <th>Medicine_Type</th>\n",
       "      <th>SidEffect_Level</th>\n",
       "      <th>Availability_rating</th>\n",
       "      <th>Area_Type</th>\n",
       "      <th>Area_City_Type</th>\n",
       "      <th>Area_dist_level</th>\n",
       "    </tr>\n",
       "  </thead>\n",
       "  <tbody>\n",
       "    <tr>\n",
       "      <th>0</th>\n",
       "      <td>HLZ81</td>\n",
       "      <td>NaN</td>\n",
       "      <td>Area027</td>\n",
       "      <td>1983</td>\n",
       "      <td>85.5328</td>\n",
       "      <td>Antibiotics</td>\n",
       "      <td>mild</td>\n",
       "      <td>0.112747</td>\n",
       "      <td>CityLimits</td>\n",
       "      <td>Tier 3</td>\n",
       "      <td>Medium</td>\n",
       "    </tr>\n",
       "    <tr>\n",
       "      <th>1</th>\n",
       "      <td>ECE94</td>\n",
       "      <td>13.45</td>\n",
       "      <td>Area045</td>\n",
       "      <td>2000</td>\n",
       "      <td>257.1460</td>\n",
       "      <td>OralContraceptives</td>\n",
       "      <td>mild</td>\n",
       "      <td>0.144446</td>\n",
       "      <td>DownTown</td>\n",
       "      <td>Tier 2</td>\n",
       "      <td>Unknown</td>\n",
       "    </tr>\n",
       "    <tr>\n",
       "      <th>2</th>\n",
       "      <td>SAD14</td>\n",
       "      <td>7.10</td>\n",
       "      <td>Area045</td>\n",
       "      <td>2000</td>\n",
       "      <td>98.1172</td>\n",
       "      <td>Antipyretics</td>\n",
       "      <td>mild</td>\n",
       "      <td>0.144221</td>\n",
       "      <td>DownTown</td>\n",
       "      <td>Tier 2</td>\n",
       "      <td>Unknown</td>\n",
       "    </tr>\n",
       "    <tr>\n",
       "      <th>3</th>\n",
       "      <td>EQV63</td>\n",
       "      <td>18.30</td>\n",
       "      <td>Area010</td>\n",
       "      <td>1996</td>\n",
       "      <td>135.3730</td>\n",
       "      <td>Tranquilizers</td>\n",
       "      <td>mild</td>\n",
       "      <td>0.100388</td>\n",
       "      <td>MidTownResidential</td>\n",
       "      <td>Tier 3</td>\n",
       "      <td>Unknown</td>\n",
       "    </tr>\n",
       "    <tr>\n",
       "      <th>4</th>\n",
       "      <td>AIR10</td>\n",
       "      <td>NaN</td>\n",
       "      <td>Area019</td>\n",
       "      <td>1983</td>\n",
       "      <td>112.8016</td>\n",
       "      <td>OralContraceptives</td>\n",
       "      <td>mild</td>\n",
       "      <td>0.022585</td>\n",
       "      <td>MidTownResidential</td>\n",
       "      <td>Tier 1</td>\n",
       "      <td>Small</td>\n",
       "    </tr>\n",
       "  </tbody>\n",
       "</table>\n",
       "</div>"
      ],
      "text/plain": [
       "  Medicine_ID  Counterfeit_Weight DistArea_ID  Active_Since  Medicine_MRP  \\\n",
       "0       HLZ81                 NaN     Area027          1983       85.5328   \n",
       "1       ECE94               13.45     Area045          2000      257.1460   \n",
       "2       SAD14                7.10     Area045          2000       98.1172   \n",
       "3       EQV63               18.30     Area010          1996      135.3730   \n",
       "4       AIR10                 NaN     Area019          1983      112.8016   \n",
       "\n",
       "        Medicine_Type SidEffect_Level  Availability_rating  \\\n",
       "0         Antibiotics            mild             0.112747   \n",
       "1  OralContraceptives            mild             0.144446   \n",
       "2        Antipyretics            mild             0.144221   \n",
       "3       Tranquilizers            mild             0.100388   \n",
       "4  OralContraceptives            mild             0.022585   \n",
       "\n",
       "            Area_Type Area_City_Type Area_dist_level  \n",
       "0          CityLimits         Tier 3          Medium  \n",
       "1            DownTown         Tier 2         Unknown  \n",
       "2            DownTown         Tier 2         Unknown  \n",
       "3  MidTownResidential         Tier 3         Unknown  \n",
       "4  MidTownResidential         Tier 1           Small  "
      ]
     },
     "execution_count": 5,
     "metadata": {},
     "output_type": "execute_result"
    }
   ],
   "source": [
    "cc_test.head()"
   ]
  },
  {
   "cell_type": "code",
   "execution_count": 6,
   "metadata": {},
   "outputs": [],
   "source": [
    "cc_test['Counterfeit_Sales']=np.nan\n",
    "cc_train['data']='train'\n",
    "cc_test['data']='test'\n",
    "cc_test=cc_test[cc_train.columns]\n",
    "cc=pd.concat([cc_train,cc_test],axis=0)"
   ]
  },
  {
   "cell_type": "code",
   "execution_count": 7,
   "metadata": {},
   "outputs": [
    {
     "name": "stdout",
     "output_type": "stream",
     "text": [
      "<class 'pandas.core.frame.DataFrame'>\n",
      "Int64Index: 8523 entries, 0 to 1704\n",
      "Data columns (total 13 columns):\n",
      " #   Column               Non-Null Count  Dtype  \n",
      "---  ------               --------------  -----  \n",
      " 0   Medicine_ID          8523 non-null   object \n",
      " 1   Counterfeit_Weight   7060 non-null   float64\n",
      " 2   DistArea_ID          8523 non-null   object \n",
      " 3   Active_Since         8523 non-null   int64  \n",
      " 4   Medicine_MRP         8523 non-null   float64\n",
      " 5   Medicine_Type        8523 non-null   object \n",
      " 6   SidEffect_Level      8523 non-null   object \n",
      " 7   Availability_rating  8523 non-null   float64\n",
      " 8   Area_Type            8523 non-null   object \n",
      " 9   Area_City_Type       8523 non-null   object \n",
      " 10  Area_dist_level      8523 non-null   object \n",
      " 11  Counterfeit_Sales    6818 non-null   float64\n",
      " 12  data                 8523 non-null   object \n",
      "dtypes: float64(4), int64(1), object(8)\n",
      "memory usage: 932.2+ KB\n"
     ]
    }
   ],
   "source": [
    "cc.info()"
   ]
  },
  {
   "cell_type": "code",
   "execution_count": 8,
   "metadata": {},
   "outputs": [
    {
     "data": {
      "text/plain": [
       "Medicine_ID               0\n",
       "Counterfeit_Weight     1463\n",
       "DistArea_ID               0\n",
       "Active_Since              0\n",
       "Medicine_MRP              0\n",
       "Medicine_Type             0\n",
       "SidEffect_Level           0\n",
       "Availability_rating       0\n",
       "Area_Type                 0\n",
       "Area_City_Type            0\n",
       "Area_dist_level           0\n",
       "Counterfeit_Sales      1705\n",
       "data                      0\n",
       "dtype: int64"
      ]
     },
     "execution_count": 8,
     "metadata": {},
     "output_type": "execute_result"
    }
   ],
   "source": [
    "cc.isnull().sum()"
   ]
  },
  {
   "cell_type": "code",
   "execution_count": 9,
   "metadata": {},
   "outputs": [
    {
     "data": {
      "text/html": [
       "<div>\n",
       "<style scoped>\n",
       "    .dataframe tbody tr th:only-of-type {\n",
       "        vertical-align: middle;\n",
       "    }\n",
       "\n",
       "    .dataframe tbody tr th {\n",
       "        vertical-align: top;\n",
       "    }\n",
       "\n",
       "    .dataframe thead th {\n",
       "        text-align: right;\n",
       "    }\n",
       "</style>\n",
       "<table border=\"1\" class=\"dataframe\">\n",
       "  <thead>\n",
       "    <tr style=\"text-align: right;\">\n",
       "      <th></th>\n",
       "      <th>Counterfeit_Weight</th>\n",
       "      <th>Active_Since</th>\n",
       "      <th>Medicine_MRP</th>\n",
       "      <th>Availability_rating</th>\n",
       "      <th>Counterfeit_Sales</th>\n",
       "    </tr>\n",
       "  </thead>\n",
       "  <tbody>\n",
       "    <tr>\n",
       "      <th>count</th>\n",
       "      <td>7060.000000</td>\n",
       "      <td>8523.000000</td>\n",
       "      <td>8523.000000</td>\n",
       "      <td>8523.000000</td>\n",
       "      <td>6818.000000</td>\n",
       "    </tr>\n",
       "    <tr>\n",
       "      <th>mean</th>\n",
       "      <td>14.157645</td>\n",
       "      <td>1995.831867</td>\n",
       "      <td>151.292782</td>\n",
       "      <td>0.079132</td>\n",
       "      <td>2280.583480</td>\n",
       "    </tr>\n",
       "    <tr>\n",
       "      <th>std</th>\n",
       "      <td>4.643456</td>\n",
       "      <td>8.371760</td>\n",
       "      <td>62.275067</td>\n",
       "      <td>0.051598</td>\n",
       "      <td>1693.354404</td>\n",
       "    </tr>\n",
       "    <tr>\n",
       "      <th>min</th>\n",
       "      <td>5.855000</td>\n",
       "      <td>1983.000000</td>\n",
       "      <td>41.590000</td>\n",
       "      <td>0.013000</td>\n",
       "      <td>146.290000</td>\n",
       "    </tr>\n",
       "    <tr>\n",
       "      <th>25%</th>\n",
       "      <td>10.073750</td>\n",
       "      <td>1985.000000</td>\n",
       "      <td>104.126500</td>\n",
       "      <td>0.039989</td>\n",
       "      <td>933.265600</td>\n",
       "    </tr>\n",
       "    <tr>\n",
       "      <th>50%</th>\n",
       "      <td>13.900000</td>\n",
       "      <td>1997.000000</td>\n",
       "      <td>153.312800</td>\n",
       "      <td>0.066931</td>\n",
       "      <td>1902.670400</td>\n",
       "    </tr>\n",
       "    <tr>\n",
       "      <th>75%</th>\n",
       "      <td>18.150000</td>\n",
       "      <td>2002.000000</td>\n",
       "      <td>195.943700</td>\n",
       "      <td>0.107585</td>\n",
       "      <td>3207.638400</td>\n",
       "    </tr>\n",
       "    <tr>\n",
       "      <th>max</th>\n",
       "      <td>22.650000</td>\n",
       "      <td>2007.000000</td>\n",
       "      <td>277.188400</td>\n",
       "      <td>0.341391</td>\n",
       "      <td>13199.964800</td>\n",
       "    </tr>\n",
       "  </tbody>\n",
       "</table>\n",
       "</div>"
      ],
      "text/plain": [
       "       Counterfeit_Weight  Active_Since  Medicine_MRP  Availability_rating  \\\n",
       "count         7060.000000   8523.000000   8523.000000          8523.000000   \n",
       "mean            14.157645   1995.831867    151.292782             0.079132   \n",
       "std              4.643456      8.371760     62.275067             0.051598   \n",
       "min              5.855000   1983.000000     41.590000             0.013000   \n",
       "25%             10.073750   1985.000000    104.126500             0.039989   \n",
       "50%             13.900000   1997.000000    153.312800             0.066931   \n",
       "75%             18.150000   2002.000000    195.943700             0.107585   \n",
       "max             22.650000   2007.000000    277.188400             0.341391   \n",
       "\n",
       "       Counterfeit_Sales  \n",
       "count        6818.000000  \n",
       "mean         2280.583480  \n",
       "std          1693.354404  \n",
       "min           146.290000  \n",
       "25%           933.265600  \n",
       "50%          1902.670400  \n",
       "75%          3207.638400  \n",
       "max         13199.964800  "
      ]
     },
     "execution_count": 9,
     "metadata": {},
     "output_type": "execute_result"
    }
   ],
   "source": [
    "cc.describe()"
   ]
  },
  {
   "cell_type": "code",
   "execution_count": 10,
   "metadata": {},
   "outputs": [
    {
     "data": {
      "image/png": "[encoded data removed]",
      "text/plain": [
       "<Figure size 432x288 with 1 Axes>"
      ]
     },
     "metadata": {
      "needs_background": "light"
     },
     "output_type": "display_data"
    }
   ],
   "source": [
    "plt.boxplot(cc['Medicine_MRP'])\n",
    "plt.show()"
   ]
  },
  {
   "cell_type": "code",
   "execution_count": 11,
   "metadata": {},
   "outputs": [
    {
     "data": {
      "text/plain": [
       "Medicine_ID             object\n",
       "Counterfeit_Weight     float64\n",
       "DistArea_ID             object\n",
       "Active_Since             int64\n",
       "Medicine_MRP           float64\n",
       "Medicine_Type           object\n",
       "SidEffect_Level         object\n",
       "Availability_rating    float64\n",
       "Area_Type               object\n",
       "Area_City_Type          object\n",
       "Area_dist_level         object\n",
       "Counterfeit_Sales      float64\n",
       "data                    object\n",
       "dtype: object"
      ]
     },
     "execution_count": 11,
     "metadata": {},
     "output_type": "execute_result"
    }
   ],
   "source": [
    "cc.dtypes"
   ]
  },
  {
   "cell_type": "code",
   "execution_count": 12,
   "metadata": {},
   "outputs": [
    {
     "data": {
      "text/html": [
       "<div>\n",
       "<style scoped>\n",
       "    .dataframe tbody tr th:only-of-type {\n",
       "        vertical-align: middle;\n",
       "    }\n",
       "\n",
       "    .dataframe tbody tr th {\n",
       "        vertical-align: top;\n",
       "    }\n",
       "\n",
       "    .dataframe thead th {\n",
       "        text-align: right;\n",
       "    }\n",
       "</style>\n",
       "<table border=\"1\" class=\"dataframe\">\n",
       "  <thead>\n",
       "    <tr style=\"text-align: right;\">\n",
       "      <th></th>\n",
       "      <th>Medicine_ID</th>\n",
       "      <th>Counterfeit_Weight</th>\n",
       "      <th>DistArea_ID</th>\n",
       "      <th>Active_Since</th>\n",
       "      <th>Medicine_MRP</th>\n",
       "      <th>Medicine_Type</th>\n",
       "      <th>SidEffect_Level</th>\n",
       "      <th>Availability_rating</th>\n",
       "      <th>Area_Type</th>\n",
       "      <th>Area_City_Type</th>\n",
       "      <th>Area_dist_level</th>\n",
       "      <th>Counterfeit_Sales</th>\n",
       "      <th>data</th>\n",
       "    </tr>\n",
       "  </thead>\n",
       "  <tbody>\n",
       "    <tr>\n",
       "      <th>0</th>\n",
       "      <td>RRA15</td>\n",
       "      <td>13.100</td>\n",
       "      <td>Area046</td>\n",
       "      <td>1995</td>\n",
       "      <td>160.2366</td>\n",
       "      <td>Antimalarial</td>\n",
       "      <td>critical</td>\n",
       "      <td>0.070422</td>\n",
       "      <td>DownTown</td>\n",
       "      <td>Tier 1</td>\n",
       "      <td>Small</td>\n",
       "      <td>1775.5026</td>\n",
       "      <td>train</td>\n",
       "    </tr>\n",
       "    <tr>\n",
       "      <th>1</th>\n",
       "      <td>YVV26</td>\n",
       "      <td>NaN</td>\n",
       "      <td>Area027</td>\n",
       "      <td>1983</td>\n",
       "      <td>110.4384</td>\n",
       "      <td>Mstablizers</td>\n",
       "      <td>mild</td>\n",
       "      <td>0.013000</td>\n",
       "      <td>CityLimits</td>\n",
       "      <td>Tier 3</td>\n",
       "      <td>Medium</td>\n",
       "      <td>3069.1520</td>\n",
       "      <td>train</td>\n",
       "    </tr>\n",
       "    <tr>\n",
       "      <th>2</th>\n",
       "      <td>LJC15</td>\n",
       "      <td>9.025</td>\n",
       "      <td>Area046</td>\n",
       "      <td>1995</td>\n",
       "      <td>259.4092</td>\n",
       "      <td>Cardiac</td>\n",
       "      <td>mild</td>\n",
       "      <td>0.060783</td>\n",
       "      <td>DownTown</td>\n",
       "      <td>Tier 1</td>\n",
       "      <td>Small</td>\n",
       "      <td>2603.0920</td>\n",
       "      <td>train</td>\n",
       "    </tr>\n",
       "    <tr>\n",
       "      <th>3</th>\n",
       "      <td>GWC40</td>\n",
       "      <td>11.800</td>\n",
       "      <td>Area046</td>\n",
       "      <td>1995</td>\n",
       "      <td>99.9830</td>\n",
       "      <td>OralContraceptives</td>\n",
       "      <td>mild</td>\n",
       "      <td>0.065555</td>\n",
       "      <td>DownTown</td>\n",
       "      <td>Tier 1</td>\n",
       "      <td>Small</td>\n",
       "      <td>1101.7130</td>\n",
       "      <td>train</td>\n",
       "    </tr>\n",
       "    <tr>\n",
       "      <th>4</th>\n",
       "      <td>QMN13</td>\n",
       "      <td>NaN</td>\n",
       "      <td>Area019</td>\n",
       "      <td>1983</td>\n",
       "      <td>56.4402</td>\n",
       "      <td>Hreplacements</td>\n",
       "      <td>critical</td>\n",
       "      <td>0.248859</td>\n",
       "      <td>MidTownResidential</td>\n",
       "      <td>Tier 1</td>\n",
       "      <td>Small</td>\n",
       "      <td>158.9402</td>\n",
       "      <td>train</td>\n",
       "    </tr>\n",
       "  </tbody>\n",
       "</table>\n",
       "</div>"
      ],
      "text/plain": [
       "  Medicine_ID  Counterfeit_Weight DistArea_ID  Active_Since  Medicine_MRP  \\\n",
       "0       RRA15              13.100     Area046          1995      160.2366   \n",
       "1       YVV26                 NaN     Area027          1983      110.4384   \n",
       "2       LJC15               9.025     Area046          1995      259.4092   \n",
       "3       GWC40              11.800     Area046          1995       99.9830   \n",
       "4       QMN13                 NaN     Area019          1983       56.4402   \n",
       "\n",
       "        Medicine_Type SidEffect_Level  Availability_rating  \\\n",
       "0        Antimalarial        critical             0.070422   \n",
       "1         Mstablizers            mild             0.013000   \n",
       "2             Cardiac            mild             0.060783   \n",
       "3  OralContraceptives            mild             0.065555   \n",
       "4       Hreplacements        critical             0.248859   \n",
       "\n",
       "            Area_Type Area_City_Type Area_dist_level  Counterfeit_Sales   data  \n",
       "0            DownTown         Tier 1           Small          1775.5026  train  \n",
       "1          CityLimits         Tier 3          Medium          3069.1520  train  \n",
       "2            DownTown         Tier 1           Small          2603.0920  train  \n",
       "3            DownTown         Tier 1           Small          1101.7130  train  \n",
       "4  MidTownResidential         Tier 1           Small           158.9402  train  "
      ]
     },
     "execution_count": 12,
     "metadata": {},
     "output_type": "execute_result"
    }
   ],
   "source": [
    "cc.head()"
   ]
  },
  {
   "cell_type": "code",
   "execution_count": 13,
   "metadata": {},
   "outputs": [
    {
     "data": {
      "text/plain": [
       "Area027    935\n",
       "Area013    932\n",
       "Area035    930\n",
       "Area046    930\n",
       "Area049    930\n",
       "Area045    929\n",
       "Area018    928\n",
       "Area017    926\n",
       "Area010    555\n",
       "Area019    528\n",
       "Name: DistArea_ID, dtype: int64"
      ]
     },
     "execution_count": 13,
     "metadata": {},
     "output_type": "execute_result"
    }
   ],
   "source": [
    "cc['DistArea_ID'].value_counts()"
   ]
  },
  {
   "cell_type": "code",
   "execution_count": 14,
   "metadata": {},
   "outputs": [],
   "source": [
    "cat_vars=cc.select_dtypes(['object']).columns"
   ]
  },
  {
   "cell_type": "code",
   "execution_count": 15,
   "metadata": {},
   "outputs": [
    {
     "name": "stdout",
     "output_type": "stream",
     "text": [
      "Medicine_ID : 1557\n",
      "DistArea_ID : 10\n",
      "Medicine_Type : 16\n",
      "SidEffect_Level : 2\n",
      "Area_Type : 4\n",
      "Area_City_Type : 3\n",
      "Area_dist_level : 4\n",
      "data : 2\n"
     ]
    }
   ],
   "source": [
    "for col in cc.select_dtypes([\"object\"]).columns:\n",
    "  print(col,\":\",cc[col].nunique())"
   ]
  },
  {
   "cell_type": "code",
   "execution_count": 16,
   "metadata": {},
   "outputs": [],
   "source": [
    "cc.drop(['Area_dist_level'],axis=1,inplace=True)"
   ]
  },
  {
   "cell_type": "code",
   "execution_count": 17,
   "metadata": {},
   "outputs": [
    {
     "name": "stdout",
     "output_type": "stream",
     "text": [
      "Medicine_ID : SGZ11    12\n",
      "GVZ23    10\n",
      "ORS21    10\n",
      "KIS14    10\n",
      "QIN25     9\n",
      "         ..\n",
      "UKN13     1\n",
      "YDD11     1\n",
      "ETU15     1\n",
      "PIG89     1\n",
      "FVS71     1\n",
      "Name: Medicine_ID, Length: 1557, dtype: int64\n",
      "DistArea_ID : Area027    935\n",
      "Area013    932\n",
      "Area035    930\n",
      "Area046    930\n",
      "Area049    930\n",
      "Area045    929\n",
      "Area018    928\n",
      "Area017    926\n",
      "Area010    555\n",
      "Area019    528\n",
      "Name: DistArea_ID, dtype: int64\n",
      "Medicine_Type : Antibiotics           1232\n",
      "Hreplacements         1200\n",
      "Antiseptics            910\n",
      "OralContraceptives     856\n",
      "Antipyretics           682\n",
      "Cardiac                649\n",
      "Mstablizers            648\n",
      "Tranquilizers          520\n",
      "Analgesics             445\n",
      "Antimalarial           425\n",
      "Antacids               251\n",
      "Statins                214\n",
      "MuscleRelaxants        169\n",
      "Antifungal             148\n",
      "Stimulants             110\n",
      "Antiviral               64\n",
      "Name: Medicine_Type, dtype: int64\n",
      "SidEffect_Level : mild        5517\n",
      "critical    3006\n",
      "Name: SidEffect_Level, dtype: int64\n",
      "Area_Type : DownTown              5577\n",
      "MidTownResidential    1083\n",
      "CityLimits             935\n",
      "Industrial             928\n",
      "Name: Area_Type, dtype: int64\n",
      "Area_City_Type : Tier 3    3350\n",
      "Tier 2    2785\n",
      "Tier 1    2388\n",
      "Name: Area_City_Type, dtype: int64\n",
      "data : train    6818\n",
      "test     1705\n",
      "Name: data, dtype: int64\n"
     ]
    }
   ],
   "source": [
    "for col in cc.select_dtypes([\"object\"]).columns:\n",
    "  print(col,\":\",cc[col].value_counts())"
   ]
  },
  {
   "cell_type": "code",
   "execution_count": 18,
   "metadata": {},
   "outputs": [
    {
     "data": {
      "text/html": [
       "<div>\n",
       "<style scoped>\n",
       "    .dataframe tbody tr th:only-of-type {\n",
       "        vertical-align: middle;\n",
       "    }\n",
       "\n",
       "    .dataframe tbody tr th {\n",
       "        vertical-align: top;\n",
       "    }\n",
       "\n",
       "    .dataframe thead th {\n",
       "        text-align: right;\n",
       "    }\n",
       "</style>\n",
       "<table border=\"1\" class=\"dataframe\">\n",
       "  <thead>\n",
       "    <tr style=\"text-align: right;\">\n",
       "      <th></th>\n",
       "      <th>Medicine_ID</th>\n",
       "      <th>Counterfeit_Weight</th>\n",
       "      <th>DistArea_ID</th>\n",
       "      <th>Active_Since</th>\n",
       "      <th>Medicine_MRP</th>\n",
       "      <th>Medicine_Type</th>\n",
       "      <th>SidEffect_Level</th>\n",
       "      <th>Availability_rating</th>\n",
       "      <th>Area_Type</th>\n",
       "      <th>Area_City_Type</th>\n",
       "      <th>Counterfeit_Sales</th>\n",
       "      <th>data</th>\n",
       "    </tr>\n",
       "  </thead>\n",
       "  <tbody>\n",
       "    <tr>\n",
       "      <th>0</th>\n",
       "      <td>RRA15</td>\n",
       "      <td>13.100</td>\n",
       "      <td>Area046</td>\n",
       "      <td>1995</td>\n",
       "      <td>160.2366</td>\n",
       "      <td>Antimalarial</td>\n",
       "      <td>critical</td>\n",
       "      <td>0.070422</td>\n",
       "      <td>DownTown</td>\n",
       "      <td>Tier 1</td>\n",
       "      <td>1775.5026</td>\n",
       "      <td>train</td>\n",
       "    </tr>\n",
       "    <tr>\n",
       "      <th>1</th>\n",
       "      <td>YVV26</td>\n",
       "      <td>NaN</td>\n",
       "      <td>Area027</td>\n",
       "      <td>1983</td>\n",
       "      <td>110.4384</td>\n",
       "      <td>Mstablizers</td>\n",
       "      <td>mild</td>\n",
       "      <td>0.013000</td>\n",
       "      <td>CityLimits</td>\n",
       "      <td>Tier 3</td>\n",
       "      <td>3069.1520</td>\n",
       "      <td>train</td>\n",
       "    </tr>\n",
       "    <tr>\n",
       "      <th>2</th>\n",
       "      <td>LJC15</td>\n",
       "      <td>9.025</td>\n",
       "      <td>Area046</td>\n",
       "      <td>1995</td>\n",
       "      <td>259.4092</td>\n",
       "      <td>Cardiac</td>\n",
       "      <td>mild</td>\n",
       "      <td>0.060783</td>\n",
       "      <td>DownTown</td>\n",
       "      <td>Tier 1</td>\n",
       "      <td>2603.0920</td>\n",
       "      <td>train</td>\n",
       "    </tr>\n",
       "    <tr>\n",
       "      <th>3</th>\n",
       "      <td>GWC40</td>\n",
       "      <td>11.800</td>\n",
       "      <td>Area046</td>\n",
       "      <td>1995</td>\n",
       "      <td>99.9830</td>\n",
       "      <td>OralContraceptives</td>\n",
       "      <td>mild</td>\n",
       "      <td>0.065555</td>\n",
       "      <td>DownTown</td>\n",
       "      <td>Tier 1</td>\n",
       "      <td>1101.7130</td>\n",
       "      <td>train</td>\n",
       "    </tr>\n",
       "    <tr>\n",
       "      <th>4</th>\n",
       "      <td>QMN13</td>\n",
       "      <td>NaN</td>\n",
       "      <td>Area019</td>\n",
       "      <td>1983</td>\n",
       "      <td>56.4402</td>\n",
       "      <td>Hreplacements</td>\n",
       "      <td>critical</td>\n",
       "      <td>0.248859</td>\n",
       "      <td>MidTownResidential</td>\n",
       "      <td>Tier 1</td>\n",
       "      <td>158.9402</td>\n",
       "      <td>train</td>\n",
       "    </tr>\n",
       "  </tbody>\n",
       "</table>\n",
       "</div>"
      ],
      "text/plain": [
       "  Medicine_ID  Counterfeit_Weight DistArea_ID  Active_Since  Medicine_MRP  \\\n",
       "0       RRA15              13.100     Area046          1995      160.2366   \n",
       "1       YVV26                 NaN     Area027          1983      110.4384   \n",
       "2       LJC15               9.025     Area046          1995      259.4092   \n",
       "3       GWC40              11.800     Area046          1995       99.9830   \n",
       "4       QMN13                 NaN     Area019          1983       56.4402   \n",
       "\n",
       "        Medicine_Type SidEffect_Level  Availability_rating  \\\n",
       "0        Antimalarial        critical             0.070422   \n",
       "1         Mstablizers            mild             0.013000   \n",
       "2             Cardiac            mild             0.060783   \n",
       "3  OralContraceptives            mild             0.065555   \n",
       "4       Hreplacements        critical             0.248859   \n",
       "\n",
       "            Area_Type Area_City_Type  Counterfeit_Sales   data  \n",
       "0            DownTown         Tier 1          1775.5026  train  \n",
       "1          CityLimits         Tier 3          3069.1520  train  \n",
       "2            DownTown         Tier 1          2603.0920  train  \n",
       "3            DownTown         Tier 1          1101.7130  train  \n",
       "4  MidTownResidential         Tier 1           158.9402  train  "
      ]
     },
     "execution_count": 18,
     "metadata": {},
     "output_type": "execute_result"
    }
   ],
   "source": [
    "cc.head()"
   ]
  },
  {
   "cell_type": "code",
   "execution_count": 19,
   "metadata": {},
   "outputs": [
    {
     "data": {
      "text/plain": [
       "Index(['Medicine_ID', 'DistArea_ID', 'Medicine_Type', 'SidEffect_Level',\n",
       "       'Area_Type', 'Area_City_Type', 'data'],\n",
       "      dtype='object')"
      ]
     },
     "execution_count": 19,
     "metadata": {},
     "output_type": "execute_result"
    }
   ],
   "source": [
    "cat_vars=cc.select_dtypes(['object']).columns\n",
    "cat_vars"
   ]
  },
  {
   "cell_type": "code",
   "execution_count": 20,
   "metadata": {},
   "outputs": [
    {
     "name": "stdout",
     "output_type": "stream",
     "text": [
      "Medicine_ID\n",
      "DistArea_ID\n",
      "Medicine_Type\n",
      "SidEffect_Level\n",
      "Area_Type\n",
      "Area_City_Type\n"
     ]
    }
   ],
   "source": [
    "for col in cat_vars[:-1]:\n",
    "    dummy=pd.get_dummies(cc[col],drop_first=True,prefix=col)\n",
    "    cc=pd.concat([cc,dummy],axis=1)\n",
    "    del cc[col]\n",
    "    print(col)\n",
    "del dummy\n",
    "\n"
   ]
  },
  {
   "cell_type": "code",
   "execution_count": 21,
   "metadata": {},
   "outputs": [
    {
     "data": {
      "text/plain": [
       "(8523, 1592)"
      ]
     },
     "execution_count": 21,
     "metadata": {},
     "output_type": "execute_result"
    }
   ],
   "source": [
    "cc.shape"
   ]
  },
  {
   "cell_type": "code",
   "execution_count": 22,
   "metadata": {},
   "outputs": [
    {
     "name": "stdout",
     "output_type": "stream",
     "text": [
      "<class 'pandas.core.frame.DataFrame'>\n",
      "Int64Index: 8523 entries, 0 to 1704\n",
      "Columns: 1592 entries, Counterfeit_Weight to Area_City_Type_Tier 3\n",
      "dtypes: float64(4), int64(1), object(1), uint8(1586)\n",
      "memory usage: 13.3+ MB\n"
     ]
    }
   ],
   "source": [
    "cc.info()"
   ]
  },
  {
   "cell_type": "code",
   "execution_count": 23,
   "metadata": {},
   "outputs": [
    {
     "data": {
      "text/plain": [
       "Counterfeit_Weight              1463\n",
       "Active_Since                       0\n",
       "Medicine_MRP                       0\n",
       "Availability_rating                0\n",
       "Counterfeit_Sales               1705\n",
       "                                ... \n",
       "Area_Type_DownTown                 0\n",
       "Area_Type_Industrial               0\n",
       "Area_Type_MidTownResidential       0\n",
       "Area_City_Type_Tier 2              0\n",
       "Area_City_Type_Tier 3              0\n",
       "Length: 1592, dtype: int64"
      ]
     },
     "execution_count": 23,
     "metadata": {},
     "output_type": "execute_result"
    }
   ],
   "source": [
    "cc.isnull().sum()"
   ]
  },
  {
   "cell_type": "code",
   "execution_count": 24,
   "metadata": {},
   "outputs": [
    {
     "name": "stdout",
     "output_type": "stream",
     "text": [
      "Counterfeit_Weight\n",
      "Counterfeit_Sales\n"
     ]
    }
   ],
   "source": [
    "for col in cc.columns:\n",
    "    if(cc[col].isnull().sum()>0):\n",
    "        print(col) "
   ]
  },
  {
   "cell_type": "code",
   "execution_count": 25,
   "metadata": {},
   "outputs": [],
   "source": [
    "cc['Counterfeit_Weight'].fillna(cc['Counterfeit_Weight'].mean(), inplace=True)\n",
    "cc['Counterfeit_Sales'].fillna(cc['Counterfeit_Sales'].mean(), inplace=True)"
   ]
  },
  {
   "cell_type": "code",
   "execution_count": 26,
   "metadata": {},
   "outputs": [],
   "source": [
    "cc_train=cc[cc['data']=='train']\n",
    "del cc_train['data']"
   ]
  },
  {
   "cell_type": "code",
   "execution_count": 27,
   "metadata": {},
   "outputs": [
    {
     "name": "stderr",
     "output_type": "stream",
     "text": [
      "C:\\Users\\Admin\\anaconda3\\lib\\site-packages\\pandas\\core\\frame.py:3997: SettingWithCopyWarning: \n",
      "A value is trying to be set on a copy of a slice from a DataFrame\n",
      "\n",
      "See the caveats in the documentation: https://pandas.pydata.org/pandas-docs/stable/user_guide/indexing.html#returning-a-view-versus-a-copy\n",
      "  errors=errors,\n"
     ]
    }
   ],
   "source": [
    "cc_test=cc[cc['data']=='test']\n",
    "cc_test.drop(['Counterfeit_Sales','data'],axis=1,inplace=True)"
   ]
  },
  {
   "cell_type": "markdown",
   "metadata": {},
   "source": [
    "# LINEAR REGRESSION\n"
   ]
  },
  {
   "cell_type": "code",
   "execution_count": 28,
   "metadata": {},
   "outputs": [],
   "source": [
    "from sklearn.model_selection import train_test_split"
   ]
  },
  {
   "cell_type": "code",
   "execution_count": 29,
   "metadata": {},
   "outputs": [],
   "source": [
    "cc_train1,cc_train2=train_test_split(cc_train,test_size=0.2,random_state=2)"
   ]
  },
  {
   "cell_type": "code",
   "execution_count": 30,
   "metadata": {},
   "outputs": [],
   "source": [
    "x_train1=cc_train1.drop('Counterfeit_Sales',axis=1) # Feature Dataset\n",
    "y_train1=cc_train1['Counterfeit_Sales'] # Target dataset"
   ]
  },
  {
   "cell_type": "code",
   "execution_count": null,
   "metadata": {},
   "outputs": [],
   "source": [
    "from sklearn.linear_model import LinearRegression"
   ]
  },
  {
   "cell_type": "code",
   "execution_count": null,
   "metadata": {},
   "outputs": [],
   "source": [
    "lm=LinearRegression()"
   ]
  },
  {
   "cell_type": "code",
   "execution_count": null,
   "metadata": {},
   "outputs": [],
   "source": [
    "lm.fit(x_train1,y_train1)"
   ]
  },
  {
   "cell_type": "code",
   "execution_count": null,
   "metadata": {},
   "outputs": [],
   "source": [
    "lm.intercept_"
   ]
  },
  {
   "cell_type": "code",
   "execution_count": null,
   "metadata": {},
   "outputs": [],
   "source": [
    "list(zip(x_train1.columns,lm.coef_))"
   ]
  },
  {
   "cell_type": "code",
   "execution_count": null,
   "metadata": {},
   "outputs": [],
   "source": [
    "x_train2=cc_train2.drop('Counterfeit_Sales',axis=1)"
   ]
  },
  {
   "cell_type": "code",
   "execution_count": null,
   "metadata": {},
   "outputs": [],
   "source": [
    "predicted_ir=lm.predict(x_train2)"
   ]
  },
  {
   "cell_type": "code",
   "execution_count": null,
   "metadata": {},
   "outputs": [],
   "source": [
    "print(predicted_ir[:10])"
   ]
  },
  {
   "cell_type": "code",
   "execution_count": null,
   "metadata": {},
   "outputs": [],
   "source": [
    "from sklearn.metrics import mean_absolute_error"
   ]
  },
  {
   "cell_type": "code",
   "execution_count": null,
   "metadata": {},
   "outputs": [],
   "source": [
    "mean_absolute_error(cc_train2['Counterfeit_Sales'],predicted_ir)"
   ]
  },
  {
   "cell_type": "code",
   "execution_count": null,
   "metadata": {},
   "outputs": [],
   "source": [
    "/1660)\n",
    "Score"
   ]
  },
  {
   "cell_type": "code",
   "execution_count": null,
   "metadata": {},
   "outputs": [],
   "source": [
    "x_train=cc_train.drop('Counterfeit_Sales',axis=1)\n",
    "y_train=cc_train['Counterfeit_Sales']"
   ]
  },
  {
   "cell_type": "code",
   "execution_count": null,
   "metadata": {},
   "outputs": [],
   "source": [
    "lm.fit(x_train,y_train)"
   ]
  },
  {
   "cell_type": "code",
   "execution_count": null,
   "metadata": {},
   "outputs": [],
   "source": [
    "lm.intercept_"
   ]
  },
  {
   "cell_type": "code",
   "execution_count": null,
   "metadata": {},
   "outputs": [],
   "source": [
    "test_pred=lm.predict(cc_test)\n",
    "test_pred"
   ]
  },
  {
   "cell_type": "markdown",
   "metadata": {},
   "source": [
    "# RANDOM FOREST"
   ]
  },
  {
   "cell_type": "code",
   "execution_count": 31,
   "metadata": {},
   "outputs": [],
   "source": [
    "from sklearn.model_selection import cross_val_predict, GridSearchCV\n",
    "from sklearn.ensemble import RandomForestRegressor\n",
    "from sklearn.preprocessing import MinMaxScaler"
   ]
  },
  {
   "cell_type": "code",
   "execution_count": 32,
   "metadata": {},
   "outputs": [],
   "source": [
    "from sklearn.model_selection import RandomizedSearchCV"
   ]
  },
  {
   "cell_type": "code",
   "execution_count": 33,
   "metadata": {},
   "outputs": [],
   "source": [
    "x_train=cc_train.drop(['Counterfeit_Sales'], axis=1)\n",
    "y_train= cc_train['Counterfeit_Sales']"
   ]
  },
  {
   "cell_type": "code",
   "execution_count": 34,
   "metadata": {},
   "outputs": [],
   "source": [
    "rfr = RandomForestRegressor( random_state=42)"
   ]
  },
  {
   "cell_type": "code",
   "execution_count": 35,
   "metadata": {},
   "outputs": [],
   "source": [
    "param_dist={'max_depth': range(3,7),\n",
    "            'n_estimators': (10, 50,15,20,25)}"
   ]
  },
  {
   "cell_type": "code",
   "execution_count": 36,
   "metadata": {},
   "outputs": [],
   "source": [
    "n_iter_search=10\n",
    "random_search = RandomizedSearchCV(rfr, param_distributions=param_dist,n_iter=n_iter_search,scoring='neg_mean_squared_error',cv=10,verbose=20)\n"
   ]
  },
  {
   "cell_type": "code",
   "execution_count": 37,
   "metadata": {},
   "outputs": [
    {
     "name": "stdout",
     "output_type": "stream",
     "text": [
      "Fitting 10 folds for each of 10 candidates, totalling 100 fits\n",
      "[CV] n_estimators=20, max_depth=6 ....................................\n"
     ]
    },
    {
     "name": "stderr",
     "output_type": "stream",
     "text": [
      "[Parallel(n_jobs=1)]: Using backend SequentialBackend with 1 concurrent workers.\n"
     ]
    },
    {
     "name": "stdout",
     "output_type": "stream",
     "text": [
      "[CV] . n_estimators=20, max_depth=6, score=-1042205.361, total=  15.0s\n",
      "[CV] n_estimators=20, max_depth=6 ....................................\n"
     ]
    },
    {
     "name": "stderr",
     "output_type": "stream",
     "text": [
      "[Parallel(n_jobs=1)]: Done   1 out of   1 | elapsed:   14.9s remaining:    0.0s\n"
     ]
    },
    {
     "name": "stdout",
     "output_type": "stream",
     "text": [
      "[CV] . n_estimators=20, max_depth=6, score=-1177836.195, total=  14.6s\n",
      "[CV] n_estimators=20, max_depth=6 ....................................\n"
     ]
    },
    {
     "name": "stderr",
     "output_type": "stream",
     "text": [
      "[Parallel(n_jobs=1)]: Done   2 out of   2 | elapsed:   29.5s remaining:    0.0s\n"
     ]
    },
    {
     "name": "stdout",
     "output_type": "stream",
     "text": [
      "[CV] . n_estimators=20, max_depth=6, score=-1135428.295, total=  14.4s\n",
      "[CV] n_estimators=20, max_depth=6 ....................................\n"
     ]
    },
    {
     "name": "stderr",
     "output_type": "stream",
     "text": [
      "[Parallel(n_jobs=1)]: Done   3 out of   3 | elapsed:   44.0s remaining:    0.0s\n"
     ]
    },
    {
     "name": "stdout",
     "output_type": "stream",
     "text": [
      "[CV] . n_estimators=20, max_depth=6, score=-1115109.512, total=  14.4s\n",
      "[CV] n_estimators=20, max_depth=6 ....................................\n"
     ]
    },
    {
     "name": "stderr",
     "output_type": "stream",
     "text": [
      "[Parallel(n_jobs=1)]: Done   4 out of   4 | elapsed:   58.3s remaining:    0.0s\n"
     ]
    },
    {
     "name": "stdout",
     "output_type": "stream",
     "text": [
      "[CV] . n_estimators=20, max_depth=6, score=-1399756.243, total=  14.7s\n",
      "[CV] n_estimators=20, max_depth=6 ....................................\n"
     ]
    },
    {
     "name": "stderr",
     "output_type": "stream",
     "text": [
      "[Parallel(n_jobs=1)]: Done   5 out of   5 | elapsed:  1.2min remaining:    0.0s\n"
     ]
    },
    {
     "name": "stdout",
     "output_type": "stream",
     "text": [
      "[CV] . n_estimators=20, max_depth=6, score=-1109409.264, total=  14.6s\n",
      "[CV] n_estimators=20, max_depth=6 ....................................\n"
     ]
    },
    {
     "name": "stderr",
     "output_type": "stream",
     "text": [
      "[Parallel(n_jobs=1)]: Done   6 out of   6 | elapsed:  1.5min remaining:    0.0s\n"
     ]
    },
    {
     "name": "stdout",
     "output_type": "stream",
     "text": [
      "[CV] . n_estimators=20, max_depth=6, score=-1059450.304, total=  14.6s\n",
      "[CV] n_estimators=20, max_depth=6 ....................................\n"
     ]
    },
    {
     "name": "stderr",
     "output_type": "stream",
     "text": [
      "[Parallel(n_jobs=1)]: Done   7 out of   7 | elapsed:  1.7min remaining:    0.0s\n"
     ]
    },
    {
     "name": "stdout",
     "output_type": "stream",
     "text": [
      "[CV] . n_estimators=20, max_depth=6, score=-1096133.227, total=  14.5s\n",
      "[CV] n_estimators=20, max_depth=6 ....................................\n"
     ]
    },
    {
     "name": "stderr",
     "output_type": "stream",
     "text": [
      "[Parallel(n_jobs=1)]: Done   8 out of   8 | elapsed:  1.9min remaining:    0.0s\n"
     ]
    },
    {
     "name": "stdout",
     "output_type": "stream",
     "text": [
      "[CV] . n_estimators=20, max_depth=6, score=-1211149.815, total=  14.3s\n",
      "[CV] n_estimators=20, max_depth=6 ....................................\n"
     ]
    },
    {
     "name": "stderr",
     "output_type": "stream",
     "text": [
      "[Parallel(n_jobs=1)]: Done   9 out of   9 | elapsed:  2.2min remaining:    0.0s\n"
     ]
    },
    {
     "name": "stdout",
     "output_type": "stream",
     "text": [
      "[CV] . n_estimators=20, max_depth=6, score=-1145175.683, total=  14.5s\n",
      "[CV] n_estimators=20, max_depth=4 ....................................\n"
     ]
    },
    {
     "name": "stderr",
     "output_type": "stream",
     "text": [
      "[Parallel(n_jobs=1)]: Done  10 out of  10 | elapsed:  2.4min remaining:    0.0s\n"
     ]
    },
    {
     "name": "stdout",
     "output_type": "stream",
     "text": [
      "[CV] . n_estimators=20, max_depth=4, score=-1075754.185, total=  11.4s\n",
      "[CV] n_estimators=20, max_depth=4 ....................................\n"
     ]
    },
    {
     "name": "stderr",
     "output_type": "stream",
     "text": [
      "[Parallel(n_jobs=1)]: Done  11 out of  11 | elapsed:  2.6min remaining:    0.0s\n"
     ]
    },
    {
     "name": "stdout",
     "output_type": "stream",
     "text": [
      "[CV] . n_estimators=20, max_depth=4, score=-1197366.207, total=  11.4s\n",
      "[CV] n_estimators=20, max_depth=4 ....................................\n"
     ]
    },
    {
     "name": "stderr",
     "output_type": "stream",
     "text": [
      "[Parallel(n_jobs=1)]: Done  12 out of  12 | elapsed:  2.8min remaining:    0.0s\n"
     ]
    },
    {
     "name": "stdout",
     "output_type": "stream",
     "text": [
      "[CV] . n_estimators=20, max_depth=4, score=-1143295.363, total=  11.4s\n",
      "[CV] n_estimators=20, max_depth=4 ....................................\n"
     ]
    },
    {
     "name": "stderr",
     "output_type": "stream",
     "text": [
      "[Parallel(n_jobs=1)]: Done  13 out of  13 | elapsed:  3.0min remaining:    0.0s\n"
     ]
    },
    {
     "name": "stdout",
     "output_type": "stream",
     "text": [
      "[CV] . n_estimators=20, max_depth=4, score=-1125252.337, total=  11.3s\n",
      "[CV] n_estimators=20, max_depth=4 ....................................\n"
     ]
    },
    {
     "name": "stderr",
     "output_type": "stream",
     "text": [
      "[Parallel(n_jobs=1)]: Done  14 out of  14 | elapsed:  3.2min remaining:    0.0s\n"
     ]
    },
    {
     "name": "stdout",
     "output_type": "stream",
     "text": [
      "[CV] . n_estimators=20, max_depth=4, score=-1407253.208, total=  11.3s\n",
      "[CV] n_estimators=20, max_depth=4 ....................................\n"
     ]
    },
    {
     "name": "stderr",
     "output_type": "stream",
     "text": [
      "[Parallel(n_jobs=1)]: Done  15 out of  15 | elapsed:  3.4min remaining:    0.0s\n"
     ]
    },
    {
     "name": "stdout",
     "output_type": "stream",
     "text": [
      "[CV] . n_estimators=20, max_depth=4, score=-1124019.552, total=  11.5s\n",
      "[CV] n_estimators=20, max_depth=4 ....................................\n"
     ]
    },
    {
     "name": "stderr",
     "output_type": "stream",
     "text": [
      "[Parallel(n_jobs=1)]: Done  16 out of  16 | elapsed:  3.6min remaining:    0.0s\n"
     ]
    },
    {
     "name": "stdout",
     "output_type": "stream",
     "text": [
      "[CV] . n_estimators=20, max_depth=4, score=-1077918.954, total=  11.3s\n",
      "[CV] n_estimators=20, max_depth=4 ....................................\n"
     ]
    },
    {
     "name": "stderr",
     "output_type": "stream",
     "text": [
      "[Parallel(n_jobs=1)]: Done  17 out of  17 | elapsed:  3.8min remaining:    0.0s\n"
     ]
    },
    {
     "name": "stdout",
     "output_type": "stream",
     "text": [
      "[CV] . n_estimators=20, max_depth=4, score=-1129335.714, total=  11.0s\n",
      "[CV] n_estimators=20, max_depth=4 ....................................\n"
     ]
    },
    {
     "name": "stderr",
     "output_type": "stream",
     "text": [
      "[Parallel(n_jobs=1)]: Done  18 out of  18 | elapsed:  3.9min remaining:    0.0s\n"
     ]
    },
    {
     "name": "stdout",
     "output_type": "stream",
     "text": [
      "[CV] . n_estimators=20, max_depth=4, score=-1264120.066, total=  11.5s\n",
      "[CV] n_estimators=20, max_depth=4 ....................................\n"
     ]
    },
    {
     "name": "stderr",
     "output_type": "stream",
     "text": [
      "[Parallel(n_jobs=1)]: Done  19 out of  19 | elapsed:  4.1min remaining:    0.0s\n"
     ]
    },
    {
     "name": "stdout",
     "output_type": "stream",
     "text": [
      "[CV] . n_estimators=20, max_depth=4, score=-1188475.171, total=  11.3s\n",
      "[CV] n_estimators=50, max_depth=4 ....................................\n",
      "[CV] . n_estimators=50, max_depth=4, score=-1075494.465, total=  27.6s\n",
      "[CV] n_estimators=50, max_depth=4 ....................................\n",
      "[CV] . n_estimators=50, max_depth=4, score=-1190543.969, total=  27.4s\n",
      "[CV] n_estimators=50, max_depth=4 ....................................\n",
      "[CV] . n_estimators=50, max_depth=4, score=-1135253.173, total=  27.5s\n",
      "[CV] n_estimators=50, max_depth=4 ....................................\n",
      "[CV] . n_estimators=50, max_depth=4, score=-1126697.181, total=  27.5s\n",
      "[CV] n_estimators=50, max_depth=4 ....................................\n",
      "[CV] . n_estimators=50, max_depth=4, score=-1398871.593, total=  27.7s\n",
      "[CV] n_estimators=50, max_depth=4 ....................................\n",
      "[CV] . n_estimators=50, max_depth=4, score=-1124910.410, total=  27.9s\n",
      "[CV] n_estimators=50, max_depth=4 ....................................\n",
      "[CV] . n_estimators=50, max_depth=4, score=-1081306.151, total=  27.7s\n",
      "[CV] n_estimators=50, max_depth=4 ....................................\n",
      "[CV] . n_estimators=50, max_depth=4, score=-1112190.069, total=  27.8s\n",
      "[CV] n_estimators=50, max_depth=4 ....................................\n",
      "[CV] . n_estimators=50, max_depth=4, score=-1261488.789, total=  27.7s\n",
      "[CV] n_estimators=50, max_depth=4 ....................................\n",
      "[CV] . n_estimators=50, max_depth=4, score=-1180562.612, total=  29.9s\n",
      "[CV] n_estimators=50, max_depth=5 ....................................\n",
      "[CV] . n_estimators=50, max_depth=5, score=-1043217.409, total=  31.9s\n",
      "[CV] n_estimators=50, max_depth=5 ....................................\n",
      "[CV] . n_estimators=50, max_depth=5, score=-1170405.048, total=  32.5s\n",
      "[CV] n_estimators=50, max_depth=5 ....................................\n",
      "[CV] . n_estimators=50, max_depth=5, score=-1116940.771, total=  20.1s\n",
      "[CV] n_estimators=50, max_depth=5 ....................................\n",
      "[CV] . n_estimators=50, max_depth=5, score=-1117236.576, total=  20.6s\n",
      "[CV] n_estimators=50, max_depth=5 ....................................\n",
      "[CV] . n_estimators=50, max_depth=5, score=-1387268.974, total=  20.6s\n",
      "[CV] n_estimators=50, max_depth=5 ....................................\n",
      "[CV] . n_estimators=50, max_depth=5, score=-1127489.956, total=  20.3s\n",
      "[CV] n_estimators=50, max_depth=5 ....................................\n",
      "[CV] . n_estimators=50, max_depth=5, score=-1059305.191, total=  20.5s\n",
      "[CV] n_estimators=50, max_depth=5 ....................................\n",
      "[CV] . n_estimators=50, max_depth=5, score=-1079569.027, total=  20.3s\n",
      "[CV] n_estimators=50, max_depth=5 ....................................\n",
      "[CV] . n_estimators=50, max_depth=5, score=-1222500.996, total=  20.7s\n",
      "[CV] n_estimators=50, max_depth=5 ....................................\n",
      "[CV] . n_estimators=50, max_depth=5, score=-1139094.092, total=  20.6s\n",
      "[CV] n_estimators=15, max_depth=4 ....................................\n",
      "[CV] . n_estimators=15, max_depth=4, score=-1077097.732, total=   5.6s\n",
      "[CV] n_estimators=15, max_depth=4 ....................................\n",
      "[CV] . n_estimators=15, max_depth=4, score=-1197722.744, total=   5.5s\n",
      "[CV] n_estimators=15, max_depth=4 ....................................\n",
      "[CV] . n_estimators=15, max_depth=4, score=-1147491.297, total=   5.8s\n",
      "[CV] n_estimators=15, max_depth=4 ....................................\n",
      "[CV] . n_estimators=15, max_depth=4, score=-1123985.757, total=   6.7s\n",
      "[CV] n_estimators=15, max_depth=4 ....................................\n",
      "[CV] . n_estimators=15, max_depth=4, score=-1412191.205, total=   6.1s\n",
      "[CV] n_estimators=15, max_depth=4 ....................................\n",
      "[CV] . n_estimators=15, max_depth=4, score=-1119730.936, total=   6.2s\n",
      "[CV] n_estimators=15, max_depth=4 ....................................\n",
      "[CV] . n_estimators=15, max_depth=4, score=-1079621.272, total=   5.9s\n",
      "[CV] n_estimators=15, max_depth=4 ....................................\n",
      "[CV] . n_estimators=15, max_depth=4, score=-1126047.047, total=   6.2s\n",
      "[CV] n_estimators=15, max_depth=4 ....................................\n",
      "[CV] . n_estimators=15, max_depth=4, score=-1265426.133, total=   6.2s\n",
      "[CV] n_estimators=15, max_depth=4 ....................................\n",
      "[CV] . n_estimators=15, max_depth=4, score=-1188546.407, total=   6.3s\n",
      "[CV] n_estimators=10, max_depth=3 ....................................\n",
      "[CV] . n_estimators=10, max_depth=3, score=-1247431.522, total=   3.5s\n",
      "[CV] n_estimators=10, max_depth=3 ....................................\n",
      "[CV] . n_estimators=10, max_depth=3, score=-1344563.270, total=   3.5s\n",
      "[CV] n_estimators=10, max_depth=3 ....................................\n",
      "[CV] . n_estimators=10, max_depth=3, score=-1179088.442, total=   3.4s\n",
      "[CV] n_estimators=10, max_depth=3 ....................................\n",
      "[CV] . n_estimators=10, max_depth=3, score=-1335580.837, total=   3.4s\n",
      "[CV] n_estimators=10, max_depth=3 ....................................\n",
      "[CV] . n_estimators=10, max_depth=3, score=-1586945.512, total=   3.7s\n",
      "[CV] n_estimators=10, max_depth=3 ....................................\n",
      "[CV] . n_estimators=10, max_depth=3, score=-1322276.016, total=   3.5s\n",
      "[CV] n_estimators=10, max_depth=3 ....................................\n",
      "[CV] . n_estimators=10, max_depth=3, score=-1184140.495, total=   3.5s\n",
      "[CV] n_estimators=10, max_depth=3 ....................................\n",
      "[CV] . n_estimators=10, max_depth=3, score=-1165190.228, total=   3.7s\n",
      "[CV] n_estimators=10, max_depth=3 ....................................\n",
      "[CV] . n_estimators=10, max_depth=3, score=-1427018.712, total=   3.5s\n",
      "[CV] n_estimators=10, max_depth=3 ....................................\n",
      "[CV] . n_estimators=10, max_depth=3, score=-1242187.710, total=   3.7s\n",
      "[CV] n_estimators=25, max_depth=6 ....................................\n",
      "[CV] . n_estimators=25, max_depth=6, score=-1042622.468, total=  13.0s\n",
      "[CV] n_estimators=25, max_depth=6 ....................................\n",
      "[CV] . n_estimators=25, max_depth=6, score=-1173155.115, total=  13.4s\n",
      "[CV] n_estimators=25, max_depth=6 ....................................\n",
      "[CV] . n_estimators=25, max_depth=6, score=-1129385.533, total=  12.8s\n",
      "[CV] n_estimators=25, max_depth=6 ....................................\n",
      "[CV] . n_estimators=25, max_depth=6, score=-1116625.728, total=  12.4s\n",
      "[CV] n_estimators=25, max_depth=6 ....................................\n",
      "[CV] . n_estimators=25, max_depth=6, score=-1397084.508, total=  12.4s\n",
      "[CV] n_estimators=25, max_depth=6 ....................................\n",
      "[CV] . n_estimators=25, max_depth=6, score=-1111868.076, total=  12.4s\n",
      "[CV] n_estimators=25, max_depth=6 ....................................\n",
      "[CV] . n_estimators=25, max_depth=6, score=-1059246.283, total=  12.3s\n",
      "[CV] n_estimators=25, max_depth=6 ....................................\n",
      "[CV] . n_estimators=25, max_depth=6, score=-1092771.553, total=  12.3s\n",
      "[CV] n_estimators=25, max_depth=6 ....................................\n",
      "[CV] . n_estimators=25, max_depth=6, score=-1213566.302, total=  12.3s\n",
      "[CV] n_estimators=25, max_depth=6 ....................................\n",
      "[CV] . n_estimators=25, max_depth=6, score=-1140440.118, total=  12.3s\n",
      "[CV] n_estimators=50, max_depth=3 ....................................\n",
      "[CV] . n_estimators=50, max_depth=3, score=-1247455.647, total=  15.1s\n",
      "[CV] n_estimators=50, max_depth=3 ....................................\n",
      "[CV] . n_estimators=50, max_depth=3, score=-1336936.092, total=  10.8s\n",
      "[CV] n_estimators=50, max_depth=3 ....................................\n",
      "[CV] . n_estimators=50, max_depth=3, score=-1186448.680, total=  10.3s\n",
      "[CV] n_estimators=50, max_depth=3 ....................................\n",
      "[CV] . n_estimators=50, max_depth=3, score=-1317153.058, total=  10.3s\n",
      "[CV] n_estimators=50, max_depth=3 ....................................\n",
      "[CV] . n_estimators=50, max_depth=3, score=-1576925.057, total=  10.1s\n",
      "[CV] n_estimators=50, max_depth=3 ....................................\n",
      "[CV] . n_estimators=50, max_depth=3, score=-1339148.303, total=  11.2s\n",
      "[CV] n_estimators=50, max_depth=3 ....................................\n",
      "[CV] . n_estimators=50, max_depth=3, score=-1195688.262, total=  10.3s\n",
      "[CV] n_estimators=50, max_depth=3 ....................................\n"
     ]
    },
    {
     "name": "stdout",
     "output_type": "stream",
     "text": [
      "[CV] . n_estimators=50, max_depth=3, score=-1168546.508, total=  10.1s\n",
      "[CV] n_estimators=50, max_depth=3 ....................................\n",
      "[CV] . n_estimators=50, max_depth=3, score=-1412874.660, total=  10.3s\n",
      "[CV] n_estimators=50, max_depth=3 ....................................\n",
      "[CV] . n_estimators=50, max_depth=3, score=-1236052.432, total=  10.4s\n",
      "[CV] n_estimators=15, max_depth=5 ....................................\n",
      "[CV] . n_estimators=15, max_depth=5, score=-1040626.673, total=   4.5s\n",
      "[CV] n_estimators=15, max_depth=5 ....................................\n",
      "[CV] . n_estimators=15, max_depth=5, score=-1173818.307, total=   4.6s\n",
      "[CV] n_estimators=15, max_depth=5 ....................................\n",
      "[CV] . n_estimators=15, max_depth=5, score=-1127728.688, total=   4.5s\n",
      "[CV] n_estimators=15, max_depth=5 ....................................\n",
      "[CV] . n_estimators=15, max_depth=5, score=-1110511.099, total=   4.8s\n",
      "[CV] n_estimators=15, max_depth=5 ....................................\n",
      "[CV] . n_estimators=15, max_depth=5, score=-1397085.615, total=   4.8s\n",
      "[CV] n_estimators=15, max_depth=5 ....................................\n",
      "[CV] . n_estimators=15, max_depth=5, score=-1112473.229, total=   4.7s\n",
      "[CV] n_estimators=15, max_depth=5 ....................................\n",
      "[CV] . n_estimators=15, max_depth=5, score=-1059344.075, total=   5.1s\n",
      "[CV] n_estimators=15, max_depth=5 ....................................\n",
      "[CV] . n_estimators=15, max_depth=5, score=-1081515.285, total=   4.5s\n",
      "[CV] n_estimators=15, max_depth=5 ....................................\n",
      "[CV] . n_estimators=15, max_depth=5, score=-1225897.896, total=   4.5s\n",
      "[CV] n_estimators=15, max_depth=5 ....................................\n",
      "[CV] . n_estimators=15, max_depth=5, score=-1148573.090, total=   4.6s\n",
      "[CV] n_estimators=10, max_depth=4 ....................................\n",
      "[CV] . n_estimators=10, max_depth=4, score=-1077141.703, total=   2.9s\n",
      "[CV] n_estimators=10, max_depth=4 ....................................\n",
      "[CV] . n_estimators=10, max_depth=4, score=-1194145.734, total=   2.8s\n",
      "[CV] n_estimators=10, max_depth=4 ....................................\n",
      "[CV] . n_estimators=10, max_depth=4, score=-1145129.614, total=   2.7s\n",
      "[CV] n_estimators=10, max_depth=4 ....................................\n",
      "[CV] . n_estimators=10, max_depth=4, score=-1127941.174, total=   2.7s\n",
      "[CV] n_estimators=10, max_depth=4 ....................................\n",
      "[CV] . n_estimators=10, max_depth=4, score=-1414851.405, total=   2.8s\n",
      "[CV] n_estimators=10, max_depth=4 ....................................\n",
      "[CV] . n_estimators=10, max_depth=4, score=-1114033.415, total=   2.9s\n",
      "[CV] n_estimators=10, max_depth=4 ....................................\n",
      "[CV] . n_estimators=10, max_depth=4, score=-1078003.702, total=   2.8s\n",
      "[CV] n_estimators=10, max_depth=4 ....................................\n",
      "[CV] . n_estimators=10, max_depth=4, score=-1118373.672, total=   2.7s\n",
      "[CV] n_estimators=10, max_depth=4 ....................................\n",
      "[CV] . n_estimators=10, max_depth=4, score=-1264272.826, total=   2.7s\n",
      "[CV] n_estimators=10, max_depth=4 ....................................\n",
      "[CV] . n_estimators=10, max_depth=4, score=-1187954.258, total=   2.7s\n"
     ]
    },
    {
     "name": "stderr",
     "output_type": "stream",
     "text": [
      "[Parallel(n_jobs=1)]: Done 100 out of 100 | elapsed: 19.5min finished\n"
     ]
    },
    {
     "data": {
      "text/plain": [
       "RandomizedSearchCV(cv=10, error_score=nan,\n",
       "                   estimator=RandomForestRegressor(bootstrap=True,\n",
       "                                                   ccp_alpha=0.0,\n",
       "                                                   criterion='mse',\n",
       "                                                   max_depth=None,\n",
       "                                                   max_features='auto',\n",
       "                                                   max_leaf_nodes=None,\n",
       "                                                   max_samples=None,\n",
       "                                                   min_impurity_decrease=0.0,\n",
       "                                                   min_impurity_split=None,\n",
       "                                                   min_samples_leaf=1,\n",
       "                                                   min_samples_split=2,\n",
       "                                                   min_weight_fraction_leaf=0.0,\n",
       "                                                   n_estimators=100,\n",
       "                                                   n_jobs=None, oob_score=False,\n",
       "                                                   random_state=42, verbose=0,\n",
       "                                                   warm_start=False),\n",
       "                   iid='deprecated', n_iter=10, n_jobs=None,\n",
       "                   param_distributions={'max_depth': range(3, 7),\n",
       "                                        'n_estimators': (10, 50, 15, 20, 25)},\n",
       "                   pre_dispatch='2*n_jobs', random_state=None, refit=True,\n",
       "                   return_train_score=False, scoring='neg_mean_squared_error',\n",
       "                   verbose=20)"
      ]
     },
     "execution_count": 37,
     "metadata": {},
     "output_type": "execute_result"
    }
   ],
   "source": [
    "random_search.fit(x_train, y_train)"
   ]
  },
  {
   "cell_type": "code",
   "execution_count": 38,
   "metadata": {},
   "outputs": [
    {
     "data": {
      "text/plain": [
       "RandomForestRegressor(bootstrap=True, ccp_alpha=0.0, criterion='mse',\n",
       "                      max_depth=5, max_features='auto', max_leaf_nodes=None,\n",
       "                      max_samples=None, min_impurity_decrease=0.0,\n",
       "                      min_impurity_split=None, min_samples_leaf=1,\n",
       "                      min_samples_split=2, min_weight_fraction_leaf=0.0,\n",
       "                      n_estimators=50, n_jobs=None, oob_score=False,\n",
       "                      random_state=42, verbose=0, warm_start=False)"
      ]
     },
     "execution_count": 38,
     "metadata": {},
     "output_type": "execute_result"
    }
   ],
   "source": [
    "random_search.best_estimator_"
   ]
  },
  {
   "cell_type": "code",
   "execution_count": 39,
   "metadata": {},
   "outputs": [],
   "source": [
    "def report(results, n_top=3):\n",
    "    for i in range(1, n_top + 1):\n",
    "        # np.flatnonzero extracts index of `True` in a boolean array\n",
    "        candidate = np.flatnonzero(results['rank_test_score'] == i)[0]\n",
    "        # print rank of the model\n",
    "        # values passed to function format here are put in the curly brackets when printing\n",
    "        # 0 , 1 etc refer to placeholder for position of values passed to format function\n",
    "        # .3f means upto 2 decimal digits\n",
    "        print(\"Model with rank: {0}\".format(i))\n",
    "        # this prints cross validated performance and its standard deviation\n",
    "        print(\"Mean validation score: {0:.5f} (std: {1:.5f})\".format(\n",
    "            results['mean_test_score'][candidate],\n",
    "            results['std_test_score'][candidate]))\n",
    "        # prints the paramter combination for which this performance was obtained\n",
    "        print(\"Parameters: {0}\".format(results['params'][candidate]))\n",
    "        print(\"\")"
   ]
  },
  {
   "cell_type": "code",
   "execution_count": 40,
   "metadata": {},
   "outputs": [
    {
     "name": "stdout",
     "output_type": "stream",
     "text": [
      "Model with rank: 1\n",
      "Mean validation score: -1146302.80403 (std: 94452.75081)\n",
      "Parameters: {'n_estimators': 50, 'max_depth': 5}\n",
      "\n",
      "Model with rank: 2\n",
      "Mean validation score: -1147676.56833 (std: 95759.64947)\n",
      "Parameters: {'n_estimators': 25, 'max_depth': 6}\n",
      "\n",
      "Model with rank: 3\n",
      "Mean validation score: -1147757.39569 (std: 97808.82751)\n",
      "Parameters: {'n_estimators': 15, 'max_depth': 5}\n",
      "\n",
      "Model with rank: 4\n",
      "Mean validation score: -1149165.38973 (std: 96284.21060)\n",
      "Parameters: {'n_estimators': 20, 'max_depth': 6}\n",
      "\n",
      "Model with rank: 5\n",
      "Mean validation score: -1168731.84108 (std: 93019.01741)\n",
      "Parameters: {'n_estimators': 50, 'max_depth': 4}\n",
      "\n"
     ]
    }
   ],
   "source": [
    "report(random_search.cv_results_,5)"
   ]
  },
  {
   "cell_type": "code",
   "execution_count": 41,
   "metadata": {},
   "outputs": [],
   "source": [
    "rf=RandomForestRegressor(bootstrap=True, ccp_alpha=0.0, criterion='mse',\n",
    "                      max_depth=5, max_features='auto', max_leaf_nodes=None,\n",
    "                      max_samples=None, min_impurity_decrease=0.0,\n",
    "                      min_impurity_split=None, min_samples_leaf=1,\n",
    "                      min_samples_split=2, min_weight_fraction_leaf=0.0,\n",
    "                      n_estimators=20, n_jobs=None, oob_score=False,\n",
    "                      random_state=42, verbose=0, warm_start=False)"
   ]
  },
  {
   "cell_type": "code",
   "execution_count": 42,
   "metadata": {},
   "outputs": [
    {
     "data": {
      "text/plain": [
       "RandomForestRegressor(bootstrap=True, ccp_alpha=0.0, criterion='mse',\n",
       "                      max_depth=5, max_features='auto', max_leaf_nodes=None,\n",
       "                      max_samples=None, min_impurity_decrease=0.0,\n",
       "                      min_impurity_split=None, min_samples_leaf=1,\n",
       "                      min_samples_split=2, min_weight_fraction_leaf=0.0,\n",
       "                      n_estimators=20, n_jobs=None, oob_score=False,\n",
       "                      random_state=42, verbose=0, warm_start=False)"
      ]
     },
     "execution_count": 42,
     "metadata": {},
     "output_type": "execute_result"
    }
   ],
   "source": [
    "rf.fit(x_train,y_train)"
   ]
  },
  {
   "cell_type": "code",
   "execution_count": 43,
   "metadata": {},
   "outputs": [],
   "source": [
    "test_score=rf.predict(cc_test)"
   ]
  },
  {
   "cell_type": "code",
   "execution_count": 44,
   "metadata": {},
   "outputs": [
    {
     "data": {
      "text/plain": [
       "array([2331.28044107, 4025.36326272, 1542.74465902, ..., 2901.81017505,\n",
       "       3866.10097093, 3974.10217985])"
      ]
     },
     "execution_count": 44,
     "metadata": {},
     "output_type": "execute_result"
    }
   ],
   "source": [
    "test_score"
   ]
  },
  {
   "cell_type": "code",
   "execution_count": 45,
   "metadata": {},
   "outputs": [],
   "source": [
    "pd.DataFrame(test_score).to_csv(\"mysubmission12.csv\",index=False)"
   ]
  },
  {
   "cell_type": "code",
   "execution_count": 50,
   "metadata": {},
   "outputs": [],
   "source": [
    "cc_test2=pd.read_csv(r\"C:/Users/Admin/Downloads/counterfeit_test.csv\")"
   ]
  },
  {
   "cell_type": "code",
   "execution_count": 51,
   "metadata": {},
   "outputs": [],
   "source": [
    "mid=cc_test2['Medicine_ID']"
   ]
  },
  {
   "cell_type": "code",
   "execution_count": 52,
   "metadata": {},
   "outputs": [],
   "source": [
    "mid=pd.DataFrame(mid)"
   ]
  },
  {
   "cell_type": "code",
   "execution_count": 53,
   "metadata": {},
   "outputs": [],
   "source": [
    "target=pd.DataFrame(test_score)"
   ]
  },
  {
   "cell_type": "code",
   "execution_count": 54,
   "metadata": {},
   "outputs": [],
   "source": [
    "target=target.rename(columns={0:'Counterfeit_Sales'})"
   ]
  },
  {
   "cell_type": "code",
   "execution_count": 55,
   "metadata": {},
   "outputs": [
    {
     "data": {
      "text/html": [
       "<div>\n",
       "<style scoped>\n",
       "    .dataframe tbody tr th:only-of-type {\n",
       "        vertical-align: middle;\n",
       "    }\n",
       "\n",
       "    .dataframe tbody tr th {\n",
       "        vertical-align: top;\n",
       "    }\n",
       "\n",
       "    .dataframe thead th {\n",
       "        text-align: right;\n",
       "    }\n",
       "</style>\n",
       "<table border=\"1\" class=\"dataframe\">\n",
       "  <thead>\n",
       "    <tr style=\"text-align: right;\">\n",
       "      <th></th>\n",
       "      <th>Medicine_ID</th>\n",
       "      <th>Counterfeit_Sales</th>\n",
       "    </tr>\n",
       "  </thead>\n",
       "  <tbody>\n",
       "    <tr>\n",
       "      <th>0</th>\n",
       "      <td>HLZ81</td>\n",
       "      <td>2331.280441</td>\n",
       "    </tr>\n",
       "    <tr>\n",
       "      <th>1</th>\n",
       "      <td>ECE94</td>\n",
       "      <td>4025.363263</td>\n",
       "    </tr>\n",
       "    <tr>\n",
       "      <th>2</th>\n",
       "      <td>SAD14</td>\n",
       "      <td>1542.744659</td>\n",
       "    </tr>\n",
       "    <tr>\n",
       "      <th>3</th>\n",
       "      <td>EQV63</td>\n",
       "      <td>376.348929</td>\n",
       "    </tr>\n",
       "    <tr>\n",
       "      <th>4</th>\n",
       "      <td>AIR10</td>\n",
       "      <td>370.855487</td>\n",
       "    </tr>\n",
       "    <tr>\n",
       "      <th>...</th>\n",
       "      <td>...</td>\n",
       "      <td>...</td>\n",
       "    </tr>\n",
       "    <tr>\n",
       "      <th>1700</th>\n",
       "      <td>KXW10</td>\n",
       "      <td>3324.558731</td>\n",
       "    </tr>\n",
       "    <tr>\n",
       "      <th>1701</th>\n",
       "      <td>CKE54</td>\n",
       "      <td>802.562238</td>\n",
       "    </tr>\n",
       "    <tr>\n",
       "      <th>1702</th>\n",
       "      <td>HAY13</td>\n",
       "      <td>2901.810175</td>\n",
       "    </tr>\n",
       "    <tr>\n",
       "      <th>1703</th>\n",
       "      <td>ZEE32</td>\n",
       "      <td>3866.100971</td>\n",
       "    </tr>\n",
       "    <tr>\n",
       "      <th>1704</th>\n",
       "      <td>NDL93</td>\n",
       "      <td>3974.102180</td>\n",
       "    </tr>\n",
       "  </tbody>\n",
       "</table>\n",
       "<p>1705 rows × 2 columns</p>\n",
       "</div>"
      ],
      "text/plain": [
       "     Medicine_ID  Counterfeit_Sales\n",
       "0          HLZ81        2331.280441\n",
       "1          ECE94        4025.363263\n",
       "2          SAD14        1542.744659\n",
       "3          EQV63         376.348929\n",
       "4          AIR10         370.855487\n",
       "...          ...                ...\n",
       "1700       KXW10        3324.558731\n",
       "1701       CKE54         802.562238\n",
       "1702       HAY13        2901.810175\n",
       "1703       ZEE32        3866.100971\n",
       "1704       NDL93        3974.102180\n",
       "\n",
       "[1705 rows x 2 columns]"
      ]
     },
     "execution_count": 55,
     "metadata": {},
     "output_type": "execute_result"
    }
   ],
   "source": [
    "final=pd.concat([mid,target],axis=1)\n",
    "final"
   ]
  },
  {
   "cell_type": "code",
   "execution_count": 56,
   "metadata": {},
   "outputs": [],
   "source": [
    "pd.DataFrame(final).to_csv(\"Shital_Shende_P3_sales.csv\",index=False)"
   ]
  },
  {
   "cell_type": "code",
   "execution_count": null,
   "metadata": {},
   "outputs": [],
   "source": []
  }
 ],
 "metadata": {
  "kernelspec": {
   "display_name": "Python 3",
   "language": "python",
   "name": "python3"
  },
  "language_info": {
   "codemirror_mode": {
    "name": "ipython",
    "version": 3
   },
   "file_extension": ".py",
   "mimetype": "text/x-python",
   "name": "python",
   "nbconvert_exporter": "python",
   "pygments_lexer": "ipython3",
   "version": "3.7.6"
  }
 },
 "nbformat": 4,
 "nbformat_minor": 4
}
