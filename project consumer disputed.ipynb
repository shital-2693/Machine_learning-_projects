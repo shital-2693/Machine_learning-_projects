{
 "cells": [
  {
   "cell_type": "code",
   "execution_count": 1,
   "metadata": {
    "scrolled": true
   },
   "outputs": [],
   "source": [
    "import warnings\n",
    "warnings.filterwarnings('ignore')\n",
    "import pandas as pd\n",
    "import math\n",
    "from sklearn.model_selection import train_test_split,KFold\n",
    "import numpy as np"
   ]
  },
  {
   "cell_type": "code",
   "execution_count": 2,
   "metadata": {},
   "outputs": [],
   "source": [
    "cd_train=pd.read_csv(r\"C:/Users/Admin/Desktop/python/project 1/Consumer_Complaints_train.csv\")\n",
    "cd_test=pd.read_csv(r\"C:/Users/Admin/Desktop/python/project 1/Consumer_Complaints_test_share.csv\")"
   ]
  },
  {
   "cell_type": "code",
   "execution_count": 3,
   "metadata": {},
   "outputs": [
    {
     "data": {
      "text/html": [
       "<div>\n",
       "<style scoped>\n",
       "    .dataframe tbody tr th:only-of-type {\n",
       "        vertical-align: middle;\n",
       "    }\n",
       "\n",
       "    .dataframe tbody tr th {\n",
       "        vertical-align: top;\n",
       "    }\n",
       "\n",
       "    .dataframe thead th {\n",
       "        text-align: right;\n",
       "    }\n",
       "</style>\n",
       "<table border=\"1\" class=\"dataframe\">\n",
       "  <thead>\n",
       "    <tr style=\"text-align: right;\">\n",
       "      <th></th>\n",
       "      <th>Date received</th>\n",
       "      <th>Product</th>\n",
       "      <th>Sub-product</th>\n",
       "      <th>Issue</th>\n",
       "      <th>Sub-issue</th>\n",
       "      <th>Consumer complaint narrative</th>\n",
       "      <th>Company public response</th>\n",
       "      <th>Company</th>\n",
       "      <th>State</th>\n",
       "      <th>ZIP code</th>\n",
       "      <th>Tags</th>\n",
       "      <th>Consumer consent provided?</th>\n",
       "      <th>Submitted via</th>\n",
       "      <th>Date sent to company</th>\n",
       "      <th>Company response to consumer</th>\n",
       "      <th>Timely response?</th>\n",
       "      <th>Consumer disputed?</th>\n",
       "      <th>Complaint ID</th>\n",
       "    </tr>\n",
       "  </thead>\n",
       "  <tbody>\n",
       "    <tr>\n",
       "      <th>0</th>\n",
       "      <td>2014-05-15</td>\n",
       "      <td>Credit card</td>\n",
       "      <td>NaN</td>\n",
       "      <td>Billing statement</td>\n",
       "      <td>NaN</td>\n",
       "      <td>NaN</td>\n",
       "      <td>NaN</td>\n",
       "      <td>Wells Fargo &amp; Company</td>\n",
       "      <td>MI</td>\n",
       "      <td>48342</td>\n",
       "      <td>Older American</td>\n",
       "      <td>NaN</td>\n",
       "      <td>Web</td>\n",
       "      <td>2014-05-16</td>\n",
       "      <td>Closed with explanation</td>\n",
       "      <td>Yes</td>\n",
       "      <td>No</td>\n",
       "      <td>856103</td>\n",
       "    </tr>\n",
       "    <tr>\n",
       "      <th>1</th>\n",
       "      <td>2014-09-18</td>\n",
       "      <td>Bank account or service</td>\n",
       "      <td>(CD) Certificate of deposit</td>\n",
       "      <td>Making/receiving payments, sending money</td>\n",
       "      <td>NaN</td>\n",
       "      <td>NaN</td>\n",
       "      <td>NaN</td>\n",
       "      <td>Santander Bank US</td>\n",
       "      <td>PA</td>\n",
       "      <td>18042</td>\n",
       "      <td>NaN</td>\n",
       "      <td>NaN</td>\n",
       "      <td>Referral</td>\n",
       "      <td>2014-09-24</td>\n",
       "      <td>Closed</td>\n",
       "      <td>Yes</td>\n",
       "      <td>No</td>\n",
       "      <td>1034666</td>\n",
       "    </tr>\n",
       "    <tr>\n",
       "      <th>2</th>\n",
       "      <td>2014-03-13</td>\n",
       "      <td>Credit reporting</td>\n",
       "      <td>NaN</td>\n",
       "      <td>Incorrect information on credit report</td>\n",
       "      <td>Account status</td>\n",
       "      <td>NaN</td>\n",
       "      <td>NaN</td>\n",
       "      <td>Equifax</td>\n",
       "      <td>CA</td>\n",
       "      <td>92427</td>\n",
       "      <td>NaN</td>\n",
       "      <td>NaN</td>\n",
       "      <td>Referral</td>\n",
       "      <td>2014-04-03</td>\n",
       "      <td>Closed with non-monetary relief</td>\n",
       "      <td>Yes</td>\n",
       "      <td>No</td>\n",
       "      <td>756363</td>\n",
       "    </tr>\n",
       "    <tr>\n",
       "      <th>3</th>\n",
       "      <td>2015-07-17</td>\n",
       "      <td>Credit card</td>\n",
       "      <td>NaN</td>\n",
       "      <td>Billing statement</td>\n",
       "      <td>NaN</td>\n",
       "      <td>My credit card statement from US Bank, XXXX. X...</td>\n",
       "      <td>Company chooses not to provide a public response</td>\n",
       "      <td>U.S. Bancorp</td>\n",
       "      <td>GA</td>\n",
       "      <td>305XX</td>\n",
       "      <td>Older American</td>\n",
       "      <td>Consent provided</td>\n",
       "      <td>Web</td>\n",
       "      <td>2015-07-17</td>\n",
       "      <td>Closed with monetary relief</td>\n",
       "      <td>Yes</td>\n",
       "      <td>No</td>\n",
       "      <td>1474177</td>\n",
       "    </tr>\n",
       "    <tr>\n",
       "      <th>4</th>\n",
       "      <td>2014-11-20</td>\n",
       "      <td>Credit card</td>\n",
       "      <td>NaN</td>\n",
       "      <td>Transaction issue</td>\n",
       "      <td>NaN</td>\n",
       "      <td>NaN</td>\n",
       "      <td>NaN</td>\n",
       "      <td>Bank of America</td>\n",
       "      <td>MA</td>\n",
       "      <td>02127</td>\n",
       "      <td>NaN</td>\n",
       "      <td>NaN</td>\n",
       "      <td>Web</td>\n",
       "      <td>2014-11-28</td>\n",
       "      <td>Closed with explanation</td>\n",
       "      <td>Yes</td>\n",
       "      <td>No</td>\n",
       "      <td>1132572</td>\n",
       "    </tr>\n",
       "  </tbody>\n",
       "</table>\n",
       "</div>"
      ],
      "text/plain": [
       "  Date received                  Product                  Sub-product  \\\n",
       "0    2014-05-15              Credit card                          NaN   \n",
       "1    2014-09-18  Bank account or service  (CD) Certificate of deposit   \n",
       "2    2014-03-13         Credit reporting                          NaN   \n",
       "3    2015-07-17              Credit card                          NaN   \n",
       "4    2014-11-20              Credit card                          NaN   \n",
       "\n",
       "                                      Issue       Sub-issue  \\\n",
       "0                         Billing statement             NaN   \n",
       "1  Making/receiving payments, sending money             NaN   \n",
       "2    Incorrect information on credit report  Account status   \n",
       "3                         Billing statement             NaN   \n",
       "4                         Transaction issue             NaN   \n",
       "\n",
       "                        Consumer complaint narrative  \\\n",
       "0                                                NaN   \n",
       "1                                                NaN   \n",
       "2                                                NaN   \n",
       "3  My credit card statement from US Bank, XXXX. X...   \n",
       "4                                                NaN   \n",
       "\n",
       "                            Company public response                Company  \\\n",
       "0                                               NaN  Wells Fargo & Company   \n",
       "1                                               NaN      Santander Bank US   \n",
       "2                                               NaN                Equifax   \n",
       "3  Company chooses not to provide a public response           U.S. Bancorp   \n",
       "4                                               NaN        Bank of America   \n",
       "\n",
       "  State ZIP code            Tags Consumer consent provided? Submitted via  \\\n",
       "0    MI    48342  Older American                        NaN           Web   \n",
       "1    PA    18042             NaN                        NaN      Referral   \n",
       "2    CA    92427             NaN                        NaN      Referral   \n",
       "3    GA    305XX  Older American           Consent provided           Web   \n",
       "4    MA    02127             NaN                        NaN           Web   \n",
       "\n",
       "  Date sent to company     Company response to consumer Timely response?  \\\n",
       "0           2014-05-16          Closed with explanation              Yes   \n",
       "1           2014-09-24                           Closed              Yes   \n",
       "2           2014-04-03  Closed with non-monetary relief              Yes   \n",
       "3           2015-07-17      Closed with monetary relief              Yes   \n",
       "4           2014-11-28          Closed with explanation              Yes   \n",
       "\n",
       "  Consumer disputed?  Complaint ID  \n",
       "0                 No        856103  \n",
       "1                 No       1034666  \n",
       "2                 No        756363  \n",
       "3                 No       1474177  \n",
       "4                 No       1132572  "
      ]
     },
     "execution_count": 3,
     "metadata": {},
     "output_type": "execute_result"
    }
   ],
   "source": [
    "cd_train.head()"
   ]
  },
  {
   "cell_type": "code",
   "execution_count": 4,
   "metadata": {},
   "outputs": [
    {
     "data": {
      "text/html": [
       "<div>\n",
       "<style scoped>\n",
       "    .dataframe tbody tr th:only-of-type {\n",
       "        vertical-align: middle;\n",
       "    }\n",
       "\n",
       "    .dataframe tbody tr th {\n",
       "        vertical-align: top;\n",
       "    }\n",
       "\n",
       "    .dataframe thead th {\n",
       "        text-align: right;\n",
       "    }\n",
       "</style>\n",
       "<table border=\"1\" class=\"dataframe\">\n",
       "  <thead>\n",
       "    <tr style=\"text-align: right;\">\n",
       "      <th></th>\n",
       "      <th>Date received</th>\n",
       "      <th>Product</th>\n",
       "      <th>Sub-product</th>\n",
       "      <th>Issue</th>\n",
       "      <th>Sub-issue</th>\n",
       "      <th>Consumer complaint narrative</th>\n",
       "      <th>Company public response</th>\n",
       "      <th>Company</th>\n",
       "      <th>State</th>\n",
       "      <th>ZIP code</th>\n",
       "      <th>Tags</th>\n",
       "      <th>Consumer consent provided?</th>\n",
       "      <th>Submitted via</th>\n",
       "      <th>Date sent to company</th>\n",
       "      <th>Company response to consumer</th>\n",
       "      <th>Timely response?</th>\n",
       "      <th>Complaint ID</th>\n",
       "    </tr>\n",
       "  </thead>\n",
       "  <tbody>\n",
       "    <tr>\n",
       "      <th>0</th>\n",
       "      <td>2014-01-18</td>\n",
       "      <td>Bank account or service</td>\n",
       "      <td>Cashing a check without an account</td>\n",
       "      <td>Deposits and withdrawals</td>\n",
       "      <td>NaN</td>\n",
       "      <td>NaN</td>\n",
       "      <td>NaN</td>\n",
       "      <td>Bank of America</td>\n",
       "      <td>CA</td>\n",
       "      <td>95691</td>\n",
       "      <td>NaN</td>\n",
       "      <td>NaN</td>\n",
       "      <td>Web</td>\n",
       "      <td>2014-01-17</td>\n",
       "      <td>Closed with explanation</td>\n",
       "      <td>Yes</td>\n",
       "      <td>675956</td>\n",
       "    </tr>\n",
       "    <tr>\n",
       "      <th>1</th>\n",
       "      <td>2016-03-31</td>\n",
       "      <td>Debt collection</td>\n",
       "      <td>Credit card</td>\n",
       "      <td>Cont'd attempts collect debt not owed</td>\n",
       "      <td>Debt was paid</td>\n",
       "      <td>NaN</td>\n",
       "      <td>NaN</td>\n",
       "      <td>National Credit Adjusters, LLC</td>\n",
       "      <td>FL</td>\n",
       "      <td>32086</td>\n",
       "      <td>NaN</td>\n",
       "      <td>Consent not provided</td>\n",
       "      <td>Web</td>\n",
       "      <td>2016-03-31</td>\n",
       "      <td>Closed with explanation</td>\n",
       "      <td>Yes</td>\n",
       "      <td>1858795</td>\n",
       "    </tr>\n",
       "    <tr>\n",
       "      <th>2</th>\n",
       "      <td>2012-03-08</td>\n",
       "      <td>Mortgage</td>\n",
       "      <td>Conventional adjustable mortgage (ARM)</td>\n",
       "      <td>Loan servicing, payments, escrow account</td>\n",
       "      <td>NaN</td>\n",
       "      <td>NaN</td>\n",
       "      <td>NaN</td>\n",
       "      <td>Wells Fargo &amp; Company</td>\n",
       "      <td>CA</td>\n",
       "      <td>94618</td>\n",
       "      <td>NaN</td>\n",
       "      <td>NaN</td>\n",
       "      <td>Web</td>\n",
       "      <td>2012-03-09</td>\n",
       "      <td>Closed without relief</td>\n",
       "      <td>Yes</td>\n",
       "      <td>32637</td>\n",
       "    </tr>\n",
       "    <tr>\n",
       "      <th>3</th>\n",
       "      <td>2016-01-07</td>\n",
       "      <td>Credit reporting</td>\n",
       "      <td>NaN</td>\n",
       "      <td>Unable to get credit report/credit score</td>\n",
       "      <td>Problem getting report or credit score</td>\n",
       "      <td>NaN</td>\n",
       "      <td>Company chooses not to provide a public response</td>\n",
       "      <td>TransUnion Intermediate Holdings, Inc.</td>\n",
       "      <td>FL</td>\n",
       "      <td>33584</td>\n",
       "      <td>Older American</td>\n",
       "      <td>NaN</td>\n",
       "      <td>Postal mail</td>\n",
       "      <td>2016-01-12</td>\n",
       "      <td>Closed with non-monetary relief</td>\n",
       "      <td>Yes</td>\n",
       "      <td>1731374</td>\n",
       "    </tr>\n",
       "    <tr>\n",
       "      <th>4</th>\n",
       "      <td>2013-08-23</td>\n",
       "      <td>Mortgage</td>\n",
       "      <td>FHA mortgage</td>\n",
       "      <td>Loan modification,collection,foreclosure</td>\n",
       "      <td>NaN</td>\n",
       "      <td>NaN</td>\n",
       "      <td>NaN</td>\n",
       "      <td>Bank of America</td>\n",
       "      <td>FL</td>\n",
       "      <td>33543</td>\n",
       "      <td>NaN</td>\n",
       "      <td>NaN</td>\n",
       "      <td>Web</td>\n",
       "      <td>2013-08-23</td>\n",
       "      <td>Closed with explanation</td>\n",
       "      <td>Yes</td>\n",
       "      <td>501487</td>\n",
       "    </tr>\n",
       "  </tbody>\n",
       "</table>\n",
       "</div>"
      ],
      "text/plain": [
       "  Date received                  Product  \\\n",
       "0    2014-01-18  Bank account or service   \n",
       "1    2016-03-31          Debt collection   \n",
       "2    2012-03-08                 Mortgage   \n",
       "3    2016-01-07         Credit reporting   \n",
       "4    2013-08-23                 Mortgage   \n",
       "\n",
       "                              Sub-product  \\\n",
       "0      Cashing a check without an account   \n",
       "1                             Credit card   \n",
       "2  Conventional adjustable mortgage (ARM)   \n",
       "3                                     NaN   \n",
       "4                            FHA mortgage   \n",
       "\n",
       "                                      Issue  \\\n",
       "0                  Deposits and withdrawals   \n",
       "1     Cont'd attempts collect debt not owed   \n",
       "2  Loan servicing, payments, escrow account   \n",
       "3  Unable to get credit report/credit score   \n",
       "4  Loan modification,collection,foreclosure   \n",
       "\n",
       "                                Sub-issue Consumer complaint narrative  \\\n",
       "0                                     NaN                          NaN   \n",
       "1                           Debt was paid                          NaN   \n",
       "2                                     NaN                          NaN   \n",
       "3  Problem getting report or credit score                          NaN   \n",
       "4                                     NaN                          NaN   \n",
       "\n",
       "                            Company public response  \\\n",
       "0                                               NaN   \n",
       "1                                               NaN   \n",
       "2                                               NaN   \n",
       "3  Company chooses not to provide a public response   \n",
       "4                                               NaN   \n",
       "\n",
       "                                  Company State ZIP code            Tags  \\\n",
       "0                         Bank of America    CA    95691             NaN   \n",
       "1          National Credit Adjusters, LLC    FL    32086             NaN   \n",
       "2                   Wells Fargo & Company    CA    94618             NaN   \n",
       "3  TransUnion Intermediate Holdings, Inc.    FL    33584  Older American   \n",
       "4                         Bank of America    FL    33543             NaN   \n",
       "\n",
       "  Consumer consent provided? Submitted via Date sent to company  \\\n",
       "0                        NaN           Web           2014-01-17   \n",
       "1       Consent not provided           Web           2016-03-31   \n",
       "2                        NaN           Web           2012-03-09   \n",
       "3                        NaN   Postal mail           2016-01-12   \n",
       "4                        NaN           Web           2013-08-23   \n",
       "\n",
       "      Company response to consumer Timely response?  Complaint ID  \n",
       "0          Closed with explanation              Yes        675956  \n",
       "1          Closed with explanation              Yes       1858795  \n",
       "2            Closed without relief              Yes         32637  \n",
       "3  Closed with non-monetary relief              Yes       1731374  \n",
       "4          Closed with explanation              Yes        501487  "
      ]
     },
     "execution_count": 4,
     "metadata": {},
     "output_type": "execute_result"
    }
   ],
   "source": [
    "cd_test.head()"
   ]
  },
  {
   "cell_type": "code",
   "execution_count": 5,
   "metadata": {},
   "outputs": [],
   "source": [
    "cd_test['Consumer disputed?']=np.nan\n",
    "cd_train['data']='train'\n",
    "cd_test['data']='test'\n",
    "cd_test=cd_test[cd_train.columns]\n",
    "cd_all=pd.concat([cd_train,cd_test],axis=0)"
   ]
  },
  {
   "cell_type": "code",
   "execution_count": 6,
   "metadata": {},
   "outputs": [
    {
     "data": {
      "text/plain": [
       "Date received                   object\n",
       "Product                         object\n",
       "Sub-product                     object\n",
       "Issue                           object\n",
       "Sub-issue                       object\n",
       "Consumer complaint narrative    object\n",
       "Company public response         object\n",
       "Company                         object\n",
       "State                           object\n",
       "ZIP code                        object\n",
       "Tags                            object\n",
       "Consumer consent provided?      object\n",
       "Submitted via                   object\n",
       "Date sent to company            object\n",
       "Company response to consumer    object\n",
       "Timely response?                object\n",
       "Consumer disputed?              object\n",
       "Complaint ID                     int64\n",
       "data                            object\n",
       "dtype: object"
      ]
     },
     "execution_count": 6,
     "metadata": {},
     "output_type": "execute_result"
    }
   ],
   "source": [
    "cd_all.dtypes"
   ]
  },
  {
   "cell_type": "code",
   "execution_count": 7,
   "metadata": {},
   "outputs": [
    {
     "data": {
      "text/plain": [
       "(598027, 19)"
      ]
     },
     "execution_count": 7,
     "metadata": {},
     "output_type": "execute_result"
    }
   ],
   "source": [
    "cd_all.shape"
   ]
  },
  {
   "cell_type": "code",
   "execution_count": 8,
   "metadata": {},
   "outputs": [
    {
     "data": {
      "text/plain": [
       "Date received                        0\n",
       "Product                              0\n",
       "Sub-product                     173225\n",
       "Issue                                0\n",
       "Sub-issue                       365685\n",
       "Consumer complaint narrative    504376\n",
       "Company public response         484859\n",
       "Company                              0\n",
       "State                             4764\n",
       "ZIP code                          4774\n",
       "Tags                            513950\n",
       "Consumer consent provided?      428676\n",
       "Submitted via                        1\n",
       "Date sent to company                 0\n",
       "Company response to consumer         0\n",
       "Timely response?                     0\n",
       "Consumer disputed?              119606\n",
       "Complaint ID                         0\n",
       "data                                 0\n",
       "dtype: int64"
      ]
     },
     "execution_count": 8,
     "metadata": {},
     "output_type": "execute_result"
    }
   ],
   "source": [
    "cd_all.isnull().sum()"
   ]
  },
  {
   "cell_type": "code",
   "execution_count": 9,
   "metadata": {},
   "outputs": [],
   "source": [
    "cd_all['Date sent to company']=pd.to_datetime(cd_all['Date sent to company'],infer_datetime_format=True)"
   ]
  },
  {
   "cell_type": "code",
   "execution_count": 10,
   "metadata": {},
   "outputs": [],
   "source": [
    "cd_all['Date received']=pd.to_datetime(cd_all['Date received'],infer_datetime_format=True)"
   ]
  },
  {
   "cell_type": "code",
   "execution_count": 11,
   "metadata": {},
   "outputs": [
    {
     "data": {
      "text/plain": [
       "Date received                   datetime64[ns]\n",
       "Product                                 object\n",
       "Sub-product                             object\n",
       "Issue                                   object\n",
       "Sub-issue                               object\n",
       "Consumer complaint narrative            object\n",
       "Company public response                 object\n",
       "Company                                 object\n",
       "State                                   object\n",
       "ZIP code                                object\n",
       "Tags                                    object\n",
       "Consumer consent provided?              object\n",
       "Submitted via                           object\n",
       "Date sent to company            datetime64[ns]\n",
       "Company response to consumer            object\n",
       "Timely response?                        object\n",
       "Consumer disputed?                      object\n",
       "Complaint ID                             int64\n",
       "data                                    object\n",
       "dtype: object"
      ]
     },
     "execution_count": 11,
     "metadata": {},
     "output_type": "execute_result"
    }
   ],
   "source": [
    "cd_all.dtypes"
   ]
  },
  {
   "cell_type": "code",
   "execution_count": 12,
   "metadata": {},
   "outputs": [],
   "source": [
    "cd_all['Diff_Day']=pd.to_numeric(cd_all['Date sent to company']-cd_all['Date received'])"
   ]
  },
  {
   "cell_type": "code",
   "execution_count": 13,
   "metadata": {},
   "outputs": [
    {
     "data": {
      "text/plain": [
       "Date received                   datetime64[ns]\n",
       "Product                                 object\n",
       "Sub-product                             object\n",
       "Issue                                   object\n",
       "Sub-issue                               object\n",
       "Consumer complaint narrative            object\n",
       "Company public response                 object\n",
       "Company                                 object\n",
       "State                                   object\n",
       "ZIP code                                object\n",
       "Tags                                    object\n",
       "Consumer consent provided?              object\n",
       "Submitted via                           object\n",
       "Date sent to company            datetime64[ns]\n",
       "Company response to consumer            object\n",
       "Timely response?                        object\n",
       "Consumer disputed?                      object\n",
       "Complaint ID                             int64\n",
       "data                                    object\n",
       "Diff_Day                                 int64\n",
       "dtype: object"
      ]
     },
     "execution_count": 13,
     "metadata": {},
     "output_type": "execute_result"
    }
   ],
   "source": [
    "cd_all.dtypes"
   ]
  },
  {
   "cell_type": "code",
   "execution_count": 14,
   "metadata": {},
   "outputs": [],
   "source": [
    "for col in ['Date received','Date sent to company','Company','ZIP code']:\n",
    "    cd_all.drop([col],1,inplace=True)"
   ]
  },
  {
   "cell_type": "code",
   "execution_count": 15,
   "metadata": {},
   "outputs": [
    {
     "data": {
      "text/plain": [
       "Product                         object\n",
       "Sub-product                     object\n",
       "Issue                           object\n",
       "Sub-issue                       object\n",
       "Consumer complaint narrative    object\n",
       "Company public response         object\n",
       "State                           object\n",
       "Tags                            object\n",
       "Consumer consent provided?      object\n",
       "Submitted via                   object\n",
       "Company response to consumer    object\n",
       "Timely response?                object\n",
       "Consumer disputed?              object\n",
       "Complaint ID                     int64\n",
       "data                            object\n",
       "Diff_Day                         int64\n",
       "dtype: object"
      ]
     },
     "execution_count": 15,
     "metadata": {},
     "output_type": "execute_result"
    }
   ],
   "source": [
    "cd_all.dtypes"
   ]
  },
  {
   "cell_type": "code",
   "execution_count": 16,
   "metadata": {},
   "outputs": [
    {
     "name": "stdout",
     "output_type": "stream",
     "text": [
      "Product : 12\n",
      "Sub-product : 47\n",
      "Issue : 95\n",
      "Sub-issue : 68\n",
      "Consumer complaint narrative : 92118\n",
      "Company public response : 10\n",
      "State : 62\n",
      "Tags : 3\n",
      "Consumer consent provided? : 4\n",
      "Submitted via : 6\n",
      "Company response to consumer : 7\n",
      "Timely response? : 2\n",
      "Consumer disputed? : 2\n",
      "data : 2\n"
     ]
    }
   ],
   "source": [
    "for col in cd_all.select_dtypes(['object']).columns:\n",
    "    print(col,':',cd_all[col].nunique())"
   ]
  },
  {
   "cell_type": "code",
   "execution_count": 17,
   "metadata": {},
   "outputs": [
    {
     "data": {
      "text/plain": [
       "Product                              0\n",
       "Sub-product                     173225\n",
       "Issue                                0\n",
       "Sub-issue                       365685\n",
       "Consumer complaint narrative    504376\n",
       "Company public response         484859\n",
       "State                             4764\n",
       "Tags                            513950\n",
       "Consumer consent provided?      428676\n",
       "Submitted via                        1\n",
       "Company response to consumer         0\n",
       "Timely response?                     0\n",
       "Consumer disputed?              119606\n",
       "Complaint ID                         0\n",
       "data                                 0\n",
       "Diff_Day                             0\n",
       "dtype: int64"
      ]
     },
     "execution_count": 17,
     "metadata": {},
     "output_type": "execute_result"
    }
   ],
   "source": [
    "cd_all.isnull().sum()"
   ]
  },
  {
   "cell_type": "code",
   "execution_count": 18,
   "metadata": {},
   "outputs": [
    {
     "data": {
      "text/plain": [
       "598027"
      ]
     },
     "execution_count": 18,
     "metadata": {},
     "output_type": "execute_result"
    }
   ],
   "source": [
    "len(pd.isnull(cd_all['Tags']))\n",
    "len(cd_all)"
   ]
  },
  {
   "cell_type": "code",
   "execution_count": 19,
   "metadata": {},
   "outputs": [
    {
     "data": {
      "text/html": [
       "<div>\n",
       "<style scoped>\n",
       "    .dataframe tbody tr th:only-of-type {\n",
       "        vertical-align: middle;\n",
       "    }\n",
       "\n",
       "    .dataframe tbody tr th {\n",
       "        vertical-align: top;\n",
       "    }\n",
       "\n",
       "    .dataframe thead th {\n",
       "        text-align: right;\n",
       "    }\n",
       "</style>\n",
       "<table border=\"1\" class=\"dataframe\">\n",
       "  <thead>\n",
       "    <tr style=\"text-align: right;\">\n",
       "      <th></th>\n",
       "      <th>Product</th>\n",
       "      <th>Sub-product</th>\n",
       "      <th>Issue</th>\n",
       "      <th>Sub-issue</th>\n",
       "      <th>Consumer complaint narrative</th>\n",
       "      <th>Company public response</th>\n",
       "      <th>State</th>\n",
       "      <th>Tags</th>\n",
       "      <th>Consumer consent provided?</th>\n",
       "      <th>Submitted via</th>\n",
       "      <th>Company response to consumer</th>\n",
       "      <th>Timely response?</th>\n",
       "      <th>Consumer disputed?</th>\n",
       "      <th>Complaint ID</th>\n",
       "      <th>data</th>\n",
       "      <th>Diff_Day</th>\n",
       "    </tr>\n",
       "  </thead>\n",
       "  <tbody>\n",
       "    <tr>\n",
       "      <th>0</th>\n",
       "      <td>Credit card</td>\n",
       "      <td>NaN</td>\n",
       "      <td>Billing statement</td>\n",
       "      <td>NaN</td>\n",
       "      <td>NaN</td>\n",
       "      <td>NaN</td>\n",
       "      <td>MI</td>\n",
       "      <td>Older American</td>\n",
       "      <td>NaN</td>\n",
       "      <td>Web</td>\n",
       "      <td>Closed with explanation</td>\n",
       "      <td>Yes</td>\n",
       "      <td>No</td>\n",
       "      <td>856103</td>\n",
       "      <td>train</td>\n",
       "      <td>86400000000000</td>\n",
       "    </tr>\n",
       "    <tr>\n",
       "      <th>1</th>\n",
       "      <td>Bank account or service</td>\n",
       "      <td>(CD) Certificate of deposit</td>\n",
       "      <td>Making/receiving payments, sending money</td>\n",
       "      <td>NaN</td>\n",
       "      <td>NaN</td>\n",
       "      <td>NaN</td>\n",
       "      <td>PA</td>\n",
       "      <td>NaN</td>\n",
       "      <td>NaN</td>\n",
       "      <td>Referral</td>\n",
       "      <td>Closed</td>\n",
       "      <td>Yes</td>\n",
       "      <td>No</td>\n",
       "      <td>1034666</td>\n",
       "      <td>train</td>\n",
       "      <td>518400000000000</td>\n",
       "    </tr>\n",
       "    <tr>\n",
       "      <th>2</th>\n",
       "      <td>Credit reporting</td>\n",
       "      <td>NaN</td>\n",
       "      <td>Incorrect information on credit report</td>\n",
       "      <td>Account status</td>\n",
       "      <td>NaN</td>\n",
       "      <td>NaN</td>\n",
       "      <td>CA</td>\n",
       "      <td>NaN</td>\n",
       "      <td>NaN</td>\n",
       "      <td>Referral</td>\n",
       "      <td>Closed with non-monetary relief</td>\n",
       "      <td>Yes</td>\n",
       "      <td>No</td>\n",
       "      <td>756363</td>\n",
       "      <td>train</td>\n",
       "      <td>1814400000000000</td>\n",
       "    </tr>\n",
       "    <tr>\n",
       "      <th>3</th>\n",
       "      <td>Credit card</td>\n",
       "      <td>NaN</td>\n",
       "      <td>Billing statement</td>\n",
       "      <td>NaN</td>\n",
       "      <td>My credit card statement from US Bank, XXXX. X...</td>\n",
       "      <td>Company chooses not to provide a public response</td>\n",
       "      <td>GA</td>\n",
       "      <td>Older American</td>\n",
       "      <td>Consent provided</td>\n",
       "      <td>Web</td>\n",
       "      <td>Closed with monetary relief</td>\n",
       "      <td>Yes</td>\n",
       "      <td>No</td>\n",
       "      <td>1474177</td>\n",
       "      <td>train</td>\n",
       "      <td>0</td>\n",
       "    </tr>\n",
       "    <tr>\n",
       "      <th>4</th>\n",
       "      <td>Credit card</td>\n",
       "      <td>NaN</td>\n",
       "      <td>Transaction issue</td>\n",
       "      <td>NaN</td>\n",
       "      <td>NaN</td>\n",
       "      <td>NaN</td>\n",
       "      <td>MA</td>\n",
       "      <td>NaN</td>\n",
       "      <td>NaN</td>\n",
       "      <td>Web</td>\n",
       "      <td>Closed with explanation</td>\n",
       "      <td>Yes</td>\n",
       "      <td>No</td>\n",
       "      <td>1132572</td>\n",
       "      <td>train</td>\n",
       "      <td>691200000000000</td>\n",
       "    </tr>\n",
       "  </tbody>\n",
       "</table>\n",
       "</div>"
      ],
      "text/plain": [
       "                   Product                  Sub-product  \\\n",
       "0              Credit card                          NaN   \n",
       "1  Bank account or service  (CD) Certificate of deposit   \n",
       "2         Credit reporting                          NaN   \n",
       "3              Credit card                          NaN   \n",
       "4              Credit card                          NaN   \n",
       "\n",
       "                                      Issue       Sub-issue  \\\n",
       "0                         Billing statement             NaN   \n",
       "1  Making/receiving payments, sending money             NaN   \n",
       "2    Incorrect information on credit report  Account status   \n",
       "3                         Billing statement             NaN   \n",
       "4                         Transaction issue             NaN   \n",
       "\n",
       "                        Consumer complaint narrative  \\\n",
       "0                                                NaN   \n",
       "1                                                NaN   \n",
       "2                                                NaN   \n",
       "3  My credit card statement from US Bank, XXXX. X...   \n",
       "4                                                NaN   \n",
       "\n",
       "                            Company public response State            Tags  \\\n",
       "0                                               NaN    MI  Older American   \n",
       "1                                               NaN    PA             NaN   \n",
       "2                                               NaN    CA             NaN   \n",
       "3  Company chooses not to provide a public response    GA  Older American   \n",
       "4                                               NaN    MA             NaN   \n",
       "\n",
       "  Consumer consent provided? Submitted via     Company response to consumer  \\\n",
       "0                        NaN           Web          Closed with explanation   \n",
       "1                        NaN      Referral                           Closed   \n",
       "2                        NaN      Referral  Closed with non-monetary relief   \n",
       "3           Consent provided           Web      Closed with monetary relief   \n",
       "4                        NaN           Web          Closed with explanation   \n",
       "\n",
       "  Timely response? Consumer disputed?  Complaint ID   data          Diff_Day  \n",
       "0              Yes                 No        856103  train    86400000000000  \n",
       "1              Yes                 No       1034666  train   518400000000000  \n",
       "2              Yes                 No        756363  train  1814400000000000  \n",
       "3              Yes                 No       1474177  train                 0  \n",
       "4              Yes                 No       1132572  train   691200000000000  "
      ]
     },
     "execution_count": 19,
     "metadata": {},
     "output_type": "execute_result"
    }
   ],
   "source": [
    "cd_all.head()"
   ]
  },
  {
   "cell_type": "code",
   "execution_count": 20,
   "metadata": {},
   "outputs": [],
   "source": [
    "for col in ['Sub-product','Sub-issue','Consumer complaint narrative',\n",
    "            'Company public response','Tags','Consumer consent provided?']:\n",
    "    varname=col.replace('-','_').replace('?','').replace(\" \",'_')+'_isNan'\n",
    "    cd_all[varname]=np.where(pd.isnull(cd_all[col]),1,0)"
   ]
  },
  {
   "cell_type": "code",
   "execution_count": 21,
   "metadata": {},
   "outputs": [
    {
     "data": {
      "text/plain": [
       "Product                               object\n",
       "Sub-product                           object\n",
       "Issue                                 object\n",
       "Sub-issue                             object\n",
       "Consumer complaint narrative          object\n",
       "Company public response               object\n",
       "State                                 object\n",
       "Tags                                  object\n",
       "Consumer consent provided?            object\n",
       "Submitted via                         object\n",
       "Company response to consumer          object\n",
       "Timely response?                      object\n",
       "Consumer disputed?                    object\n",
       "Complaint ID                           int64\n",
       "data                                  object\n",
       "Diff_Day                               int64\n",
       "Sub_product_isNan                      int32\n",
       "Sub_issue_isNan                        int32\n",
       "Consumer_complaint_narrative_isNan     int32\n",
       "Company_public_response_isNan          int32\n",
       "Tags_isNan                             int32\n",
       "Consumer_consent_provided_isNan        int32\n",
       "dtype: object"
      ]
     },
     "execution_count": 21,
     "metadata": {},
     "output_type": "execute_result"
    }
   ],
   "source": [
    "cd_all.dtypes"
   ]
  },
  {
   "cell_type": "code",
   "execution_count": 22,
   "metadata": {},
   "outputs": [
    {
     "data": {
      "text/html": [
       "<div>\n",
       "<style scoped>\n",
       "    .dataframe tbody tr th:only-of-type {\n",
       "        vertical-align: middle;\n",
       "    }\n",
       "\n",
       "    .dataframe tbody tr th {\n",
       "        vertical-align: top;\n",
       "    }\n",
       "\n",
       "    .dataframe thead th {\n",
       "        text-align: right;\n",
       "    }\n",
       "</style>\n",
       "<table border=\"1\" class=\"dataframe\">\n",
       "  <thead>\n",
       "    <tr style=\"text-align: right;\">\n",
       "      <th></th>\n",
       "      <th>Product</th>\n",
       "      <th>Sub-product</th>\n",
       "      <th>Issue</th>\n",
       "      <th>Sub-issue</th>\n",
       "      <th>Consumer complaint narrative</th>\n",
       "      <th>Company public response</th>\n",
       "      <th>State</th>\n",
       "      <th>Tags</th>\n",
       "      <th>Consumer consent provided?</th>\n",
       "      <th>Submitted via</th>\n",
       "      <th>...</th>\n",
       "      <th>Consumer disputed?</th>\n",
       "      <th>Complaint ID</th>\n",
       "      <th>data</th>\n",
       "      <th>Diff_Day</th>\n",
       "      <th>Sub_product_isNan</th>\n",
       "      <th>Sub_issue_isNan</th>\n",
       "      <th>Consumer_complaint_narrative_isNan</th>\n",
       "      <th>Company_public_response_isNan</th>\n",
       "      <th>Tags_isNan</th>\n",
       "      <th>Consumer_consent_provided_isNan</th>\n",
       "    </tr>\n",
       "  </thead>\n",
       "  <tbody>\n",
       "    <tr>\n",
       "      <th>0</th>\n",
       "      <td>Credit card</td>\n",
       "      <td>NaN</td>\n",
       "      <td>Billing statement</td>\n",
       "      <td>NaN</td>\n",
       "      <td>NaN</td>\n",
       "      <td>NaN</td>\n",
       "      <td>MI</td>\n",
       "      <td>Older American</td>\n",
       "      <td>NaN</td>\n",
       "      <td>Web</td>\n",
       "      <td>...</td>\n",
       "      <td>No</td>\n",
       "      <td>856103</td>\n",
       "      <td>train</td>\n",
       "      <td>86400000000000</td>\n",
       "      <td>1</td>\n",
       "      <td>1</td>\n",
       "      <td>1</td>\n",
       "      <td>1</td>\n",
       "      <td>0</td>\n",
       "      <td>1</td>\n",
       "    </tr>\n",
       "    <tr>\n",
       "      <th>1</th>\n",
       "      <td>Bank account or service</td>\n",
       "      <td>(CD) Certificate of deposit</td>\n",
       "      <td>Making/receiving payments, sending money</td>\n",
       "      <td>NaN</td>\n",
       "      <td>NaN</td>\n",
       "      <td>NaN</td>\n",
       "      <td>PA</td>\n",
       "      <td>NaN</td>\n",
       "      <td>NaN</td>\n",
       "      <td>Referral</td>\n",
       "      <td>...</td>\n",
       "      <td>No</td>\n",
       "      <td>1034666</td>\n",
       "      <td>train</td>\n",
       "      <td>518400000000000</td>\n",
       "      <td>0</td>\n",
       "      <td>1</td>\n",
       "      <td>1</td>\n",
       "      <td>1</td>\n",
       "      <td>1</td>\n",
       "      <td>1</td>\n",
       "    </tr>\n",
       "    <tr>\n",
       "      <th>2</th>\n",
       "      <td>Credit reporting</td>\n",
       "      <td>NaN</td>\n",
       "      <td>Incorrect information on credit report</td>\n",
       "      <td>Account status</td>\n",
       "      <td>NaN</td>\n",
       "      <td>NaN</td>\n",
       "      <td>CA</td>\n",
       "      <td>NaN</td>\n",
       "      <td>NaN</td>\n",
       "      <td>Referral</td>\n",
       "      <td>...</td>\n",
       "      <td>No</td>\n",
       "      <td>756363</td>\n",
       "      <td>train</td>\n",
       "      <td>1814400000000000</td>\n",
       "      <td>1</td>\n",
       "      <td>0</td>\n",
       "      <td>1</td>\n",
       "      <td>1</td>\n",
       "      <td>1</td>\n",
       "      <td>1</td>\n",
       "    </tr>\n",
       "    <tr>\n",
       "      <th>3</th>\n",
       "      <td>Credit card</td>\n",
       "      <td>NaN</td>\n",
       "      <td>Billing statement</td>\n",
       "      <td>NaN</td>\n",
       "      <td>My credit card statement from US Bank, XXXX. X...</td>\n",
       "      <td>Company chooses not to provide a public response</td>\n",
       "      <td>GA</td>\n",
       "      <td>Older American</td>\n",
       "      <td>Consent provided</td>\n",
       "      <td>Web</td>\n",
       "      <td>...</td>\n",
       "      <td>No</td>\n",
       "      <td>1474177</td>\n",
       "      <td>train</td>\n",
       "      <td>0</td>\n",
       "      <td>1</td>\n",
       "      <td>1</td>\n",
       "      <td>0</td>\n",
       "      <td>0</td>\n",
       "      <td>0</td>\n",
       "      <td>0</td>\n",
       "    </tr>\n",
       "    <tr>\n",
       "      <th>4</th>\n",
       "      <td>Credit card</td>\n",
       "      <td>NaN</td>\n",
       "      <td>Transaction issue</td>\n",
       "      <td>NaN</td>\n",
       "      <td>NaN</td>\n",
       "      <td>NaN</td>\n",
       "      <td>MA</td>\n",
       "      <td>NaN</td>\n",
       "      <td>NaN</td>\n",
       "      <td>Web</td>\n",
       "      <td>...</td>\n",
       "      <td>No</td>\n",
       "      <td>1132572</td>\n",
       "      <td>train</td>\n",
       "      <td>691200000000000</td>\n",
       "      <td>1</td>\n",
       "      <td>1</td>\n",
       "      <td>1</td>\n",
       "      <td>1</td>\n",
       "      <td>1</td>\n",
       "      <td>1</td>\n",
       "    </tr>\n",
       "  </tbody>\n",
       "</table>\n",
       "<p>5 rows × 22 columns</p>\n",
       "</div>"
      ],
      "text/plain": [
       "                   Product                  Sub-product  \\\n",
       "0              Credit card                          NaN   \n",
       "1  Bank account or service  (CD) Certificate of deposit   \n",
       "2         Credit reporting                          NaN   \n",
       "3              Credit card                          NaN   \n",
       "4              Credit card                          NaN   \n",
       "\n",
       "                                      Issue       Sub-issue  \\\n",
       "0                         Billing statement             NaN   \n",
       "1  Making/receiving payments, sending money             NaN   \n",
       "2    Incorrect information on credit report  Account status   \n",
       "3                         Billing statement             NaN   \n",
       "4                         Transaction issue             NaN   \n",
       "\n",
       "                        Consumer complaint narrative  \\\n",
       "0                                                NaN   \n",
       "1                                                NaN   \n",
       "2                                                NaN   \n",
       "3  My credit card statement from US Bank, XXXX. X...   \n",
       "4                                                NaN   \n",
       "\n",
       "                            Company public response State            Tags  \\\n",
       "0                                               NaN    MI  Older American   \n",
       "1                                               NaN    PA             NaN   \n",
       "2                                               NaN    CA             NaN   \n",
       "3  Company chooses not to provide a public response    GA  Older American   \n",
       "4                                               NaN    MA             NaN   \n",
       "\n",
       "  Consumer consent provided? Submitted via  ... Consumer disputed?  \\\n",
       "0                        NaN           Web  ...                 No   \n",
       "1                        NaN      Referral  ...                 No   \n",
       "2                        NaN      Referral  ...                 No   \n",
       "3           Consent provided           Web  ...                 No   \n",
       "4                        NaN           Web  ...                 No   \n",
       "\n",
       "  Complaint ID   data          Diff_Day Sub_product_isNan  Sub_issue_isNan  \\\n",
       "0       856103  train    86400000000000                 1                1   \n",
       "1      1034666  train   518400000000000                 0                1   \n",
       "2       756363  train  1814400000000000                 1                0   \n",
       "3      1474177  train                 0                 1                1   \n",
       "4      1132572  train   691200000000000                 1                1   \n",
       "\n",
       "   Consumer_complaint_narrative_isNan  Company_public_response_isNan  \\\n",
       "0                                   1                              1   \n",
       "1                                   1                              1   \n",
       "2                                   1                              1   \n",
       "3                                   0                              0   \n",
       "4                                   1                              1   \n",
       "\n",
       "   Tags_isNan  Consumer_consent_provided_isNan  \n",
       "0           0                                1  \n",
       "1           1                                1  \n",
       "2           1                                1  \n",
       "3           0                                0  \n",
       "4           1                                1  \n",
       "\n",
       "[5 rows x 22 columns]"
      ]
     },
     "execution_count": 22,
     "metadata": {},
     "output_type": "execute_result"
    }
   ],
   "source": [
    "cd_all.head()"
   ]
  },
  {
   "cell_type": "code",
   "execution_count": 23,
   "metadata": {},
   "outputs": [],
   "source": [
    "for col in ['Sub-product','Sub-issue','Consumer complaint narrative','Company public response','Tags','Consumer consent provided?']:\n",
    "    cd_all.drop([col],1,inplace=True)"
   ]
  },
  {
   "cell_type": "code",
   "execution_count": 24,
   "metadata": {},
   "outputs": [
    {
     "data": {
      "text/plain": [
       "Product                               object\n",
       "Issue                                 object\n",
       "State                                 object\n",
       "Submitted via                         object\n",
       "Company response to consumer          object\n",
       "Timely response?                      object\n",
       "Consumer disputed?                    object\n",
       "Complaint ID                           int64\n",
       "data                                  object\n",
       "Diff_Day                               int64\n",
       "Sub_product_isNan                      int32\n",
       "Sub_issue_isNan                        int32\n",
       "Consumer_complaint_narrative_isNan     int32\n",
       "Company_public_response_isNan          int32\n",
       "Tags_isNan                             int32\n",
       "Consumer_consent_provided_isNan        int32\n",
       "dtype: object"
      ]
     },
     "execution_count": 24,
     "metadata": {},
     "output_type": "execute_result"
    }
   ],
   "source": [
    "cd_all.dtypes"
   ]
  },
  {
   "cell_type": "code",
   "execution_count": 25,
   "metadata": {},
   "outputs": [
    {
     "name": "stdout",
     "output_type": "stream",
     "text": [
      "Product : 12\n",
      "Issue : 95\n",
      "State : 62\n",
      "Submitted via : 6\n",
      "Company response to consumer : 7\n",
      "Timely response? : 2\n",
      "Consumer disputed? : 2\n",
      "data : 2\n"
     ]
    }
   ],
   "source": [
    "for col in cd_all.select_dtypes(['object']).columns:\n",
    "    print(col,':',cd_all[col].nunique())"
   ]
  },
  {
   "cell_type": "code",
   "execution_count": 26,
   "metadata": {},
   "outputs": [],
   "source": [
    "cd_all['Consumer disputed?']=np.where(cd_all['Consumer disputed?']==\"Yes\",1,0)"
   ]
  },
  {
   "cell_type": "code",
   "execution_count": 27,
   "metadata": {},
   "outputs": [],
   "source": [
    "k=cd_all['Issue'].value_counts()\n",
    "for val in k.axes[0][0:10]:\n",
    "    varname='Issue_'+val.replace(',','_').replace(' ','_')\n",
    "    cd_all[varname]=np.where(cd_all['Issue']==val,1,0)\n",
    "del cd_all['Issue']"
   ]
  },
  {
   "cell_type": "code",
   "execution_count": 28,
   "metadata": {},
   "outputs": [
    {
     "name": "stdout",
     "output_type": "stream",
     "text": [
      "Product : 12\n",
      "State : 62\n",
      "Submitted via : 6\n",
      "Company response to consumer : 7\n",
      "Timely response? : 2\n",
      "data : 2\n"
     ]
    }
   ],
   "source": [
    "for col in cd_all.select_dtypes(['object']).columns:\n",
    "    print(col,':',cd_all[col].nunique())"
   ]
  },
  {
   "cell_type": "code",
   "execution_count": 29,
   "metadata": {},
   "outputs": [],
   "source": [
    "k=cd_train['State'].value_counts()\n",
    "for val in k.axes[0][0:15]:\n",
    "    varname='State_'+val.replace(',','_').replace(' ','_')\n",
    "    cd_all[varname]=np.where(cd_all['State']==val,1,0)\n",
    "del cd_all['State']    "
   ]
  },
  {
   "cell_type": "code",
   "execution_count": 30,
   "metadata": {},
   "outputs": [
    {
     "data": {
      "text/plain": [
       "'State_WA'"
      ]
     },
     "execution_count": 30,
     "metadata": {},
     "output_type": "execute_result"
    }
   ],
   "source": [
    "varname"
   ]
  },
  {
   "cell_type": "code",
   "execution_count": 31,
   "metadata": {},
   "outputs": [],
   "source": [
    "for col in ['Product','Submitted via','Company response to consumer','Timely response?']:\n",
    "    \n",
    "    temp=pd.get_dummies(cd_all[col],prefix=col,drop_first=True)\n",
    "    cd_all=pd.concat([temp,cd_all],1)\n",
    "    cd_all.drop([col],1,inplace=True)"
   ]
  },
  {
   "cell_type": "code",
   "execution_count": 32,
   "metadata": {},
   "outputs": [
    {
     "data": {
      "text/plain": [
       "Timely response?_Yes                                             uint8\n",
       "Company response to consumer_Closed with explanation             uint8\n",
       "Company response to consumer_Closed with monetary relief         uint8\n",
       "Company response to consumer_Closed with non-monetary relief     uint8\n",
       "Company response to consumer_Closed with relief                  uint8\n",
       "Company response to consumer_Closed without relief               uint8\n",
       "Company response to consumer_Untimely response                   uint8\n",
       "Submitted via_Fax                                                uint8\n",
       "Submitted via_Phone                                              uint8\n",
       "Submitted via_Postal mail                                        uint8\n",
       "Submitted via_Referral                                           uint8\n",
       "Submitted via_Web                                                uint8\n",
       "Product_Consumer Loan                                            uint8\n",
       "Product_Credit card                                              uint8\n",
       "Product_Credit reporting                                         uint8\n",
       "Product_Debt collection                                          uint8\n",
       "Product_Money transfers                                          uint8\n",
       "Product_Mortgage                                                 uint8\n",
       "Product_Other financial service                                  uint8\n",
       "Product_Payday loan                                              uint8\n",
       "Product_Prepaid card                                             uint8\n",
       "Product_Student loan                                             uint8\n",
       "Product_Virtual currency                                         uint8\n",
       "Consumer disputed?                                               int32\n",
       "Complaint ID                                                     int64\n",
       "data                                                            object\n",
       "Diff_Day                                                         int64\n",
       "Sub_product_isNan                                                int32\n",
       "Sub_issue_isNan                                                  int32\n",
       "Consumer_complaint_narrative_isNan                               int32\n",
       "Company_public_response_isNan                                    int32\n",
       "Tags_isNan                                                       int32\n",
       "Consumer_consent_provided_isNan                                  int32\n",
       "Issue_Loan_modification_collection_foreclosure                   int32\n",
       "Issue_Incorrect_information_on_credit_report                     int32\n",
       "Issue_Loan_servicing__payments__escrow_account                   int32\n",
       "Issue_Cont'd_attempts_collect_debt_not_owed                      int32\n",
       "Issue_Account_opening__closing__or_management                    int32\n",
       "Issue_Disclosure_verification_of_debt                            int32\n",
       "Issue_Communication_tactics                                      int32\n",
       "Issue_Deposits_and_withdrawals                                   int32\n",
       "Issue_Application__originator__mortgage_broker                   int32\n",
       "Issue_Billing_disputes                                           int32\n",
       "State_CA                                                         int32\n",
       "State_FL                                                         int32\n",
       "State_TX                                                         int32\n",
       "State_NY                                                         int32\n",
       "State_GA                                                         int32\n",
       "State_NJ                                                         int32\n",
       "State_PA                                                         int32\n",
       "State_IL                                                         int32\n",
       "State_VA                                                         int32\n",
       "State_MD                                                         int32\n",
       "State_OH                                                         int32\n",
       "State_NC                                                         int32\n",
       "State_MI                                                         int32\n",
       "State_AZ                                                         int32\n",
       "State_WA                                                         int32\n",
       "dtype: object"
      ]
     },
     "execution_count": 32,
     "metadata": {},
     "output_type": "execute_result"
    }
   ],
   "source": [
    "cd_all.dtypes"
   ]
  },
  {
   "cell_type": "code",
   "execution_count": 33,
   "metadata": {},
   "outputs": [],
   "source": [
    "cd_all.drop(['Complaint ID'],1,inplace=True)"
   ]
  },
  {
   "cell_type": "code",
   "execution_count": 34,
   "metadata": {},
   "outputs": [
    {
     "data": {
      "text/plain": [
       "Timely response?_Yes                                             uint8\n",
       "Company response to consumer_Closed with explanation             uint8\n",
       "Company response to consumer_Closed with monetary relief         uint8\n",
       "Company response to consumer_Closed with non-monetary relief     uint8\n",
       "Company response to consumer_Closed with relief                  uint8\n",
       "Company response to consumer_Closed without relief               uint8\n",
       "Company response to consumer_Untimely response                   uint8\n",
       "Submitted via_Fax                                                uint8\n",
       "Submitted via_Phone                                              uint8\n",
       "Submitted via_Postal mail                                        uint8\n",
       "Submitted via_Referral                                           uint8\n",
       "Submitted via_Web                                                uint8\n",
       "Product_Consumer Loan                                            uint8\n",
       "Product_Credit card                                              uint8\n",
       "Product_Credit reporting                                         uint8\n",
       "Product_Debt collection                                          uint8\n",
       "Product_Money transfers                                          uint8\n",
       "Product_Mortgage                                                 uint8\n",
       "Product_Other financial service                                  uint8\n",
       "Product_Payday loan                                              uint8\n",
       "Product_Prepaid card                                             uint8\n",
       "Product_Student loan                                             uint8\n",
       "Product_Virtual currency                                         uint8\n",
       "Consumer disputed?                                               int32\n",
       "data                                                            object\n",
       "Diff_Day                                                         int64\n",
       "Sub_product_isNan                                                int32\n",
       "Sub_issue_isNan                                                  int32\n",
       "Consumer_complaint_narrative_isNan                               int32\n",
       "Company_public_response_isNan                                    int32\n",
       "Tags_isNan                                                       int32\n",
       "Consumer_consent_provided_isNan                                  int32\n",
       "Issue_Loan_modification_collection_foreclosure                   int32\n",
       "Issue_Incorrect_information_on_credit_report                     int32\n",
       "Issue_Loan_servicing__payments__escrow_account                   int32\n",
       "Issue_Cont'd_attempts_collect_debt_not_owed                      int32\n",
       "Issue_Account_opening__closing__or_management                    int32\n",
       "Issue_Disclosure_verification_of_debt                            int32\n",
       "Issue_Communication_tactics                                      int32\n",
       "Issue_Deposits_and_withdrawals                                   int32\n",
       "Issue_Application__originator__mortgage_broker                   int32\n",
       "Issue_Billing_disputes                                           int32\n",
       "State_CA                                                         int32\n",
       "State_FL                                                         int32\n",
       "State_TX                                                         int32\n",
       "State_NY                                                         int32\n",
       "State_GA                                                         int32\n",
       "State_NJ                                                         int32\n",
       "State_PA                                                         int32\n",
       "State_IL                                                         int32\n",
       "State_VA                                                         int32\n",
       "State_MD                                                         int32\n",
       "State_OH                                                         int32\n",
       "State_NC                                                         int32\n",
       "State_MI                                                         int32\n",
       "State_AZ                                                         int32\n",
       "State_WA                                                         int32\n",
       "dtype: object"
      ]
     },
     "execution_count": 34,
     "metadata": {},
     "output_type": "execute_result"
    }
   ],
   "source": [
    "cd_all.dtypes"
   ]
  },
  {
   "cell_type": "code",
   "execution_count": 35,
   "metadata": {},
   "outputs": [
    {
     "data": {
      "text/plain": [
       "Timely response?_Yes                                            0\n",
       "Company response to consumer_Closed with explanation            0\n",
       "Company response to consumer_Closed with monetary relief        0\n",
       "Company response to consumer_Closed with non-monetary relief    0\n",
       "Company response to consumer_Closed with relief                 0\n",
       "Company response to consumer_Closed without relief              0\n",
       "Company response to consumer_Untimely response                  0\n",
       "Submitted via_Fax                                               0\n",
       "Submitted via_Phone                                             0\n",
       "Submitted via_Postal mail                                       0\n",
       "Submitted via_Referral                                          0\n",
       "Submitted via_Web                                               0\n",
       "Product_Consumer Loan                                           0\n",
       "Product_Credit card                                             0\n",
       "Product_Credit reporting                                        0\n",
       "Product_Debt collection                                         0\n",
       "Product_Money transfers                                         0\n",
       "Product_Mortgage                                                0\n",
       "Product_Other financial service                                 0\n",
       "Product_Payday loan                                             0\n",
       "Product_Prepaid card                                            0\n",
       "Product_Student loan                                            0\n",
       "Product_Virtual currency                                        0\n",
       "Consumer disputed?                                              0\n",
       "data                                                            0\n",
       "Diff_Day                                                        0\n",
       "Sub_product_isNan                                               0\n",
       "Sub_issue_isNan                                                 0\n",
       "Consumer_complaint_narrative_isNan                              0\n",
       "Company_public_response_isNan                                   0\n",
       "Tags_isNan                                                      0\n",
       "Consumer_consent_provided_isNan                                 0\n",
       "Issue_Loan_modification_collection_foreclosure                  0\n",
       "Issue_Incorrect_information_on_credit_report                    0\n",
       "Issue_Loan_servicing__payments__escrow_account                  0\n",
       "Issue_Cont'd_attempts_collect_debt_not_owed                     0\n",
       "Issue_Account_opening__closing__or_management                   0\n",
       "Issue_Disclosure_verification_of_debt                           0\n",
       "Issue_Communication_tactics                                     0\n",
       "Issue_Deposits_and_withdrawals                                  0\n",
       "Issue_Application__originator__mortgage_broker                  0\n",
       "Issue_Billing_disputes                                          0\n",
       "State_CA                                                        0\n",
       "State_FL                                                        0\n",
       "State_TX                                                        0\n",
       "State_NY                                                        0\n",
       "State_GA                                                        0\n",
       "State_NJ                                                        0\n",
       "State_PA                                                        0\n",
       "State_IL                                                        0\n",
       "State_VA                                                        0\n",
       "State_MD                                                        0\n",
       "State_OH                                                        0\n",
       "State_NC                                                        0\n",
       "State_MI                                                        0\n",
       "State_AZ                                                        0\n",
       "State_WA                                                        0\n",
       "dtype: int64"
      ]
     },
     "execution_count": 35,
     "metadata": {},
     "output_type": "execute_result"
    }
   ],
   "source": [
    "cd_all.isnull().sum()"
   ]
  },
  {
   "cell_type": "code",
   "execution_count": 36,
   "metadata": {},
   "outputs": [
    {
     "data": {
      "text/plain": [
       "0    496596\n",
       "1    101431\n",
       "Name: Consumer disputed?, dtype: int64"
      ]
     },
     "execution_count": 36,
     "metadata": {},
     "output_type": "execute_result"
    }
   ],
   "source": [
    "cd_all['Consumer disputed?'].value_counts()\n"
   ]
  },
  {
   "cell_type": "code",
   "execution_count": 37,
   "metadata": {},
   "outputs": [],
   "source": [
    "cd_train1=cd_all[cd_all['data']=='train']\n",
    "del cd_train1['data']"
   ]
  },
  {
   "cell_type": "code",
   "execution_count": 38,
   "metadata": {},
   "outputs": [],
   "source": [
    "cd_test1=cd_all[cd_all['data']=='test']\n",
    "del cd_test1['data']"
   ]
  },
  {
   "cell_type": "code",
   "execution_count": 39,
   "metadata": {},
   "outputs": [],
   "source": [
    "cd_test1.drop(['Consumer disputed?'],axis=1,inplace=True) "
   ]
  },
  {
   "cell_type": "code",
   "execution_count": 40,
   "metadata": {},
   "outputs": [],
   "source": [
    "x_train=cd_train1.drop('Consumer disputed?',axis=1)\n",
    "y_train=cd_train1['Consumer disputed?']\n"
   ]
  },
  {
   "cell_type": "code",
   "execution_count": 41,
   "metadata": {},
   "outputs": [
    {
     "data": {
      "text/plain": [
       "Timely response?_Yes                                            0\n",
       "Company response to consumer_Closed with explanation            0\n",
       "Company response to consumer_Closed with monetary relief        0\n",
       "Company response to consumer_Closed with non-monetary relief    0\n",
       "Company response to consumer_Closed with relief                 0\n",
       "Company response to consumer_Closed without relief              0\n",
       "Company response to consumer_Untimely response                  0\n",
       "Submitted via_Fax                                               0\n",
       "Submitted via_Phone                                             0\n",
       "Submitted via_Postal mail                                       0\n",
       "Submitted via_Referral                                          0\n",
       "Submitted via_Web                                               0\n",
       "Product_Consumer Loan                                           0\n",
       "Product_Credit card                                             0\n",
       "Product_Credit reporting                                        0\n",
       "Product_Debt collection                                         0\n",
       "Product_Money transfers                                         0\n",
       "Product_Mortgage                                                0\n",
       "Product_Other financial service                                 0\n",
       "Product_Payday loan                                             0\n",
       "Product_Prepaid card                                            0\n",
       "Product_Student loan                                            0\n",
       "Product_Virtual currency                                        0\n",
       "Diff_Day                                                        0\n",
       "Sub_product_isNan                                               0\n",
       "Sub_issue_isNan                                                 0\n",
       "Consumer_complaint_narrative_isNan                              0\n",
       "Company_public_response_isNan                                   0\n",
       "Tags_isNan                                                      0\n",
       "Consumer_consent_provided_isNan                                 0\n",
       "Issue_Loan_modification_collection_foreclosure                  0\n",
       "Issue_Incorrect_information_on_credit_report                    0\n",
       "Issue_Loan_servicing__payments__escrow_account                  0\n",
       "Issue_Cont'd_attempts_collect_debt_not_owed                     0\n",
       "Issue_Account_opening__closing__or_management                   0\n",
       "Issue_Disclosure_verification_of_debt                           0\n",
       "Issue_Communication_tactics                                     0\n",
       "Issue_Deposits_and_withdrawals                                  0\n",
       "Issue_Application__originator__mortgage_broker                  0\n",
       "Issue_Billing_disputes                                          0\n",
       "State_CA                                                        0\n",
       "State_FL                                                        0\n",
       "State_TX                                                        0\n",
       "State_NY                                                        0\n",
       "State_GA                                                        0\n",
       "State_NJ                                                        0\n",
       "State_PA                                                        0\n",
       "State_IL                                                        0\n",
       "State_VA                                                        0\n",
       "State_MD                                                        0\n",
       "State_OH                                                        0\n",
       "State_NC                                                        0\n",
       "State_MI                                                        0\n",
       "State_AZ                                                        0\n",
       "State_WA                                                        0\n",
       "dtype: int64"
      ]
     },
     "execution_count": 41,
     "metadata": {},
     "output_type": "execute_result"
    }
   ],
   "source": [
    "x_train.isnull().sum()"
   ]
  },
  {
   "cell_type": "code",
   "execution_count": 42,
   "metadata": {},
   "outputs": [],
   "source": [
    "from sklearn.linear_model import LogisticRegression"
   ]
  },
  {
   "cell_type": "code",
   "execution_count": 43,
   "metadata": {},
   "outputs": [],
   "source": [
    "params={'class_weight':['balanced',None],\n",
    " 'penalty':['l1','l2'],\n",
    " 'C':np.linspace(0.01,1000,10)}\n"
   ]
  },
  {
   "cell_type": "code",
   "execution_count": 44,
   "metadata": {},
   "outputs": [],
   "source": [
    "model=LogisticRegression(fit_intercept=True)\n"
   ]
  },
  {
   "cell_type": "code",
   "execution_count": 45,
   "metadata": {},
   "outputs": [],
   "source": [
    "from sklearn.model_selection import GridSearchCV"
   ]
  },
  {
   "cell_type": "code",
   "execution_count": 46,
   "metadata": {},
   "outputs": [],
   "source": [
    "grid_search=GridSearchCV(model,param_grid=params,cv=5,scoring=\"roc_auc\")\n"
   ]
  },
  {
   "cell_type": "code",
   "execution_count": 47,
   "metadata": {},
   "outputs": [
    {
     "data": {
      "text/plain": [
       "GridSearchCV(cv=5, error_score=nan,\n",
       "             estimator=LogisticRegression(C=1.0, class_weight=None, dual=False,\n",
       "                                          fit_intercept=True,\n",
       "                                          intercept_scaling=1, l1_ratio=None,\n",
       "                                          max_iter=100, multi_class='auto',\n",
       "                                          n_jobs=None, penalty='l2',\n",
       "                                          random_state=None, solver='lbfgs',\n",
       "                                          tol=0.0001, verbose=0,\n",
       "                                          warm_start=False),\n",
       "             iid='deprecated', n_jobs=None,\n",
       "             param_grid={'C': array([1.0000e-02, 1.1112e+02, 2.2223e+02, 3.3334e+02, 4.4445e+02,\n",
       "       5.5556e+02, 6.6667e+02, 7.7778e+02, 8.8889e+02, 1.0000e+03]),\n",
       "                         'class_weight': ['balanced', None],\n",
       "                         'penalty': ['l1', 'l2']},\n",
       "             pre_dispatch='2*n_jobs', refit=True, return_train_score=False,\n",
       "             scoring='roc_auc', verbose=0)"
      ]
     },
     "execution_count": 47,
     "metadata": {},
     "output_type": "execute_result"
    }
   ],
   "source": [
    "grid_search.fit(x_train,y_train)"
   ]
  },
  {
   "cell_type": "code",
   "execution_count": 48,
   "metadata": {},
   "outputs": [
    {
     "data": {
      "text/plain": [
       "LogisticRegression(C=0.01, class_weight='balanced', dual=False,\n",
       "                   fit_intercept=True, intercept_scaling=1, l1_ratio=None,\n",
       "                   max_iter=100, multi_class='auto', n_jobs=None, penalty='l2',\n",
       "                   random_state=None, solver='lbfgs', tol=0.0001, verbose=0,\n",
       "                   warm_start=False)"
      ]
     },
     "execution_count": 48,
     "metadata": {},
     "output_type": "execute_result"
    }
   ],
   "source": [
    " grid_search.best_estimator_ \n"
   ]
  },
  {
   "cell_type": "code",
   "execution_count": 49,
   "metadata": {},
   "outputs": [],
   "source": [
    "logr=grid_search.best_estimator_\n"
   ]
  },
  {
   "cell_type": "code",
   "execution_count": 50,
   "metadata": {},
   "outputs": [
    {
     "ename": "IndentationError",
     "evalue": "expected an indented block (<ipython-input-50-ba79c88d1ef9>, line 3)",
     "output_type": "error",
     "traceback": [
      "\u001b[1;36m  File \u001b[1;32m\"<ipython-input-50-ba79c88d1ef9>\"\u001b[1;36m, line \u001b[1;32m3\u001b[0m\n\u001b[1;33m    candidates = np.flatnonzero(results['rank_test_score'] == i)\u001b[0m\n\u001b[1;37m             ^\u001b[0m\n\u001b[1;31mIndentationError\u001b[0m\u001b[1;31m:\u001b[0m expected an indented block\n"
     ]
    }
   ],
   "source": [
    "def report(results, n_top=3):\n",
    " for i in range(1, n_top + 1):\n",
    " candidates = np.flatnonzero(results['rank_test_score'] == i)\n",
    " for candidate in candidates:\n",
    " print(\"Model with rank: {0}\".format(i))\n",
    " print(\"Mean validation score: {0:.3f} (std: {1:.3f})\".format(\n",
    " results['mean_test_score'][candidate],\n",
    " results['std_test_score'][candidate]))\n",
    " print(\"Parameters: {0}\".format(results['params'][candidate]))\n",
    " print(\"\")\n"
   ]
  },
  {
   "cell_type": "code",
   "execution_count": 51,
   "metadata": {},
   "outputs": [
    {
     "data": {
      "text/plain": [
       "LogisticRegression(C=0.01, class_weight='balanced', dual=False,\n",
       "                   fit_intercept=True, intercept_scaling=1, l1_ratio=None,\n",
       "                   max_iter=100, multi_class='auto', n_jobs=None, penalty='l2',\n",
       "                   random_state=None, solver='lbfgs', tol=0.0001, verbose=0,\n",
       "                   warm_start=False)"
      ]
     },
     "execution_count": 51,
     "metadata": {},
     "output_type": "execute_result"
    }
   ],
   "source": [
    "logr.fit(x_train,y_train)"
   ]
  },
  {
   "cell_type": "code",
   "execution_count": 52,
   "metadata": {},
   "outputs": [],
   "source": [
    "train_score=logr.predict_proba(x_train)[:,1]"
   ]
  },
  {
   "cell_type": "code",
   "execution_count": 53,
   "metadata": {},
   "outputs": [
    {
     "data": {
      "text/plain": [
       "array([0.49896033, 0.49376228, 0.47818072, ..., 0.5       , 0.49688102,\n",
       "       0.5       ])"
      ]
     },
     "execution_count": 53,
     "metadata": {},
     "output_type": "execute_result"
    }
   ],
   "source": [
    "train_score"
   ]
  },
  {
   "cell_type": "code",
   "execution_count": 56,
   "metadata": {},
   "outputs": [
    {
     "data": {
      "text/plain": [
       "array([0.50103967, 0.5       , 0.49896033, ..., 0.49688102, 0.49896033,\n",
       "       0.5       ])"
      ]
     },
     "execution_count": 56,
     "metadata": {},
     "output_type": "execute_result"
    }
   ],
   "source": [
    "test_score=logr.predict_proba(cd_test1)[:,1]\n",
    "test_score\n"
   ]
  },
  {
   "cell_type": "code",
   "execution_count": null,
   "metadata": {},
   "outputs": [],
   "source": [
    "pd.DataFrame(test_score).to_csv(\"mysubmission.csv\",index=False)"
   ]
  },
  {
   "cell_type": "code",
   "execution_count": 57,
   "metadata": {},
   "outputs": [
    {
     "data": {
      "text/plain": [
       "array([0.01, 0.02, 0.03, 0.04, 0.05, 0.06, 0.07, 0.08, 0.09, 0.1 , 0.11,\n",
       "       0.12, 0.13, 0.14, 0.15, 0.16, 0.17, 0.18, 0.19, 0.2 , 0.21, 0.22,\n",
       "       0.23, 0.24, 0.25, 0.26, 0.27, 0.28, 0.29, 0.3 , 0.31, 0.32, 0.33,\n",
       "       0.34, 0.35, 0.36, 0.37, 0.38, 0.39, 0.4 , 0.41, 0.42, 0.43, 0.44,\n",
       "       0.45, 0.46, 0.47, 0.48, 0.49, 0.5 , 0.51, 0.52, 0.53, 0.54, 0.55,\n",
       "       0.56, 0.57, 0.58, 0.59, 0.6 , 0.61, 0.62, 0.63, 0.64, 0.65, 0.66,\n",
       "       0.67, 0.68, 0.69, 0.7 , 0.71, 0.72, 0.73, 0.74, 0.75, 0.76, 0.77,\n",
       "       0.78, 0.79, 0.8 , 0.81, 0.82, 0.83, 0.84, 0.85, 0.86, 0.87, 0.88,\n",
       "       0.89, 0.9 , 0.91, 0.92, 0.93, 0.94, 0.95, 0.96, 0.97, 0.98, 0.99])"
      ]
     },
     "execution_count": 57,
     "metadata": {},
     "output_type": "execute_result"
    }
   ],
   "source": [
    "cutoffs=np.linspace(0.01,0.99,99)\n",
    "cutoffs\n"
   ]
  },
  {
   "cell_type": "code",
   "execution_count": 58,
   "metadata": {},
   "outputs": [
    {
     "name": "stdout",
     "output_type": "stream",
     "text": [
      "[0 1]\n"
     ]
    }
   ],
   "source": [
    " train_score=logr.predict_proba(x_train)[:,1]\n",
    "real=y_train\n",
    "print(logr.classes_) "
   ]
  },
  {
   "cell_type": "code",
   "execution_count": 59,
   "metadata": {},
   "outputs": [],
   "source": [
    "from sklearn.metrics import fbeta_score\n"
   ]
  },
  {
   "cell_type": "code",
   "execution_count": 60,
   "metadata": {},
   "outputs": [],
   "source": [
    "KS_all=[]\n",
    "for cutoff in cutoffs:\n",
    "\n",
    " predicted=(train_score>cutoff).astype(int)\n",
    " TP=((predicted==1) & (real==1)).sum()\n",
    " TN=((predicted==0) & (real==0)).sum()\n",
    " FP=((predicted==1) & (real==0)).sum()\n",
    " FN=((predicted==0) & (real==1)).sum()\n",
    "\n",
    " P=TP+FN\n",
    " N=TN+FP\n",
    "\n",
    "\n",
    " KS=(TP/P)-(FP/N)\n",
    "\n",
    " KS_all.append(KS)\n"
   ]
  },
  {
   "cell_type": "code",
   "execution_count": 61,
   "metadata": {},
   "outputs": [
    {
     "data": {
      "text/plain": [
       "[(0.01, 0.0),\n",
       " (0.02, 2.6525902543372837e-06),\n",
       " (0.03, 2.6525902543372837e-06),\n",
       " (0.04, 5.30518050878559e-06),\n",
       " (0.05, 7.957770763122873e-06),\n",
       " (0.060000000000000005, 1.3262951271908463e-05),\n",
       " (0.06999999999999999, 4.15547454757359e-06),\n",
       " (0.08, 2.5376196582604926e-05),\n",
       " (0.09, 5.455468938087016e-05),\n",
       " (0.09999999999999999, 5.00009510185917e-05),\n",
       " (0.11, 6.061131203616288e-05),\n",
       " (0.12, 6.856908279928575e-05),\n",
       " (0.13, 5.6809015820613595e-05),\n",
       " (0.14, 5.946160607495088e-05),\n",
       " (0.15000000000000002, 5.490786771278344e-05),\n",
       " (0.16, 5.831190011373888e-05),\n",
       " (0.17, 8.48378026575558e-05),\n",
       " (0.18000000000000002, 7.382917782539078e-05),\n",
       " (0.19, 9.845393226137755e-05),\n",
       " (0.2, 9.275048793799812e-05),\n",
       " (0.21000000000000002, 0.00010030999488641612),\n",
       " (0.22, 7.754130307546792e-05),\n",
       " (0.23, 0.00011542900878347417),\n",
       " (0.24000000000000002, 0.00010327067798998613),\n",
       " (0.25, 0.00014681674253869126),\n",
       " (0.26, 0.0002286036911272049),\n",
       " (0.27, 0.0002907178874564931),\n",
       " (0.28, 0.00041569772226168755),\n",
       " (0.29000000000000004, 0.000581172767546434),\n",
       " (0.3, 0.0005926172361462312),\n",
       " (0.31, 0.0007954464668762373),\n",
       " (0.32, 0.0009171951056813343),\n",
       " (0.33, 0.0009753266638642399),\n",
       " (0.34, 0.0010300992751287597),\n",
       " (0.35000000000000003, 0.0011682518902403904),\n",
       " (0.36000000000000004, 0.0012098066357157933),\n",
       " (0.37, 0.001213075411668596),\n",
       " (0.38, 0.0012075898892288661),\n",
       " (0.39, 0.00129423866902878),\n",
       " (0.4, 0.001489245385443816),\n",
       " (0.41000000000000003, 0.0016166974685724034),\n",
       " (0.42000000000000004, 0.0017421582326279106),\n",
       " (0.43, 0.001875704518364829),\n",
       " (0.44, 0.0021401970905967627),\n",
       " (0.45, 0.0030921012969987727),\n",
       " (0.46, 0.005776778188574583),\n",
       " (0.47000000000000003, 0.008928010429906097),\n",
       " (0.48000000000000004, 0.015468005686186226),\n",
       " (0.49, 0.02559654254328958),\n",
       " (0.5, 0.00043672288209270493),\n",
       " (0.51, 0.0),\n",
       " (0.52, 0.0),\n",
       " (0.53, 0.0),\n",
       " (0.54, 0.0),\n",
       " (0.55, 0.0),\n",
       " (0.56, 0.0),\n",
       " (0.5700000000000001, 0.0),\n",
       " (0.5800000000000001, 0.0),\n",
       " (0.59, 0.0),\n",
       " (0.6, 0.0),\n",
       " (0.61, 0.0),\n",
       " (0.62, 0.0),\n",
       " (0.63, 0.0),\n",
       " (0.64, 0.0),\n",
       " (0.65, 0.0),\n",
       " (0.66, 0.0),\n",
       " (0.67, 0.0),\n",
       " (0.68, 0.0),\n",
       " (0.6900000000000001, 0.0),\n",
       " (0.7000000000000001, 0.0),\n",
       " (0.7100000000000001, 0.0),\n",
       " (0.72, 0.0),\n",
       " (0.73, 0.0),\n",
       " (0.74, 0.0),\n",
       " (0.75, 0.0),\n",
       " (0.76, 0.0),\n",
       " (0.77, 0.0),\n",
       " (0.78, 0.0),\n",
       " (0.79, 0.0),\n",
       " (0.8, 0.0),\n",
       " (0.81, 0.0),\n",
       " (0.8200000000000001, 0.0),\n",
       " (0.8300000000000001, 0.0),\n",
       " (0.8400000000000001, 0.0),\n",
       " (0.85, 0.0),\n",
       " (0.86, 0.0),\n",
       " (0.87, 0.0),\n",
       " (0.88, 0.0),\n",
       " (0.89, 0.0),\n",
       " (0.9, 0.0),\n",
       " (0.91, 0.0),\n",
       " (0.92, 0.0),\n",
       " (0.93, 0.0),\n",
       " (0.9400000000000001, 0.0),\n",
       " (0.9500000000000001, 0.0),\n",
       " (0.9600000000000001, 0.0),\n",
       " (0.97, 0.0),\n",
       " (0.98, 0.0),\n",
       " (0.99, 0.0)]"
      ]
     },
     "execution_count": 61,
     "metadata": {},
     "output_type": "execute_result"
    }
   ],
   "source": [
    "list(zip(cutoffs,KS_all))"
   ]
  },
  {
   "cell_type": "code",
   "execution_count": 62,
   "metadata": {},
   "outputs": [
    {
     "data": {
      "text/plain": [
       "0.49"
      ]
     },
     "execution_count": 62,
     "metadata": {},
     "output_type": "execute_result"
    }
   ],
   "source": [
    "mycutoff=cutoffs[KS_all==max(KS_all)][0]\n",
    "mycutoff "
   ]
  },
  {
   "cell_type": "code",
   "execution_count": 63,
   "metadata": {},
   "outputs": [
    {
     "data": {
      "text/plain": [
       "array([0.50103967, 0.5       , 0.49896033, ..., 0.49688102, 0.49896033,\n",
       "       0.5       ])"
      ]
     },
     "execution_count": 63,
     "metadata": {},
     "output_type": "execute_result"
    }
   ],
   "source": [
    "test_score=logr.predict_proba(cd_test1)[:,1]\n",
    "test_score"
   ]
  },
  {
   "cell_type": "code",
   "execution_count": 65,
   "metadata": {},
   "outputs": [
    {
     "data": {
      "text/plain": [
       "array([1, 1, 1, ..., 1, 1, 1])"
      ]
     },
     "execution_count": 65,
     "metadata": {},
     "output_type": "execute_result"
    }
   ],
   "source": [
    "test_classes=(test_score>mycutoff).astype(int)\n",
    "test_classes\n"
   ]
  },
  {
   "cell_type": "code",
   "execution_count": null,
   "metadata": {},
   "outputs": [],
   "source": [
    "pd.DataFrame(test_classes).to_csv(\"mysubmission.csv\",index=False)"
   ]
  }
 ],
 "metadata": {
  "kernelspec": {
   "display_name": "Python 3",
   "language": "python",
   "name": "python3"
  },
  "language_info": {
   "codemirror_mode": {
    "name": "ipython",
    "version": 3
   },
   "file_extension": ".py",
   "mimetype": "text/x-python",
   "name": "python",
   "nbconvert_exporter": "python",
   "pygments_lexer": "ipython3",
   "version": "3.7.6"
  }
 },
 "nbformat": 4,
 "nbformat_minor": 4
}
